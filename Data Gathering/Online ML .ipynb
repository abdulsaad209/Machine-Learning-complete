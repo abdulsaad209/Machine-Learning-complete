{
 "cells": [
  {
   "cell_type": "code",
   "execution_count": 1,
   "id": "2df632c7",
   "metadata": {},
   "outputs": [
    {
     "name": "stdout",
     "output_type": "stream",
     "text": [
      "0.0024764537811279297\n"
     ]
    }
   ],
   "source": [
    "import numpy as np\n",
    "from sklearn import linear_model\n",
    "\n",
    "n_samples, n_features = 1, 500\n",
    "\n",
    "y = np.random.randn(n_samples)\n",
    "X = np.random.randn(n_samples, n_features)\n",
    "\n",
    "clf = linear_model.SGDRegressor()\n",
    "\n",
    "import time\n",
    "\n",
    "start_time = time.time()\n",
    "\n",
    "clf.partial_fit(X, y) # we use partial fit function versus fit function\n",
    "\n",
    "elapsed_time = time.time() - start_time\n",
    "\n",
    "print(elapsed_time)"
   ]
  },
  {
   "cell_type": "code",
   "execution_count": 2,
   "id": "93a12223",
   "metadata": {},
   "outputs": [],
   "source": [
    "y = np.random.randn(n_samples)\n",
    "X = np.random.randn(n_samples, n_features)"
   ]
  },
  {
   "cell_type": "code",
   "execution_count": 3,
   "id": "2a536c1c",
   "metadata": {},
   "outputs": [
    {
     "data": {
      "text/plain": [
       "SGDRegressor()"
      ]
     },
     "execution_count": 3,
     "metadata": {},
     "output_type": "execute_result"
    }
   ],
   "source": [
    "clf.partial_fit(X, y)"
   ]
  },
  {
   "cell_type": "markdown",
   "id": "26fec878",
   "metadata": {},
   "source": [
    "[River Library for Online ML](https://riverml.xyz/latest/)\n",
    "\n",
    "[Vowpal Wabbit](https://vowpalwabbit.org/)<= It is useful for Rienforcement Learning but there is also an option of Online ML"
   ]
  },
  {
   "cell_type": "markdown",
   "id": "d3f37297",
   "metadata": {},
   "source": [
    "<img src='Dataset/batch VS online learning.png' width=700 />"
   ]
  },
  {
   "cell_type": "code",
   "execution_count": null,
   "id": "2824e5f7",
   "metadata": {},
   "outputs": [],
   "source": []
  }
 ],
 "metadata": {
  "kernelspec": {
   "display_name": "Python 3",
   "language": "python",
   "name": "python3"
  },
  "language_info": {
   "codemirror_mode": {
    "name": "ipython",
    "version": 3
   },
   "file_extension": ".py",
   "mimetype": "text/x-python",
   "name": "python",
   "nbconvert_exporter": "python",
   "pygments_lexer": "ipython3",
   "version": "3.8.11"
  }
 },
 "nbformat": 4,
 "nbformat_minor": 5
}
