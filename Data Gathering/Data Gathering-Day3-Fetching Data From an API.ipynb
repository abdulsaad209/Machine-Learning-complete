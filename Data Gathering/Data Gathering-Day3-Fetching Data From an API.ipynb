{
 "cells": [
  {
   "cell_type": "markdown",
   "id": "1653a051",
   "metadata": {},
   "source": [
    "## ***What is API***\n",
    "API is the acronym for Application Programming Interface, which is a software intermediary that allows two applications to talk to each other. Each time you use an app like Facebook, send an instant message, or check the weather on your phone, you're using an API."
   ]
  },
  {
   "cell_type": "code",
   "execution_count": 1,
   "id": "b4df1c7c",
   "metadata": {},
   "outputs": [],
   "source": [
    "# Now i just import the top rated movies DATA from TMDB website through API"
   ]
  },
  {
   "cell_type": "markdown",
   "id": "7f71b553",
   "metadata": {},
   "source": [
    "I just select from this website only these columns\n",
    "* id\n",
    "* title\n",
    "* release_date\n",
    "* overview\n",
    "* popularity\n",
    "* vote_average\n",
    "* vote_count"
   ]
  },
  {
   "cell_type": "code",
   "execution_count": 2,
   "id": "b3bf7621",
   "metadata": {},
   "outputs": [],
   "source": [
    "# there are 9179 top rated movies\n",
    "# so my data shape will be (9179,7)\n",
    "# so i fetch the data by hitting the API 459 times because the total pages are in API is 459\n",
    "# so my loop will run 459 times"
   ]
  },
  {
   "cell_type": "code",
   "execution_count": 3,
   "id": "2971ac3b",
   "metadata": {},
   "outputs": [],
   "source": [
    "# so here i need two libraries\n",
    "import pandas as pd\n",
    "import requests"
   ]
  },
  {
   "cell_type": "code",
   "execution_count": 4,
   "id": "7f03fbce",
   "metadata": {},
   "outputs": [
    {
     "data": {
      "text/plain": [
       "<Response [200]>"
      ]
     },
     "execution_count": 4,
     "metadata": {},
     "output_type": "execute_result"
    }
   ],
   "source": [
    "requests.get('https://api.themoviedb.org/3/movie/top_rated?api_key=62a38daa177423f6c28124fce8efce47&language=en-US&page=1')"
   ]
  },
  {
   "cell_type": "code",
   "execution_count": 5,
   "id": "5bcec247",
   "metadata": {},
   "outputs": [],
   "source": [
    "# so here response =200 means everything is ok  if it is = 404 it's means the permission is denied to fetching this\n",
    "# website and = 500 means server is down"
   ]
  },
  {
   "cell_type": "code",
   "execution_count": 6,
   "id": "c913b99c",
   "metadata": {},
   "outputs": [],
   "source": [
    "response = requests.get('https://api.themoviedb.org/3/movie/top_rated?api_key=62a38daa177423f6c28124fce8efce47&language=en-US&page=1')"
   ]
  },
  {
   "cell_type": "code",
   "execution_count": 7,
   "id": "198c4e4c",
   "metadata": {},
   "outputs": [],
   "source": [
    "temp_df = pd.DataFrame(response.json()['results'])[['id','title','release_date','popularity','overview','vote_average','vote_count']]\n",
    "# here i just need result list so i just call it in separate list and also convert it into DataFrame formate"
   ]
  },
  {
   "cell_type": "code",
   "execution_count": 8,
   "id": "39db27be",
   "metadata": {},
   "outputs": [
    {
     "data": {
      "text/html": [
       "<div>\n",
       "<style scoped>\n",
       "    .dataframe tbody tr th:only-of-type {\n",
       "        vertical-align: middle;\n",
       "    }\n",
       "\n",
       "    .dataframe tbody tr th {\n",
       "        vertical-align: top;\n",
       "    }\n",
       "\n",
       "    .dataframe thead th {\n",
       "        text-align: right;\n",
       "    }\n",
       "</style>\n",
       "<table border=\"1\" class=\"dataframe\">\n",
       "  <thead>\n",
       "    <tr style=\"text-align: right;\">\n",
       "      <th></th>\n",
       "      <th>id</th>\n",
       "      <th>title</th>\n",
       "      <th>release_date</th>\n",
       "      <th>popularity</th>\n",
       "      <th>overview</th>\n",
       "      <th>vote_average</th>\n",
       "      <th>vote_count</th>\n",
       "    </tr>\n",
       "  </thead>\n",
       "  <tbody>\n",
       "    <tr>\n",
       "      <th>0</th>\n",
       "      <td>19404</td>\n",
       "      <td>Dilwale Dulhania Le Jayenge</td>\n",
       "      <td>1995-10-20</td>\n",
       "      <td>26.358</td>\n",
       "      <td>Raj is a rich, carefree, happy-go-lucky second...</td>\n",
       "      <td>8.7</td>\n",
       "      <td>3152</td>\n",
       "    </tr>\n",
       "    <tr>\n",
       "      <th>1</th>\n",
       "      <td>278</td>\n",
       "      <td>The Shawshank Redemption</td>\n",
       "      <td>1994-09-23</td>\n",
       "      <td>72.926</td>\n",
       "      <td>Framed in the 1940s for the double murder of h...</td>\n",
       "      <td>8.7</td>\n",
       "      <td>19798</td>\n",
       "    </tr>\n",
       "    <tr>\n",
       "      <th>2</th>\n",
       "      <td>238</td>\n",
       "      <td>The Godfather</td>\n",
       "      <td>1972-03-14</td>\n",
       "      <td>58.581</td>\n",
       "      <td>Spanning the years 1945 to 1955, a chronicle o...</td>\n",
       "      <td>8.7</td>\n",
       "      <td>14849</td>\n",
       "    </tr>\n",
       "    <tr>\n",
       "      <th>3</th>\n",
       "      <td>724089</td>\n",
       "      <td>Gabriel's Inferno Part II</td>\n",
       "      <td>2020-07-31</td>\n",
       "      <td>8.628</td>\n",
       "      <td>Professor Gabriel Emerson finally learns the t...</td>\n",
       "      <td>8.7</td>\n",
       "      <td>1308</td>\n",
       "    </tr>\n",
       "    <tr>\n",
       "      <th>4</th>\n",
       "      <td>283566</td>\n",
       "      <td>Evangelion: 3.0+1.0 Thrice Upon a Time</td>\n",
       "      <td>2021-03-08</td>\n",
       "      <td>217.077</td>\n",
       "      <td>In the aftermath of the Fourth Impact, strande...</td>\n",
       "      <td>8.7</td>\n",
       "      <td>324</td>\n",
       "    </tr>\n",
       "  </tbody>\n",
       "</table>\n",
       "</div>"
      ],
      "text/plain": [
       "       id                                   title release_date  popularity  \\\n",
       "0   19404             Dilwale Dulhania Le Jayenge   1995-10-20      26.358   \n",
       "1     278                The Shawshank Redemption   1994-09-23      72.926   \n",
       "2     238                           The Godfather   1972-03-14      58.581   \n",
       "3  724089               Gabriel's Inferno Part II   2020-07-31       8.628   \n",
       "4  283566  Evangelion: 3.0+1.0 Thrice Upon a Time   2021-03-08     217.077   \n",
       "\n",
       "                                            overview  vote_average  vote_count  \n",
       "0  Raj is a rich, carefree, happy-go-lucky second...           8.7        3152  \n",
       "1  Framed in the 1940s for the double murder of h...           8.7       19798  \n",
       "2  Spanning the years 1945 to 1955, a chronicle o...           8.7       14849  \n",
       "3  Professor Gabriel Emerson finally learns the t...           8.7        1308  \n",
       "4  In the aftermath of the Fourth Impact, strande...           8.7         324  "
      ]
     },
     "execution_count": 8,
     "metadata": {},
     "output_type": "execute_result"
    }
   ],
   "source": [
    "temp_df.head()"
   ]
  },
  {
   "cell_type": "code",
   "execution_count": 9,
   "id": "f4b0dac4",
   "metadata": {},
   "outputs": [],
   "source": [
    "# now i create a empty dataframe\n",
    "df = pd.DataFrame()"
   ]
  },
  {
   "cell_type": "code",
   "execution_count": 10,
   "id": "910672a3",
   "metadata": {},
   "outputs": [],
   "source": [
    "# now i get the data of all pages by just changing the page number from URL as i \n",
    "for i in range(1,460):\n",
    "    response = requests.get('https://api.themoviedb.org/3/movie/top_rated?api_key=62a38daa177423f6c28124fce8efce47&language=en-US&page={}'.format(i))\n",
    "    temp_df = pd.DataFrame(response.json()['results'])[['id','title','release_date','popularity','overview','vote_average','vote_count']]\n",
    "    df = df.append(temp_df, ignore_index=True)"
   ]
  },
  {
   "cell_type": "code",
   "execution_count": 13,
   "id": "de1ef167",
   "metadata": {},
   "outputs": [
    {
     "data": {
      "text/html": [
       "<div>\n",
       "<style scoped>\n",
       "    .dataframe tbody tr th:only-of-type {\n",
       "        vertical-align: middle;\n",
       "    }\n",
       "\n",
       "    .dataframe tbody tr th {\n",
       "        vertical-align: top;\n",
       "    }\n",
       "\n",
       "    .dataframe thead th {\n",
       "        text-align: right;\n",
       "    }\n",
       "</style>\n",
       "<table border=\"1\" class=\"dataframe\">\n",
       "  <thead>\n",
       "    <tr style=\"text-align: right;\">\n",
       "      <th></th>\n",
       "      <th>id</th>\n",
       "      <th>title</th>\n",
       "      <th>release_date</th>\n",
       "      <th>popularity</th>\n",
       "      <th>overview</th>\n",
       "      <th>vote_average</th>\n",
       "      <th>vote_count</th>\n",
       "    </tr>\n",
       "  </thead>\n",
       "  <tbody>\n",
       "    <tr>\n",
       "      <th>0</th>\n",
       "      <td>19404</td>\n",
       "      <td>Dilwale Dulhania Le Jayenge</td>\n",
       "      <td>1995-10-20</td>\n",
       "      <td>26.358</td>\n",
       "      <td>Raj is a rich, carefree, happy-go-lucky second...</td>\n",
       "      <td>8.7</td>\n",
       "      <td>3152</td>\n",
       "    </tr>\n",
       "    <tr>\n",
       "      <th>1</th>\n",
       "      <td>278</td>\n",
       "      <td>The Shawshank Redemption</td>\n",
       "      <td>1994-09-23</td>\n",
       "      <td>72.926</td>\n",
       "      <td>Framed in the 1940s for the double murder of h...</td>\n",
       "      <td>8.7</td>\n",
       "      <td>19798</td>\n",
       "    </tr>\n",
       "    <tr>\n",
       "      <th>2</th>\n",
       "      <td>238</td>\n",
       "      <td>The Godfather</td>\n",
       "      <td>1972-03-14</td>\n",
       "      <td>58.581</td>\n",
       "      <td>Spanning the years 1945 to 1955, a chronicle o...</td>\n",
       "      <td>8.7</td>\n",
       "      <td>14849</td>\n",
       "    </tr>\n",
       "    <tr>\n",
       "      <th>3</th>\n",
       "      <td>724089</td>\n",
       "      <td>Gabriel's Inferno Part II</td>\n",
       "      <td>2020-07-31</td>\n",
       "      <td>8.628</td>\n",
       "      <td>Professor Gabriel Emerson finally learns the t...</td>\n",
       "      <td>8.7</td>\n",
       "      <td>1308</td>\n",
       "    </tr>\n",
       "    <tr>\n",
       "      <th>4</th>\n",
       "      <td>283566</td>\n",
       "      <td>Evangelion: 3.0+1.0 Thrice Upon a Time</td>\n",
       "      <td>2021-03-08</td>\n",
       "      <td>217.077</td>\n",
       "      <td>In the aftermath of the Fourth Impact, strande...</td>\n",
       "      <td>8.7</td>\n",
       "      <td>324</td>\n",
       "    </tr>\n",
       "    <tr>\n",
       "      <th>...</th>\n",
       "      <td>...</td>\n",
       "      <td>...</td>\n",
       "      <td>...</td>\n",
       "      <td>...</td>\n",
       "      <td>...</td>\n",
       "      <td>...</td>\n",
       "      <td>...</td>\n",
       "    </tr>\n",
       "    <tr>\n",
       "      <th>9174</th>\n",
       "      <td>13805</td>\n",
       "      <td>Disaster Movie</td>\n",
       "      <td>2008-08-29</td>\n",
       "      <td>16.574</td>\n",
       "      <td>The filmmaking team behind the hits \"Scary Mov...</td>\n",
       "      <td>3.2</td>\n",
       "      <td>758</td>\n",
       "    </tr>\n",
       "    <tr>\n",
       "      <th>9175</th>\n",
       "      <td>5491</td>\n",
       "      <td>Battlefield Earth</td>\n",
       "      <td>2000-05-12</td>\n",
       "      <td>10.197</td>\n",
       "      <td>In the year 3000, man is no match for the Psyc...</td>\n",
       "      <td>3.2</td>\n",
       "      <td>603</td>\n",
       "    </tr>\n",
       "    <tr>\n",
       "      <th>9176</th>\n",
       "      <td>11059</td>\n",
       "      <td>House of the Dead</td>\n",
       "      <td>2003-04-11</td>\n",
       "      <td>14.588</td>\n",
       "      <td>Set on an island off the coast, a techno rave ...</td>\n",
       "      <td>3.1</td>\n",
       "      <td>275</td>\n",
       "    </tr>\n",
       "    <tr>\n",
       "      <th>9177</th>\n",
       "      <td>14164</td>\n",
       "      <td>Dragonball Evolution</td>\n",
       "      <td>2009-03-12</td>\n",
       "      <td>47.633</td>\n",
       "      <td>The young warrior Son Goku sets out on a quest...</td>\n",
       "      <td>2.8</td>\n",
       "      <td>1535</td>\n",
       "    </tr>\n",
       "    <tr>\n",
       "      <th>9178</th>\n",
       "      <td>40016</td>\n",
       "      <td>Birdemic: Shock and Terror</td>\n",
       "      <td>2010-02-27</td>\n",
       "      <td>6.333</td>\n",
       "      <td>A platoon of eagles and vultures attacks the r...</td>\n",
       "      <td>2.1</td>\n",
       "      <td>231</td>\n",
       "    </tr>\n",
       "  </tbody>\n",
       "</table>\n",
       "<p>9179 rows × 7 columns</p>\n",
       "</div>"
      ],
      "text/plain": [
       "          id                                   title release_date  popularity  \\\n",
       "0      19404             Dilwale Dulhania Le Jayenge   1995-10-20      26.358   \n",
       "1        278                The Shawshank Redemption   1994-09-23      72.926   \n",
       "2        238                           The Godfather   1972-03-14      58.581   \n",
       "3     724089               Gabriel's Inferno Part II   2020-07-31       8.628   \n",
       "4     283566  Evangelion: 3.0+1.0 Thrice Upon a Time   2021-03-08     217.077   \n",
       "...      ...                                     ...          ...         ...   \n",
       "9174   13805                          Disaster Movie   2008-08-29      16.574   \n",
       "9175    5491                       Battlefield Earth   2000-05-12      10.197   \n",
       "9176   11059                       House of the Dead   2003-04-11      14.588   \n",
       "9177   14164                    Dragonball Evolution   2009-03-12      47.633   \n",
       "9178   40016              Birdemic: Shock and Terror   2010-02-27       6.333   \n",
       "\n",
       "                                               overview  vote_average  \\\n",
       "0     Raj is a rich, carefree, happy-go-lucky second...           8.7   \n",
       "1     Framed in the 1940s for the double murder of h...           8.7   \n",
       "2     Spanning the years 1945 to 1955, a chronicle o...           8.7   \n",
       "3     Professor Gabriel Emerson finally learns the t...           8.7   \n",
       "4     In the aftermath of the Fourth Impact, strande...           8.7   \n",
       "...                                                 ...           ...   \n",
       "9174  The filmmaking team behind the hits \"Scary Mov...           3.2   \n",
       "9175  In the year 3000, man is no match for the Psyc...           3.2   \n",
       "9176  Set on an island off the coast, a techno rave ...           3.1   \n",
       "9177  The young warrior Son Goku sets out on a quest...           2.8   \n",
       "9178  A platoon of eagles and vultures attacks the r...           2.1   \n",
       "\n",
       "      vote_count  \n",
       "0           3152  \n",
       "1          19798  \n",
       "2          14849  \n",
       "3           1308  \n",
       "4            324  \n",
       "...          ...  \n",
       "9174         758  \n",
       "9175         603  \n",
       "9176         275  \n",
       "9177        1535  \n",
       "9178         231  \n",
       "\n",
       "[9179 rows x 7 columns]"
      ]
     },
     "execution_count": 13,
     "metadata": {},
     "output_type": "execute_result"
    }
   ],
   "source": [
    "df"
   ]
  },
  {
   "cell_type": "code",
   "execution_count": 14,
   "id": "055fdb5e",
   "metadata": {},
   "outputs": [
    {
     "data": {
      "text/plain": [
       "(9179, 7)"
      ]
     },
     "execution_count": 14,
     "metadata": {},
     "output_type": "execute_result"
    }
   ],
   "source": [
    "df.shape"
   ]
  },
  {
   "cell_type": "code",
   "execution_count": 12,
   "id": "e4856a89",
   "metadata": {},
   "outputs": [],
   "source": [
    "df.to_csv('/home/saad/Downloads/movies.csv')"
   ]
  },
  {
   "cell_type": "code",
   "execution_count": null,
   "id": "0ea5d03e",
   "metadata": {},
   "outputs": [],
   "source": []
  }
 ],
 "metadata": {
  "kernelspec": {
   "display_name": "Python 3",
   "language": "python",
   "name": "python3"
  },
  "language_info": {
   "codemirror_mode": {
    "name": "ipython",
    "version": 3
   },
   "file_extension": ".py",
   "mimetype": "text/x-python",
   "name": "python",
   "nbconvert_exporter": "python",
   "pygments_lexer": "ipython3",
   "version": "3.8.11"
  }
 },
 "nbformat": 4,
 "nbformat_minor": 5
}
