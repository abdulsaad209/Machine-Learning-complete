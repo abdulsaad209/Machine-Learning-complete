{
 "cells": [
  {
   "cell_type": "markdown",
   "id": "fb7eb028",
   "metadata": {},
   "source": [
    "# Curse of Dimensionality\n",
    "The Curse of Dimensionality is termed by mathematician R. ... The curse of dimensionality basically means that the error increases with the increase in the number of features. It refers to the fact that algorithms are harder to design in high dimensions and often have a running time exponential in the dimensions."
   ]
  },
  {
   "cell_type": "markdown",
   "id": "f5b60a30",
   "metadata": {},
   "source": [
    "## What happens in the large amount of dimensions (features) ?\n",
    "\n",
    "### 1. Performance decreases\n",
    "* Because when the dimension increases the data points go away from each other so the distance in between the points increases due to this when i apply the distance culculating based algorithm upon this data so the performance decreases because there is a huge distance between data points\n",
    "\n",
    "### 2. computation time expands OR Increases\n",
    "* This is simple to understand. Just imagine that you have huge amount of features. When you measure the distance of every point to another point and let's say there are 700 data points so you according to the distance equation **V=S/t** so when we calculate the speed of coputation or running the code so it's directly proportional to distance so it takes hug time to compute and require more speed for this computation."
   ]
  },
  {
   "cell_type": "markdown",
   "id": "ae971581",
   "metadata": {},
   "source": [
    "# Methods for solving this problem"
   ]
  },
  {
   "cell_type": "markdown",
   "id": "e7a83231",
   "metadata": {},
   "source": [
    "## Dimensionality Reduction\n",
    "Dimensionality reduction refers to techniques that reduce the number of input variables in a dataset. More input features often make a predictive modeling task more challenging to model, more generally referred to as the curse of dimensionality.\n",
    "\n",
    "- Now there are two types of Dimensionality Reduction.\n",
    "\n",
    "* Feature Selection\n",
    "* Feature Extraction"
   ]
  },
  {
   "cell_type": "markdown",
   "id": "d4c20321",
   "metadata": {},
   "source": [
    "## 1-Feature Selection\n",
    "* Feature selection is the process of reducing the number of input variables when developing a predictive model. It is desirable to reduce the number of input variables to both reduce the computational cost of modeling and, in some cases, to improve the performance of the model.\n",
    "Overview.\n",
    "* There are three types of feature selection: **Wrapper methods** (forward, backward, and stepwise selection), **Filter methodsD** (ANOVA, Pearson correlation, variance thresholding), and **Embedded methods** (Lasso, Ridge, Decision Tree)."
   ]
  },
  {
   "cell_type": "markdown",
   "id": "26c76505",
   "metadata": {},
   "source": [
    "In feature selection we select only those features for our model which gives the best accuracy for prediction. So here i wrote some techniques to do Feature Selection.\n",
    "* **Forward Selection**\n",
    "* **Backward Elimination**\n",
    "* **Bidirectional Elimination**"
   ]
  },
  {
   "cell_type": "markdown",
   "id": "760f8d31",
   "metadata": {},
   "source": [
    "## 2-Feature Extraction\n",
    "Feature extraction is a process of dimensionality reduction by which an initial set of raw data is reduced to more manageable groups for processing. A characteristic of these large data sets is a large number of variables that require a lot of computing resources to process.\n",
    "In Feature extraction we create a new linear feature by using given features."
   ]
  },
  {
   "cell_type": "markdown",
   "id": "6e775cf6",
   "metadata": {},
   "source": [
    "In Feature Extraction there are three techniques.\n",
    "* **PCA (Principle Component Analysis)**\n",
    "* **LDA (Linear Discriminant Analysis)**\n",
    "* **t-SNE (t-Distributed Stochastic Neighbor Embedding)**"
   ]
  },
  {
   "cell_type": "markdown",
   "id": "e721bb42",
   "metadata": {},
   "source": [
    "<img src=\"images/feature selection.png\" />"
   ]
  },
  {
   "cell_type": "code",
   "execution_count": null,
   "id": "c33b12de",
   "metadata": {},
   "outputs": [],
   "source": []
  }
 ],
 "metadata": {
  "kernelspec": {
   "display_name": "Python 3",
   "language": "python",
   "name": "python3"
  },
  "language_info": {
   "codemirror_mode": {
    "name": "ipython",
    "version": 3
   },
   "file_extension": ".py",
   "mimetype": "text/x-python",
   "name": "python",
   "nbconvert_exporter": "python",
   "pygments_lexer": "ipython3",
   "version": "3.8.11"
  }
 },
 "nbformat": 4,
 "nbformat_minor": 5
}
