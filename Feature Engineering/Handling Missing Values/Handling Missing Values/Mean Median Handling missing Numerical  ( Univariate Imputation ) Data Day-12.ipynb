{
 "cells": [
  {
   "cell_type": "markdown",
   "id": "66d76a28",
   "metadata": {},
   "source": [
    "# Mean Median Imputation\n",
    "Mean or median imputation consists of replacing all occurrences of missing values (NA) within a variable with the mean or median of that variable. This method is suitable for numerical variables. ... If the variable has a skewed distribution, then the median is a better representation."
   ]
  },
  {
   "cell_type": "markdown",
   "id": "0f9b6818",
   "metadata": {},
   "source": [
    "### When should we apply mean median mode?\n",
    "* When data is missing completely at random  (MCAR). Mean Median imputation has the assumption that the data are missing completely at random (MCAR).We solve this by replacing the NaN with most frequent occurance of the variables.\n",
    "* When data values are less missing like < 5% and > 95%"
   ]
  },
  {
   "cell_type": "code",
   "execution_count": 1,
   "id": "614da7b7",
   "metadata": {},
   "outputs": [],
   "source": [
    "import warnings\n",
    "warnings.filterwarnings('ignore')\n",
    "%matplotlib inline\n",
    "import numpy as np\n",
    "import pandas as pd"
   ]
  },
  {
   "cell_type": "code",
   "execution_count": 2,
   "id": "5df653ac",
   "metadata": {},
   "outputs": [],
   "source": [
    "from sklearn.model_selection import train_test_split\n",
    "from sklearn.impute import SimpleImputer\n",
    "from sklearn.compose import ColumnTransformer"
   ]
  },
  {
   "cell_type": "code",
   "execution_count": 3,
   "id": "7993d9f1",
   "metadata": {},
   "outputs": [
    {
     "data": {
      "text/html": [
       "<div>\n",
       "<style scoped>\n",
       "    .dataframe tbody tr th:only-of-type {\n",
       "        vertical-align: middle;\n",
       "    }\n",
       "\n",
       "    .dataframe tbody tr th {\n",
       "        vertical-align: top;\n",
       "    }\n",
       "\n",
       "    .dataframe thead th {\n",
       "        text-align: right;\n",
       "    }\n",
       "</style>\n",
       "<table border=\"1\" class=\"dataframe\">\n",
       "  <thead>\n",
       "    <tr style=\"text-align: right;\">\n",
       "      <th></th>\n",
       "      <th>LotFrontage</th>\n",
       "      <th>MasVnrArea</th>\n",
       "      <th>MoSold</th>\n",
       "      <th>SalePrice</th>\n",
       "    </tr>\n",
       "  </thead>\n",
       "  <tbody>\n",
       "    <tr>\n",
       "      <th>0</th>\n",
       "      <td>65.0</td>\n",
       "      <td>196.0</td>\n",
       "      <td>2</td>\n",
       "      <td>208500</td>\n",
       "    </tr>\n",
       "    <tr>\n",
       "      <th>1</th>\n",
       "      <td>80.0</td>\n",
       "      <td>0.0</td>\n",
       "      <td>5</td>\n",
       "      <td>181500</td>\n",
       "    </tr>\n",
       "    <tr>\n",
       "      <th>2</th>\n",
       "      <td>68.0</td>\n",
       "      <td>162.0</td>\n",
       "      <td>9</td>\n",
       "      <td>223500</td>\n",
       "    </tr>\n",
       "    <tr>\n",
       "      <th>3</th>\n",
       "      <td>60.0</td>\n",
       "      <td>0.0</td>\n",
       "      <td>2</td>\n",
       "      <td>140000</td>\n",
       "    </tr>\n",
       "    <tr>\n",
       "      <th>4</th>\n",
       "      <td>84.0</td>\n",
       "      <td>350.0</td>\n",
       "      <td>12</td>\n",
       "      <td>250000</td>\n",
       "    </tr>\n",
       "  </tbody>\n",
       "</table>\n",
       "</div>"
      ],
      "text/plain": [
       "   LotFrontage  MasVnrArea  MoSold  SalePrice\n",
       "0         65.0       196.0       2     208500\n",
       "1         80.0         0.0       5     181500\n",
       "2         68.0       162.0       9     223500\n",
       "3         60.0         0.0       2     140000\n",
       "4         84.0       350.0      12     250000"
      ]
     },
     "execution_count": 3,
     "metadata": {},
     "output_type": "execute_result"
    }
   ],
   "source": [
    "df = pd.read_csv('/home/saad/Downloads/train.csv',\n",
    "            usecols=['LotFrontage','MasVnrArea','MoSold','SalePrice'])\n",
    "df.head()"
   ]
  },
  {
   "cell_type": "code",
   "execution_count": 4,
   "id": "565e703a",
   "metadata": {},
   "outputs": [
    {
     "data": {
      "text/plain": [
       "LotFrontage    17.739726\n",
       "MasVnrArea      0.547945\n",
       "MoSold          0.000000\n",
       "SalePrice       0.000000\n",
       "dtype: float64"
      ]
     },
     "execution_count": 4,
     "metadata": {},
     "output_type": "execute_result"
    }
   ],
   "source": [
    "df.isnull().mean().sort_values(ascending=False)*100"
   ]
  },
  {
   "cell_type": "code",
   "execution_count": 5,
   "id": "a8394eb8",
   "metadata": {},
   "outputs": [
    {
     "data": {
      "text/plain": [
       "(1460, 4)"
      ]
     },
     "execution_count": 5,
     "metadata": {},
     "output_type": "execute_result"
    }
   ],
   "source": [
    "df.shape"
   ]
  },
  {
   "cell_type": "code",
   "execution_count": 6,
   "id": "7f838bdd",
   "metadata": {},
   "outputs": [],
   "source": [
    "X = df.drop('SalePrice', axis=1)\n",
    "y = df['SalePrice']"
   ]
  },
  {
   "cell_type": "code",
   "execution_count": 7,
   "id": "3f50ec12",
   "metadata": {},
   "outputs": [
    {
     "name": "stdout",
     "output_type": "stream",
     "text": [
      "Shape of X_train is:  (1095, 3)\n",
      "Shape of X_test is:  (365, 3)\n"
     ]
    }
   ],
   "source": [
    "X_train,X_test,y_train,y_test=train_test_split(X,y,test_size=0.25,random_state=42)\n",
    "print(\"Shape of X_train is: \",X_train.shape)\n",
    "print(\"Shape of X_test is: \",X_test.shape)"
   ]
  },
  {
   "cell_type": "code",
   "execution_count": 8,
   "id": "609176d5",
   "metadata": {},
   "outputs": [],
   "source": [
    "X_train['LotFrontage_Mean'] = X_train['LotFrontage'].fillna(df['LotFrontage'].mean())\n",
    "X_train['LotFrontage_Median'] = X_train['LotFrontage'].fillna(df['LotFrontage'].median())\n",
    "\n",
    "X_train['MasVnrArea_Mean'] = X_train['MasVnrArea'].fillna(df['MasVnrArea'].mean())\n",
    "X_train['MasVnrArea_Median'] = X_train['MasVnrArea'].fillna(df['MasVnrArea'].median())"
   ]
  },
  {
   "cell_type": "code",
   "execution_count": 9,
   "id": "be6dc256",
   "metadata": {},
   "outputs": [
    {
     "data": {
      "text/html": [
       "<div>\n",
       "<style scoped>\n",
       "    .dataframe tbody tr th:only-of-type {\n",
       "        vertical-align: middle;\n",
       "    }\n",
       "\n",
       "    .dataframe tbody tr th {\n",
       "        vertical-align: top;\n",
       "    }\n",
       "\n",
       "    .dataframe thead th {\n",
       "        text-align: right;\n",
       "    }\n",
       "</style>\n",
       "<table border=\"1\" class=\"dataframe\">\n",
       "  <thead>\n",
       "    <tr style=\"text-align: right;\">\n",
       "      <th></th>\n",
       "      <th>LotFrontage</th>\n",
       "      <th>MasVnrArea</th>\n",
       "      <th>MoSold</th>\n",
       "      <th>LotFrontage_Mean</th>\n",
       "      <th>LotFrontage_Median</th>\n",
       "      <th>MasVnrArea_Mean</th>\n",
       "      <th>MasVnrArea_Median</th>\n",
       "    </tr>\n",
       "  </thead>\n",
       "  <tbody>\n",
       "    <tr>\n",
       "      <th>349</th>\n",
       "      <td>56.0</td>\n",
       "      <td>870.0</td>\n",
       "      <td>4</td>\n",
       "      <td>56.000000</td>\n",
       "      <td>56.0</td>\n",
       "      <td>870.0</td>\n",
       "      <td>870.0</td>\n",
       "    </tr>\n",
       "    <tr>\n",
       "      <th>1381</th>\n",
       "      <td>NaN</td>\n",
       "      <td>0.0</td>\n",
       "      <td>5</td>\n",
       "      <td>70.049958</td>\n",
       "      <td>69.0</td>\n",
       "      <td>0.0</td>\n",
       "      <td>0.0</td>\n",
       "    </tr>\n",
       "    <tr>\n",
       "      <th>896</th>\n",
       "      <td>50.0</td>\n",
       "      <td>0.0</td>\n",
       "      <td>4</td>\n",
       "      <td>50.000000</td>\n",
       "      <td>50.0</td>\n",
       "      <td>0.0</td>\n",
       "      <td>0.0</td>\n",
       "    </tr>\n",
       "    <tr>\n",
       "      <th>232</th>\n",
       "      <td>21.0</td>\n",
       "      <td>297.0</td>\n",
       "      <td>6</td>\n",
       "      <td>21.000000</td>\n",
       "      <td>21.0</td>\n",
       "      <td>297.0</td>\n",
       "      <td>297.0</td>\n",
       "    </tr>\n",
       "    <tr>\n",
       "      <th>1455</th>\n",
       "      <td>62.0</td>\n",
       "      <td>0.0</td>\n",
       "      <td>8</td>\n",
       "      <td>62.000000</td>\n",
       "      <td>62.0</td>\n",
       "      <td>0.0</td>\n",
       "      <td>0.0</td>\n",
       "    </tr>\n",
       "  </tbody>\n",
       "</table>\n",
       "</div>"
      ],
      "text/plain": [
       "      LotFrontage  MasVnrArea  MoSold  LotFrontage_Mean  LotFrontage_Median  \\\n",
       "349          56.0       870.0       4         56.000000                56.0   \n",
       "1381          NaN         0.0       5         70.049958                69.0   \n",
       "896          50.0         0.0       4         50.000000                50.0   \n",
       "232          21.0       297.0       6         21.000000                21.0   \n",
       "1455         62.0         0.0       8         62.000000                62.0   \n",
       "\n",
       "      MasVnrArea_Mean  MasVnrArea_Median  \n",
       "349             870.0              870.0  \n",
       "1381              0.0                0.0  \n",
       "896               0.0                0.0  \n",
       "232             297.0              297.0  \n",
       "1455              0.0                0.0  "
      ]
     },
     "execution_count": 9,
     "metadata": {},
     "output_type": "execute_result"
    }
   ],
   "source": [
    "X_train.sample(5)"
   ]
  },
  {
   "cell_type": "code",
   "execution_count": 10,
   "id": "bd5a2114",
   "metadata": {},
   "outputs": [
    {
     "data": {
      "text/plain": [
       "LotFrontage           200\n",
       "MasVnrArea              4\n",
       "MoSold                  0\n",
       "LotFrontage_Mean        0\n",
       "LotFrontage_Median      0\n",
       "MasVnrArea_Mean         0\n",
       "MasVnrArea_Median       0\n",
       "dtype: int64"
      ]
     },
     "execution_count": 10,
     "metadata": {},
     "output_type": "execute_result"
    }
   ],
   "source": [
    "X_train.isnull().sum()"
   ]
  },
  {
   "cell_type": "code",
   "execution_count": 11,
   "id": "da72bedd",
   "metadata": {},
   "outputs": [],
   "source": [
    "def figure_plot(df,feature1,feature2,feature3):\n",
    "\n",
    "    fig = plt.figure()\n",
    "    ax = fig.add_subplot(111)\n",
    "\n",
    "    # original variable distribution\n",
    "    df[feature1].plot(kind='kde')\n",
    "\n",
    "    # variable imputed with the median\n",
    "    df[feature2].plot(kind='kde', color='g')\n",
    "\n",
    "    # variable imputed with the mean\n",
    "    df[feature3].plot(kind='kde', color='r')\n",
    "\n",
    "    # add legends\n",
    "    plt.legend()\n",
    "\n",
    "    #lines, labels = ax.get_legend_handles_labels()\n",
    "    #ax.legend(lines, labels, loc='best')\n",
    "\n",
    "    plt.show()"
   ]
  },
  {
   "cell_type": "code",
   "execution_count": 12,
   "id": "4a15dd10",
   "metadata": {},
   "outputs": [
    {
     "data": {
      "application/javascript": [
       "\n",
       "        if (window._pyforest_update_imports_cell) { window._pyforest_update_imports_cell('import matplotlib.pyplot as plt'); }\n",
       "    "
      ],
      "text/plain": [
       "<IPython.core.display.Javascript object>"
      ]
     },
     "metadata": {},
     "output_type": "display_data"
    },
    {
     "data": {
      "application/javascript": [
       "\n",
       "        if (window._pyforest_update_imports_cell) { window._pyforest_update_imports_cell('import matplotlib.pyplot as plt'); }\n",
       "    "
      ],
      "text/plain": [
       "<IPython.core.display.Javascript object>"
      ]
     },
     "metadata": {},
     "output_type": "display_data"
    },
    {
     "data": {
      "application/javascript": [
       "\n",
       "        if (window._pyforest_update_imports_cell) { window._pyforest_update_imports_cell('import matplotlib.pyplot as plt'); }\n",
       "    "
      ],
      "text/plain": [
       "<IPython.core.display.Javascript object>"
      ]
     },
     "metadata": {},
     "output_type": "display_data"
    },
    {
     "data": {
      "image/png": "[encoded data removed]",
      "text/plain": [
       "<Figure size 432x288 with 1 Axes>"
      ]
     },
     "metadata": {
      "needs_background": "light"
     },
     "output_type": "display_data"
    }
   ],
   "source": [
    "figure_plot(X_train,'LotFrontage','LotFrontage_Mean','LotFrontage_Median')"
   ]
  },
  {
   "cell_type": "code",
   "execution_count": 13,
   "id": "5772b84b",
   "metadata": {},
   "outputs": [
    {
     "data": {
      "application/javascript": [
       "\n",
       "        if (window._pyforest_update_imports_cell) { window._pyforest_update_imports_cell('import matplotlib.pyplot as plt'); }\n",
       "    "
      ],
      "text/plain": [
       "<IPython.core.display.Javascript object>"
      ]
     },
     "metadata": {},
     "output_type": "display_data"
    },
    {
     "data": {
      "application/javascript": [
       "\n",
       "        if (window._pyforest_update_imports_cell) { window._pyforest_update_imports_cell('import matplotlib.pyplot as plt'); }\n",
       "    "
      ],
      "text/plain": [
       "<IPython.core.display.Javascript object>"
      ]
     },
     "metadata": {},
     "output_type": "display_data"
    },
    {
     "data": {
      "application/javascript": [
       "\n",
       "        if (window._pyforest_update_imports_cell) { window._pyforest_update_imports_cell('import matplotlib.pyplot as plt'); }\n",
       "    "
      ],
      "text/plain": [
       "<IPython.core.display.Javascript object>"
      ]
     },
     "metadata": {},
     "output_type": "display_data"
    },
    {
     "data": {
      "image/png": "[encoded data removed]",
      "text/plain": [
       "<Figure size 432x288 with 1 Axes>"
      ]
     },
     "metadata": {
      "needs_background": "light"
     },
     "output_type": "display_data"
    }
   ],
   "source": [
    "figure_plot(X_train,'MasVnrArea','MasVnrArea_Mean','MasVnrArea_Median')"
   ]
  },
  {
   "cell_type": "code",
   "execution_count": 14,
   "id": "321fe2b7",
   "metadata": {},
   "outputs": [
    {
     "name": "stdout",
     "output_type": "stream",
     "text": [
      "Original variance of LotFrontage:                636.013167860222\n",
      "variance of LotFrontage after applying Mean:     519.7579229450237\n",
      "variance of LotFrontage after applying Median:   520.0307330144473\n",
      "\n",
      "\n",
      "Original variance of MasVnrArea:  29461.908142517503\n",
      "variance of LotFrontage after applying Mean:     29354.1867233154\n",
      "variance of LotFrontage after applying Median:   29393.111433889742\n"
     ]
    }
   ],
   "source": [
    "# so variance will reduce after applying mean median\n",
    "print(\"Original variance of LotFrontage:               \",X_train['LotFrontage'].var())\n",
    "print(\"variance of LotFrontage after applying Mean:    \",X_train['LotFrontage_Mean'].var())\n",
    "print(\"variance of LotFrontage after applying Median:  \",X_train['LotFrontage_Median'].var())\n",
    "print()\n",
    "print()\n",
    "print(\"Original variance of MasVnrArea: \",X_train['MasVnrArea'].var())\n",
    "print(\"variance of LotFrontage after applying Mean:    \",X_train['MasVnrArea_Mean'].var())\n",
    "print(\"variance of LotFrontage after applying Median:  \",X_train['MasVnrArea_Median'].var())"
   ]
  },
  {
   "cell_type": "code",
   "execution_count": 15,
   "id": "6bb2d0c8",
   "metadata": {},
   "outputs": [
    {
     "data": {
      "text/html": [
       "<div>\n",
       "<style scoped>\n",
       "    .dataframe tbody tr th:only-of-type {\n",
       "        vertical-align: middle;\n",
       "    }\n",
       "\n",
       "    .dataframe tbody tr th {\n",
       "        vertical-align: top;\n",
       "    }\n",
       "\n",
       "    .dataframe thead th {\n",
       "        text-align: right;\n",
       "    }\n",
       "</style>\n",
       "<table border=\"1\" class=\"dataframe\">\n",
       "  <thead>\n",
       "    <tr style=\"text-align: right;\">\n",
       "      <th></th>\n",
       "      <th>LotFrontage</th>\n",
       "      <th>MasVnrArea</th>\n",
       "      <th>MoSold</th>\n",
       "      <th>LotFrontage_Mean</th>\n",
       "      <th>LotFrontage_Median</th>\n",
       "      <th>MasVnrArea_Mean</th>\n",
       "      <th>MasVnrArea_Median</th>\n",
       "    </tr>\n",
       "  </thead>\n",
       "  <tbody>\n",
       "    <tr>\n",
       "      <th>LotFrontage</th>\n",
       "      <td>636.013168</td>\n",
       "      <td>933.179382</td>\n",
       "      <td>1.899515</td>\n",
       "      <td>636.013168</td>\n",
       "      <td>636.013168</td>\n",
       "      <td>929.887818</td>\n",
       "      <td>934.084315</td>\n",
       "    </tr>\n",
       "    <tr>\n",
       "      <th>MasVnrArea</th>\n",
       "      <td>933.179382</td>\n",
       "      <td>29461.908143</td>\n",
       "      <td>-0.343958</td>\n",
       "      <td>761.663470</td>\n",
       "      <td>758.537027</td>\n",
       "      <td>29461.908143</td>\n",
       "      <td>29461.908143</td>\n",
       "    </tr>\n",
       "    <tr>\n",
       "      <th>MoSold</th>\n",
       "      <td>1.899515</td>\n",
       "      <td>-0.343958</td>\n",
       "      <td>7.187193</td>\n",
       "      <td>1.561174</td>\n",
       "      <td>1.588362</td>\n",
       "      <td>-0.343119</td>\n",
       "      <td>-0.206018</td>\n",
       "    </tr>\n",
       "    <tr>\n",
       "      <th>LotFrontage_Mean</th>\n",
       "      <td>636.013168</td>\n",
       "      <td>761.663470</td>\n",
       "      <td>1.561174</td>\n",
       "      <td>519.757923</td>\n",
       "      <td>519.811964</td>\n",
       "      <td>758.868090</td>\n",
       "      <td>762.306198</td>\n",
       "    </tr>\n",
       "    <tr>\n",
       "      <th>LotFrontage_Median</th>\n",
       "      <td>636.013168</td>\n",
       "      <td>758.537027</td>\n",
       "      <td>1.588362</td>\n",
       "      <td>519.811964</td>\n",
       "      <td>520.030733</td>\n",
       "      <td>755.752996</td>\n",
       "      <td>759.217913</td>\n",
       "    </tr>\n",
       "    <tr>\n",
       "      <th>MasVnrArea_Mean</th>\n",
       "      <td>929.887818</td>\n",
       "      <td>29461.908143</td>\n",
       "      <td>-0.343119</td>\n",
       "      <td>758.868090</td>\n",
       "      <td>755.752996</td>\n",
       "      <td>29354.186723</td>\n",
       "      <td>29354.067064</td>\n",
       "    </tr>\n",
       "    <tr>\n",
       "      <th>MasVnrArea_Median</th>\n",
       "      <td>934.084315</td>\n",
       "      <td>29461.908143</td>\n",
       "      <td>-0.206018</td>\n",
       "      <td>762.306198</td>\n",
       "      <td>759.217913</td>\n",
       "      <td>29354.067064</td>\n",
       "      <td>29393.111434</td>\n",
       "    </tr>\n",
       "  </tbody>\n",
       "</table>\n",
       "</div>"
      ],
      "text/plain": [
       "                    LotFrontage    MasVnrArea    MoSold  LotFrontage_Mean  \\\n",
       "LotFrontage          636.013168    933.179382  1.899515        636.013168   \n",
       "MasVnrArea           933.179382  29461.908143 -0.343958        761.663470   \n",
       "MoSold                 1.899515     -0.343958  7.187193          1.561174   \n",
       "LotFrontage_Mean     636.013168    761.663470  1.561174        519.757923   \n",
       "LotFrontage_Median   636.013168    758.537027  1.588362        519.811964   \n",
       "MasVnrArea_Mean      929.887818  29461.908143 -0.343119        758.868090   \n",
       "MasVnrArea_Median    934.084315  29461.908143 -0.206018        762.306198   \n",
       "\n",
       "                    LotFrontage_Median  MasVnrArea_Mean  MasVnrArea_Median  \n",
       "LotFrontage                 636.013168       929.887818         934.084315  \n",
       "MasVnrArea                  758.537027     29461.908143       29461.908143  \n",
       "MoSold                        1.588362        -0.343119          -0.206018  \n",
       "LotFrontage_Mean            519.811964       758.868090         762.306198  \n",
       "LotFrontage_Median          520.030733       755.752996         759.217913  \n",
       "MasVnrArea_Mean             755.752996     29354.186723       29354.067064  \n",
       "MasVnrArea_Median           759.217913     29354.067064       29393.111434  "
      ]
     },
     "execution_count": 15,
     "metadata": {},
     "output_type": "execute_result"
    }
   ],
   "source": [
    "X_train.cov()"
   ]
  },
  {
   "cell_type": "code",
   "execution_count": 16,
   "id": "a398d4fa",
   "metadata": {},
   "outputs": [
    {
     "data": {
      "text/html": [
       "<div>\n",
       "<style scoped>\n",
       "    .dataframe tbody tr th:only-of-type {\n",
       "        vertical-align: middle;\n",
       "    }\n",
       "\n",
       "    .dataframe tbody tr th {\n",
       "        vertical-align: top;\n",
       "    }\n",
       "\n",
       "    .dataframe thead th {\n",
       "        text-align: right;\n",
       "    }\n",
       "</style>\n",
       "<table border=\"1\" class=\"dataframe\">\n",
       "  <thead>\n",
       "    <tr style=\"text-align: right;\">\n",
       "      <th></th>\n",
       "      <th>LotFrontage</th>\n",
       "      <th>MasVnrArea</th>\n",
       "      <th>MoSold</th>\n",
       "      <th>LotFrontage_Mean</th>\n",
       "      <th>LotFrontage_Median</th>\n",
       "      <th>MasVnrArea_Mean</th>\n",
       "      <th>MasVnrArea_Median</th>\n",
       "    </tr>\n",
       "  </thead>\n",
       "  <tbody>\n",
       "    <tr>\n",
       "      <th>LotFrontage</th>\n",
       "      <td>1.000000</td>\n",
       "      <td>0.215604</td>\n",
       "      <td>0.028025</td>\n",
       "      <td>1.000000</td>\n",
       "      <td>1.000000</td>\n",
       "      <td>0.215320</td>\n",
       "      <td>0.216169</td>\n",
       "    </tr>\n",
       "    <tr>\n",
       "      <th>MasVnrArea</th>\n",
       "      <td>0.215604</td>\n",
       "      <td>1.000000</td>\n",
       "      <td>-0.000748</td>\n",
       "      <td>0.194506</td>\n",
       "      <td>0.193655</td>\n",
       "      <td>1.000000</td>\n",
       "      <td>1.000000</td>\n",
       "    </tr>\n",
       "    <tr>\n",
       "      <th>MoSold</th>\n",
       "      <td>0.028025</td>\n",
       "      <td>-0.000748</td>\n",
       "      <td>1.000000</td>\n",
       "      <td>0.025543</td>\n",
       "      <td>0.025981</td>\n",
       "      <td>-0.000747</td>\n",
       "      <td>-0.000448</td>\n",
       "    </tr>\n",
       "    <tr>\n",
       "      <th>LotFrontage_Mean</th>\n",
       "      <td>1.000000</td>\n",
       "      <td>0.194506</td>\n",
       "      <td>0.025543</td>\n",
       "      <td>1.000000</td>\n",
       "      <td>0.999842</td>\n",
       "      <td>0.194281</td>\n",
       "      <td>0.195032</td>\n",
       "    </tr>\n",
       "    <tr>\n",
       "      <th>LotFrontage_Median</th>\n",
       "      <td>1.000000</td>\n",
       "      <td>0.193655</td>\n",
       "      <td>0.025981</td>\n",
       "      <td>0.999842</td>\n",
       "      <td>1.000000</td>\n",
       "      <td>0.193433</td>\n",
       "      <td>0.194191</td>\n",
       "    </tr>\n",
       "    <tr>\n",
       "      <th>MasVnrArea_Mean</th>\n",
       "      <td>0.215320</td>\n",
       "      <td>1.000000</td>\n",
       "      <td>-0.000747</td>\n",
       "      <td>0.194281</td>\n",
       "      <td>0.193433</td>\n",
       "      <td>1.000000</td>\n",
       "      <td>0.999334</td>\n",
       "    </tr>\n",
       "    <tr>\n",
       "      <th>MasVnrArea_Median</th>\n",
       "      <td>0.216169</td>\n",
       "      <td>1.000000</td>\n",
       "      <td>-0.000448</td>\n",
       "      <td>0.195032</td>\n",
       "      <td>0.194191</td>\n",
       "      <td>0.999334</td>\n",
       "      <td>1.000000</td>\n",
       "    </tr>\n",
       "  </tbody>\n",
       "</table>\n",
       "</div>"
      ],
      "text/plain": [
       "                    LotFrontage  MasVnrArea    MoSold  LotFrontage_Mean  \\\n",
       "LotFrontage            1.000000    0.215604  0.028025          1.000000   \n",
       "MasVnrArea             0.215604    1.000000 -0.000748          0.194506   \n",
       "MoSold                 0.028025   -0.000748  1.000000          0.025543   \n",
       "LotFrontage_Mean       1.000000    0.194506  0.025543          1.000000   \n",
       "LotFrontage_Median     1.000000    0.193655  0.025981          0.999842   \n",
       "MasVnrArea_Mean        0.215320    1.000000 -0.000747          0.194281   \n",
       "MasVnrArea_Median      0.216169    1.000000 -0.000448          0.195032   \n",
       "\n",
       "                    LotFrontage_Median  MasVnrArea_Mean  MasVnrArea_Median  \n",
       "LotFrontage                   1.000000         0.215320           0.216169  \n",
       "MasVnrArea                    0.193655         1.000000           1.000000  \n",
       "MoSold                        0.025981        -0.000747          -0.000448  \n",
       "LotFrontage_Mean              0.999842         0.194281           0.195032  \n",
       "LotFrontage_Median            1.000000         0.193433           0.194191  \n",
       "MasVnrArea_Mean               0.193433         1.000000           0.999334  \n",
       "MasVnrArea_Median             0.194191         0.999334           1.000000  "
      ]
     },
     "execution_count": 16,
     "metadata": {},
     "output_type": "execute_result"
    }
   ],
   "source": [
    "X_train.corr() # in coorelation we just see a minor difference because the value of carrelation is between -1 to 1\n",
    "# but in covariance there is no limit"
   ]
  },
  {
   "cell_type": "code",
   "execution_count": 17,
   "id": "79a54ed5",
   "metadata": {},
   "outputs": [
    {
     "data": {
      "text/plain": [
       "<AxesSubplot:>"
      ]
     },
     "execution_count": 17,
     "metadata": {},
     "output_type": "execute_result"
    },
    {
     "data": {
      "image/png": "[encoded data removed]",
      "text/plain": [
       "<Figure size 432x288 with 1 Axes>"
      ]
     },
     "metadata": {
      "needs_background": "light"
     },
     "output_type": "display_data"
    }
   ],
   "source": [
    "X_train[['LotFrontage','LotFrontage_Mean','LotFrontage_Median']].boxplot() # so there is change in outliers\n",
    "# i reject this method for LotFrontage feature"
   ]
  },
  {
   "cell_type": "code",
   "execution_count": 18,
   "id": "19e2ad4c",
   "metadata": {},
   "outputs": [
    {
     "data": {
      "text/plain": [
       "<AxesSubplot:>"
      ]
     },
     "execution_count": 18,
     "metadata": {},
     "output_type": "execute_result"
    },
    {
     "data": {
      "image/png": "[encoded data removed]",
      "text/plain": [
       "<Figure size 432x288 with 1 Axes>"
      ]
     },
     "metadata": {
      "needs_background": "light"
     },
     "output_type": "display_data"
    }
   ],
   "source": [
    "X_train[['MasVnrArea','MasVnrArea_Mean','MasVnrArea_Median']].boxplot() # so there is no outliers after applying\n",
    "# mean and median so i accept it for my MasVnrArea feature"
   ]
  },
  {
   "cell_type": "markdown",
   "id": "bad99d42",
   "metadata": {},
   "source": [
    "## Using Sklearn"
   ]
  },
  {
   "cell_type": "code",
   "execution_count": 19,
   "id": "694877ec",
   "metadata": {},
   "outputs": [],
   "source": [
    "df = pd.read_csv('/home/saad/Downloads/train.csv',\n",
    "            usecols=['LotFrontage','MasVnrArea','MoSold','SalePrice'])"
   ]
  },
  {
   "cell_type": "code",
   "execution_count": 20,
   "id": "69152460",
   "metadata": {},
   "outputs": [],
   "source": [
    "X_train,X_test,y_train,y_test = train_test_split(X,y,test_size=0.2,random_state=2)"
   ]
  },
  {
   "cell_type": "code",
   "execution_count": 21,
   "id": "82343423",
   "metadata": {},
   "outputs": [],
   "source": [
    "imputer1 = SimpleImputer(strategy='median')\n",
    "imputer2 = SimpleImputer(strategy='mean')\n",
    "\n",
    "trf = ColumnTransformer([\n",
    "    ('imputer1',imputer1,['LotFrontage']),\n",
    "    ('imputer2',imputer2,['MasVnrArea'])\n",
    "],remainder='passthrough')"
   ]
  },
  {
   "cell_type": "code",
   "execution_count": 22,
   "id": "ddd5f49c",
   "metadata": {},
   "outputs": [
    {
     "data": {
      "text/plain": [
       "array([[ 80., 320.,   9.],\n",
       "       [ 70.,   0.,   7.],\n",
       "       [ 24.,   0.,   6.],\n",
       "       ...,\n",
       "       [ 70.,   0.,   6.],\n",
       "       [ 67., 268.,  11.],\n",
       "       [ 60.,   0.,   7.]])"
      ]
     },
     "execution_count": 22,
     "metadata": {},
     "output_type": "execute_result"
    }
   ],
   "source": [
    "trf.fit_transform(X_train)"
   ]
  },
  {
   "cell_type": "code",
   "execution_count": 23,
   "id": "c80d27e0",
   "metadata": {},
   "outputs": [
    {
     "data": {
      "text/plain": [
       "array([70.])"
      ]
     },
     "execution_count": 23,
     "metadata": {},
     "output_type": "execute_result"
    }
   ],
   "source": [
    "trf.named_transformers_['imputer1'].statistics_"
   ]
  },
  {
   "cell_type": "code",
   "execution_count": 24,
   "id": "6220add2",
   "metadata": {},
   "outputs": [
    {
     "data": {
      "text/plain": [
       "array([100.57142857])"
      ]
     },
     "execution_count": 24,
     "metadata": {},
     "output_type": "execute_result"
    }
   ],
   "source": [
    "trf.named_transformers_['imputer2'].statistics_"
   ]
  },
  {
   "cell_type": "code",
   "execution_count": 25,
   "id": "2bc4e799",
   "metadata": {},
   "outputs": [],
   "source": [
    "X_train = trf.transform(X_train)\n",
    "X_test = trf.transform(X_test)"
   ]
  },
  {
   "cell_type": "code",
   "execution_count": 26,
   "id": "08583402",
   "metadata": {},
   "outputs": [
    {
     "data": {
      "text/plain": [
       "array([[ 80., 320.,   9.],\n",
       "       [ 70.,   0.,   7.],\n",
       "       [ 24.,   0.,   6.],\n",
       "       ...,\n",
       "       [ 70.,   0.,   6.],\n",
       "       [ 67., 268.,  11.],\n",
       "       [ 60.,   0.,   7.]])"
      ]
     },
     "execution_count": 26,
     "metadata": {},
     "output_type": "execute_result"
    }
   ],
   "source": [
    "X_train"
   ]
  },
  {
   "cell_type": "code",
   "execution_count": 27,
   "id": "f97af607",
   "metadata": {},
   "outputs": [
    {
     "data": {
      "text/html": [
       "<div>\n",
       "<style scoped>\n",
       "    .dataframe tbody tr th:only-of-type {\n",
       "        vertical-align: middle;\n",
       "    }\n",
       "\n",
       "    .dataframe tbody tr th {\n",
       "        vertical-align: top;\n",
       "    }\n",
       "\n",
       "    .dataframe thead th {\n",
       "        text-align: right;\n",
       "    }\n",
       "</style>\n",
       "<table border=\"1\" class=\"dataframe\">\n",
       "  <thead>\n",
       "    <tr style=\"text-align: right;\">\n",
       "      <th></th>\n",
       "      <th>LotFrontage</th>\n",
       "      <th>MasVnrArea</th>\n",
       "      <th>MoSold</th>\n",
       "    </tr>\n",
       "  </thead>\n",
       "  <tbody>\n",
       "    <tr>\n",
       "      <th>0</th>\n",
       "      <td>80.0</td>\n",
       "      <td>320.0</td>\n",
       "      <td>9.0</td>\n",
       "    </tr>\n",
       "    <tr>\n",
       "      <th>1</th>\n",
       "      <td>70.0</td>\n",
       "      <td>0.0</td>\n",
       "      <td>7.0</td>\n",
       "    </tr>\n",
       "    <tr>\n",
       "      <th>2</th>\n",
       "      <td>24.0</td>\n",
       "      <td>0.0</td>\n",
       "      <td>6.0</td>\n",
       "    </tr>\n",
       "    <tr>\n",
       "      <th>3</th>\n",
       "      <td>88.0</td>\n",
       "      <td>366.0</td>\n",
       "      <td>9.0</td>\n",
       "    </tr>\n",
       "    <tr>\n",
       "      <th>4</th>\n",
       "      <td>60.0</td>\n",
       "      <td>0.0</td>\n",
       "      <td>3.0</td>\n",
       "    </tr>\n",
       "    <tr>\n",
       "      <th>...</th>\n",
       "      <td>...</td>\n",
       "      <td>...</td>\n",
       "      <td>...</td>\n",
       "    </tr>\n",
       "    <tr>\n",
       "      <th>1163</th>\n",
       "      <td>85.0</td>\n",
       "      <td>0.0</td>\n",
       "      <td>4.0</td>\n",
       "    </tr>\n",
       "    <tr>\n",
       "      <th>1164</th>\n",
       "      <td>80.0</td>\n",
       "      <td>0.0</td>\n",
       "      <td>8.0</td>\n",
       "    </tr>\n",
       "    <tr>\n",
       "      <th>1165</th>\n",
       "      <td>70.0</td>\n",
       "      <td>0.0</td>\n",
       "      <td>6.0</td>\n",
       "    </tr>\n",
       "    <tr>\n",
       "      <th>1166</th>\n",
       "      <td>67.0</td>\n",
       "      <td>268.0</td>\n",
       "      <td>11.0</td>\n",
       "    </tr>\n",
       "    <tr>\n",
       "      <th>1167</th>\n",
       "      <td>60.0</td>\n",
       "      <td>0.0</td>\n",
       "      <td>7.0</td>\n",
       "    </tr>\n",
       "  </tbody>\n",
       "</table>\n",
       "<p>1168 rows × 3 columns</p>\n",
       "</div>"
      ],
      "text/plain": [
       "      LotFrontage  MasVnrArea  MoSold\n",
       "0            80.0       320.0     9.0\n",
       "1            70.0         0.0     7.0\n",
       "2            24.0         0.0     6.0\n",
       "3            88.0       366.0     9.0\n",
       "4            60.0         0.0     3.0\n",
       "...           ...         ...     ...\n",
       "1163         85.0         0.0     4.0\n",
       "1164         80.0         0.0     8.0\n",
       "1165         70.0         0.0     6.0\n",
       "1166         67.0       268.0    11.0\n",
       "1167         60.0         0.0     7.0\n",
       "\n",
       "[1168 rows x 3 columns]"
      ]
     },
     "execution_count": 27,
     "metadata": {},
     "output_type": "execute_result"
    }
   ],
   "source": [
    "pd.DataFrame(X_train, columns=df.iloc[:,0:3].columns)"
   ]
  },
  {
   "cell_type": "markdown",
   "id": "4a01e2c4",
   "metadata": {},
   "source": [
    "# Advantages and Disadvantages of Mean/Median Imputation"
   ]
  },
  {
   "cell_type": "markdown",
   "id": "1fba8ef4",
   "metadata": {},
   "source": [
    "### Advantage"
   ]
  },
  {
   "cell_type": "markdown",
   "id": "d0756f83",
   "metadata": {},
   "source": [
    "* Easy to implement, Faster way to obtain the complete Dataset\n",
    "* It is useful when your data is normally distributed or have less missing values like < 5% and > 95%"
   ]
  },
  {
   "cell_type": "markdown",
   "id": "a895dfa3",
   "metadata": {},
   "source": [
    "### Disadvantage"
   ]
  },
  {
   "cell_type": "markdown",
   "id": "4caf072c",
   "metadata": {},
   "source": [
    "* Change or Distortion in the original variance of the Data  (change the distribution of the data)\n",
    "* Mean Imputation deosn't preserve relationship between variables such as correlation  (covariance & correlation changes)\n",
    "* very small or very large values can effect the mean() instead of median() can't effect by very small and very large values\n",
    "* the mean is very susceptible to outliers (it's non-robust), while the median is not affected by outliers (it's robust)."
   ]
  },
  {
   "cell_type": "code",
   "execution_count": null,
   "id": "fda340a0",
   "metadata": {},
   "outputs": [],
   "source": []
  }
 ],
 "metadata": {
  "kernelspec": {
   "display_name": "Python 3",
   "language": "python",
   "name": "python3"
  },
  "language_info": {
   "codemirror_mode": {
    "name": "ipython",
    "version": 3
   },
   "file_extension": ".py",
   "mimetype": "text/x-python",
   "name": "python",
   "nbconvert_exporter": "python",
   "pygments_lexer": "ipython3",
   "version": "3.8.11"
  }
 },
 "nbformat": 4,
 "nbformat_minor": 5
}
