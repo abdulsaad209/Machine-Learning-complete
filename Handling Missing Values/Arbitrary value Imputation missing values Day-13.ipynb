{
 "cells": [
  {
   "cell_type": "markdown",
   "id": "88cc7088",
   "metadata": {},
   "source": [
    "## All the techniques of handling missing values\n",
    "\n",
    "* CCA (Complete Case analysis)\n",
    "* Mean/ median/(For numerical data)\n",
    "* Arbitrary imputation\n",
    "* Random sample imputation(For both numerical & categorical data)\n",
    "* Capturing NaN value with a new feature\n",
    "* End of distribution imputation\n",
    "* Most Frequent categories imputation (Mode)"
   ]
  },
  {
   "cell_type": "markdown",
   "id": "c063a7c1",
   "metadata": {},
   "source": [
    "# Arbitrary value imputation\n",
    "This technique was derived from kaggle competition. It consists of replacing NaN by arbitrary values  (replacing NaN values with any number (for numerical data) and with any word  (for categorical data)). In simple words add something which has not in our data already"
   ]
  },
  {
   "cell_type": "markdown",
   "id": "7cc63d5c",
   "metadata": {},
   "source": [
    "## When to use it?\n",
    "* When data is not missing completely at Random  (NMCAR)"
   ]
  },
  {
   "cell_type": "code",
   "execution_count": 1,
   "id": "17bae8d9",
   "metadata": {},
   "outputs": [],
   "source": [
    "import warnings\n",
    "warnings.filterwarnings('ignore')\n",
    "%matplotlib inline\n",
    "import numpy as np\n",
    "import pandas as pd"
   ]
  },
  {
   "cell_type": "code",
   "execution_count": 2,
   "id": "ee23a758",
   "metadata": {},
   "outputs": [],
   "source": [
    "from sklearn.model_selection import train_test_split\n",
    "from sklearn.impute import SimpleImputer\n",
    "from sklearn.compose import ColumnTransformer"
   ]
  },
  {
   "cell_type": "code",
   "execution_count": 3,
   "id": "8e3e063c",
   "metadata": {},
   "outputs": [
    {
     "data": {
      "text/html": [
       "<div>\n",
       "<style scoped>\n",
       "    .dataframe tbody tr th:only-of-type {\n",
       "        vertical-align: middle;\n",
       "    }\n",
       "\n",
       "    .dataframe tbody tr th {\n",
       "        vertical-align: top;\n",
       "    }\n",
       "\n",
       "    .dataframe thead th {\n",
       "        text-align: right;\n",
       "    }\n",
       "</style>\n",
       "<table border=\"1\" class=\"dataframe\">\n",
       "  <thead>\n",
       "    <tr style=\"text-align: right;\">\n",
       "      <th></th>\n",
       "      <th>LotFrontage</th>\n",
       "      <th>MasVnrArea</th>\n",
       "      <th>MoSold</th>\n",
       "      <th>SalePrice</th>\n",
       "    </tr>\n",
       "  </thead>\n",
       "  <tbody>\n",
       "    <tr>\n",
       "      <th>0</th>\n",
       "      <td>65.0</td>\n",
       "      <td>196.0</td>\n",
       "      <td>2</td>\n",
       "      <td>208500</td>\n",
       "    </tr>\n",
       "    <tr>\n",
       "      <th>1</th>\n",
       "      <td>80.0</td>\n",
       "      <td>0.0</td>\n",
       "      <td>5</td>\n",
       "      <td>181500</td>\n",
       "    </tr>\n",
       "    <tr>\n",
       "      <th>2</th>\n",
       "      <td>68.0</td>\n",
       "      <td>162.0</td>\n",
       "      <td>9</td>\n",
       "      <td>223500</td>\n",
       "    </tr>\n",
       "    <tr>\n",
       "      <th>3</th>\n",
       "      <td>60.0</td>\n",
       "      <td>0.0</td>\n",
       "      <td>2</td>\n",
       "      <td>140000</td>\n",
       "    </tr>\n",
       "    <tr>\n",
       "      <th>4</th>\n",
       "      <td>84.0</td>\n",
       "      <td>350.0</td>\n",
       "      <td>12</td>\n",
       "      <td>250000</td>\n",
       "    </tr>\n",
       "  </tbody>\n",
       "</table>\n",
       "</div>"
      ],
      "text/plain": [
       "   LotFrontage  MasVnrArea  MoSold  SalePrice\n",
       "0         65.0       196.0       2     208500\n",
       "1         80.0         0.0       5     181500\n",
       "2         68.0       162.0       9     223500\n",
       "3         60.0         0.0       2     140000\n",
       "4         84.0       350.0      12     250000"
      ]
     },
     "execution_count": 3,
     "metadata": {},
     "output_type": "execute_result"
    }
   ],
   "source": [
    "df = pd.read_csv('/home/saad/Downloads/train.csv',usecols=['LotFrontage','MasVnrArea','MoSold','SalePrice'])\n",
    "df.head()"
   ]
  },
  {
   "cell_type": "code",
   "execution_count": 4,
   "id": "747ae5eb",
   "metadata": {},
   "outputs": [
    {
     "data": {
      "text/plain": [
       "LotFrontage    259\n",
       "MasVnrArea       8\n",
       "MoSold           0\n",
       "SalePrice        0\n",
       "dtype: int64"
      ]
     },
     "execution_count": 4,
     "metadata": {},
     "output_type": "execute_result"
    }
   ],
   "source": [
    "df.isnull().sum()"
   ]
  },
  {
   "cell_type": "code",
   "execution_count": 5,
   "id": "021ec302",
   "metadata": {},
   "outputs": [],
   "source": [
    "X = df.drop(columns=['SalePrice'])\n",
    "y = df['SalePrice']"
   ]
  },
  {
   "cell_type": "code",
   "execution_count": 6,
   "id": "08e12120",
   "metadata": {},
   "outputs": [],
   "source": [
    "X_train,X_test,y_train,y_test = train_test_split(X,y,test_size=0.2,random_state=2)"
   ]
  },
  {
   "cell_type": "code",
   "execution_count": 7,
   "id": "a358dae7",
   "metadata": {},
   "outputs": [],
   "source": [
    "X_train['LotFrontage_99'] = X_train['LotFrontage'].fillna(99)\n",
    "X_train['LotFrontage_minus1'] = X_train['LotFrontage'].fillna(-1)\n",
    "\n",
    "X_train['MasVnrArea_999'] = X_train['MasVnrArea'].fillna(999)\n",
    "X_train['MasVnrArea_minus1'] = X_train['MasVnrArea'].fillna(-1)"
   ]
  },
  {
   "cell_type": "code",
   "execution_count": 8,
   "id": "368e873b",
   "metadata": {},
   "outputs": [
    {
     "name": "stdout",
     "output_type": "stream",
     "text": [
      "Original LotFrontage variable variance:             613.4394886321045\n",
      "LotFrontage Variance after 99 wala imputation:      627.0317404420675\n",
      "LotFrontage Variance after -1 wala imputation:      1228.2669061285867\n",
      "\n",
      "\n",
      "Original MasVnrArea variable variance:              31936.277839300714\n",
      "MasVnrArea Variance after 999 wala imputation:      31772.09366893223\n",
      "MasVnrArea Variance after -1 wala imputation:       31824.8510024531\n"
     ]
    }
   ],
   "source": [
    "print('Original LotFrontage variable variance:            ', X_train['LotFrontage'].var())\n",
    "print('LotFrontage Variance after 99 wala imputation:     ', X_train['LotFrontage_99'].var())\n",
    "print('LotFrontage Variance after -1 wala imputation:     ', X_train['LotFrontage_minus1'].var())\n",
    "print()\n",
    "print()\n",
    "print('Original MasVnrArea variable variance:             ', X_train['MasVnrArea'].var())\n",
    "print('MasVnrArea Variance after 999 wala imputation:     ', X_train['MasVnrArea_999'].var())\n",
    "print('MasVnrArea Variance after -1 wala imputation:      ', X_train['MasVnrArea_minus1'].var())"
   ]
  },
  {
   "cell_type": "code",
   "execution_count": 9,
   "id": "caf20cb1",
   "metadata": {},
   "outputs": [],
   "source": [
    "def figure_plt(df, feature1, feature2, feature3):\n",
    "    fig = plt.figure()\n",
    "    ax = fig.add_subplot(111)\n",
    "\n",
    "    # original variable distribution\n",
    "    df[feature1].plot(kind='kde', ax=ax)\n",
    "\n",
    "    # variable imputed with the median\n",
    "    df[feature2].plot(kind='kde', ax=ax, color='r')\n",
    "\n",
    "    # variable imputed with the mean\n",
    "    df[feature3].plot(kind='kde', ax=ax, color='y')\n",
    "\n",
    "    # add legends\n",
    "    plt.legend()\n",
    "    #lines, labels = ax.get_legend_handles_labels()\n",
    "    #ax.legend(lines, labels, loc='best')\n",
    "    \n",
    "    plt.show()"
   ]
  },
  {
   "cell_type": "code",
   "execution_count": 10,
   "id": "6c614c72",
   "metadata": {},
   "outputs": [
    {
     "data": {
      "application/javascript": [
       "\n",
       "        if (window._pyforest_update_imports_cell) { window._pyforest_update_imports_cell('import matplotlib.pyplot as plt'); }\n",
       "    "
      ],
      "text/plain": [
       "<IPython.core.display.Javascript object>"
      ]
     },
     "metadata": {},
     "output_type": "display_data"
    },
    {
     "data": {
      "application/javascript": [
       "\n",
       "        if (window._pyforest_update_imports_cell) { window._pyforest_update_imports_cell('import matplotlib.pyplot as plt'); }\n",
       "    "
      ],
      "text/plain": [
       "<IPython.core.display.Javascript object>"
      ]
     },
     "metadata": {},
     "output_type": "display_data"
    },
    {
     "data": {
      "application/javascript": [
       "\n",
       "        if (window._pyforest_update_imports_cell) { window._pyforest_update_imports_cell('import matplotlib.pyplot as plt'); }\n",
       "    "
      ],
      "text/plain": [
       "<IPython.core.display.Javascript object>"
      ]
     },
     "metadata": {},
     "output_type": "display_data"
    },
    {
     "data": {
      "image/png": "[encoded data removed]",
      "text/plain": [
       "<Figure size 432x288 with 1 Axes>"
      ]
     },
     "metadata": {
      "needs_background": "light"
     },
     "output_type": "display_data"
    }
   ],
   "source": [
    "figure_plt(X_train, 'LotFrontage', 'MasVnrArea_999', 'MasVnrArea_999')"
   ]
  },
  {
   "cell_type": "code",
   "execution_count": 11,
   "id": "7a7da2ea",
   "metadata": {},
   "outputs": [
    {
     "data": {
      "application/javascript": [
       "\n",
       "        if (window._pyforest_update_imports_cell) { window._pyforest_update_imports_cell('import matplotlib.pyplot as plt'); }\n",
       "    "
      ],
      "text/plain": [
       "<IPython.core.display.Javascript object>"
      ]
     },
     "metadata": {},
     "output_type": "display_data"
    },
    {
     "data": {
      "application/javascript": [
       "\n",
       "        if (window._pyforest_update_imports_cell) { window._pyforest_update_imports_cell('import matplotlib.pyplot as plt'); }\n",
       "    "
      ],
      "text/plain": [
       "<IPython.core.display.Javascript object>"
      ]
     },
     "metadata": {},
     "output_type": "display_data"
    },
    {
     "data": {
      "application/javascript": [
       "\n",
       "        if (window._pyforest_update_imports_cell) { window._pyforest_update_imports_cell('import matplotlib.pyplot as plt'); }\n",
       "    "
      ],
      "text/plain": [
       "<IPython.core.display.Javascript object>"
      ]
     },
     "metadata": {},
     "output_type": "display_data"
    },
    {
     "data": {
      "image/png": "[encoded data removed]",
      "text/plain": [
       "<Figure size 432x288 with 1 Axes>"
      ]
     },
     "metadata": {
      "needs_background": "light"
     },
     "output_type": "display_data"
    }
   ],
   "source": [
    "figure_plt(X_train, 'MasVnrArea', 'LotFrontage_99', 'MasVnrArea_minus1')"
   ]
  },
  {
   "cell_type": "code",
   "execution_count": 12,
   "id": "a8119db2",
   "metadata": {},
   "outputs": [
    {
     "data": {
      "text/html": [
       "<div>\n",
       "<style scoped>\n",
       "    .dataframe tbody tr th:only-of-type {\n",
       "        vertical-align: middle;\n",
       "    }\n",
       "\n",
       "    .dataframe tbody tr th {\n",
       "        vertical-align: top;\n",
       "    }\n",
       "\n",
       "    .dataframe thead th {\n",
       "        text-align: right;\n",
       "    }\n",
       "</style>\n",
       "<table border=\"1\" class=\"dataframe\">\n",
       "  <thead>\n",
       "    <tr style=\"text-align: right;\">\n",
       "      <th></th>\n",
       "      <th>LotFrontage</th>\n",
       "      <th>MasVnrArea</th>\n",
       "      <th>MoSold</th>\n",
       "      <th>LotFrontage_99</th>\n",
       "      <th>LotFrontage_minus1</th>\n",
       "      <th>MasVnrArea_999</th>\n",
       "      <th>MasVnrArea_minus1</th>\n",
       "    </tr>\n",
       "  </thead>\n",
       "  <tbody>\n",
       "    <tr>\n",
       "      <th>LotFrontage</th>\n",
       "      <td>613.439489</td>\n",
       "      <td>950.593000</td>\n",
       "      <td>0.639980</td>\n",
       "      <td>613.439489</td>\n",
       "      <td>613.439489</td>\n",
       "      <td>945.673027</td>\n",
       "      <td>943.748439</td>\n",
       "    </tr>\n",
       "    <tr>\n",
       "      <th>MasVnrArea</th>\n",
       "      <td>950.593000</td>\n",
       "      <td>31936.277839</td>\n",
       "      <td>3.270333</td>\n",
       "      <td>824.866864</td>\n",
       "      <td>693.453058</td>\n",
       "      <td>31936.277839</td>\n",
       "      <td>31936.277839</td>\n",
       "    </tr>\n",
       "    <tr>\n",
       "      <th>MoSold</th>\n",
       "      <td>0.639980</td>\n",
       "      <td>3.270333</td>\n",
       "      <td>7.378056</td>\n",
       "      <td>0.265976</td>\n",
       "      <td>1.178117</td>\n",
       "      <td>3.237829</td>\n",
       "      <td>2.239337</td>\n",
       "    </tr>\n",
       "    <tr>\n",
       "      <th>LotFrontage_99</th>\n",
       "      <td>613.439489</td>\n",
       "      <td>824.866864</td>\n",
       "      <td>0.265976</td>\n",
       "      <td>627.031740</td>\n",
       "      <td>214.666878</td>\n",
       "      <td>820.602135</td>\n",
       "      <td>819.089651</td>\n",
       "    </tr>\n",
       "    <tr>\n",
       "      <th>LotFrontage_minus1</th>\n",
       "      <td>613.439489</td>\n",
       "      <td>693.453058</td>\n",
       "      <td>1.178117</td>\n",
       "      <td>214.666878</td>\n",
       "      <td>1228.266906</td>\n",
       "      <td>689.859598</td>\n",
       "      <td>688.068329</td>\n",
       "    </tr>\n",
       "    <tr>\n",
       "      <th>MasVnrArea_999</th>\n",
       "      <td>945.673027</td>\n",
       "      <td>31936.277839</td>\n",
       "      <td>3.237829</td>\n",
       "      <td>820.602135</td>\n",
       "      <td>689.859598</td>\n",
       "      <td>31772.093669</td>\n",
       "      <td>31772.897451</td>\n",
       "    </tr>\n",
       "    <tr>\n",
       "      <th>MasVnrArea_minus1</th>\n",
       "      <td>943.748439</td>\n",
       "      <td>31936.277839</td>\n",
       "      <td>2.239337</td>\n",
       "      <td>819.089651</td>\n",
       "      <td>688.068329</td>\n",
       "      <td>31772.897451</td>\n",
       "      <td>31824.851002</td>\n",
       "    </tr>\n",
       "  </tbody>\n",
       "</table>\n",
       "</div>"
      ],
      "text/plain": [
       "                    LotFrontage    MasVnrArea    MoSold  LotFrontage_99  \\\n",
       "LotFrontage          613.439489    950.593000  0.639980      613.439489   \n",
       "MasVnrArea           950.593000  31936.277839  3.270333      824.866864   \n",
       "MoSold                 0.639980      3.270333  7.378056        0.265976   \n",
       "LotFrontage_99       613.439489    824.866864  0.265976      627.031740   \n",
       "LotFrontage_minus1   613.439489    693.453058  1.178117      214.666878   \n",
       "MasVnrArea_999       945.673027  31936.277839  3.237829      820.602135   \n",
       "MasVnrArea_minus1    943.748439  31936.277839  2.239337      819.089651   \n",
       "\n",
       "                    LotFrontage_minus1  MasVnrArea_999  MasVnrArea_minus1  \n",
       "LotFrontage                 613.439489      945.673027         943.748439  \n",
       "MasVnrArea                  693.453058    31936.277839       31936.277839  \n",
       "MoSold                        1.178117        3.237829           2.239337  \n",
       "LotFrontage_99              214.666878      820.602135         819.089651  \n",
       "LotFrontage_minus1         1228.266906      689.859598         688.068329  \n",
       "MasVnrArea_999              689.859598    31772.093669       31772.897451  \n",
       "MasVnrArea_minus1           688.068329    31772.897451       31824.851002  "
      ]
     },
     "execution_count": 12,
     "metadata": {},
     "output_type": "execute_result"
    }
   ],
   "source": [
    "X_train.cov()"
   ]
  },
  {
   "cell_type": "code",
   "execution_count": 13,
   "id": "a024df6a",
   "metadata": {},
   "outputs": [
    {
     "data": {
      "text/html": [
       "<div>\n",
       "<style scoped>\n",
       "    .dataframe tbody tr th:only-of-type {\n",
       "        vertical-align: middle;\n",
       "    }\n",
       "\n",
       "    .dataframe tbody tr th {\n",
       "        vertical-align: top;\n",
       "    }\n",
       "\n",
       "    .dataframe thead th {\n",
       "        text-align: right;\n",
       "    }\n",
       "</style>\n",
       "<table border=\"1\" class=\"dataframe\">\n",
       "  <thead>\n",
       "    <tr style=\"text-align: right;\">\n",
       "      <th></th>\n",
       "      <th>LotFrontage</th>\n",
       "      <th>MasVnrArea</th>\n",
       "      <th>MoSold</th>\n",
       "      <th>LotFrontage_99</th>\n",
       "      <th>LotFrontage_minus1</th>\n",
       "      <th>MasVnrArea_999</th>\n",
       "      <th>MasVnrArea_minus1</th>\n",
       "    </tr>\n",
       "  </thead>\n",
       "  <tbody>\n",
       "    <tr>\n",
       "      <th>LotFrontage</th>\n",
       "      <td>1.000000</td>\n",
       "      <td>0.211135</td>\n",
       "      <td>0.009521</td>\n",
       "      <td>1.000000</td>\n",
       "      <td>1.000000</td>\n",
       "      <td>0.210556</td>\n",
       "      <td>0.209963</td>\n",
       "    </tr>\n",
       "    <tr>\n",
       "      <th>MasVnrArea</th>\n",
       "      <td>0.211135</td>\n",
       "      <td>1.000000</td>\n",
       "      <td>0.006746</td>\n",
       "      <td>0.184330</td>\n",
       "      <td>0.110742</td>\n",
       "      <td>1.000000</td>\n",
       "      <td>1.000000</td>\n",
       "    </tr>\n",
       "    <tr>\n",
       "      <th>MoSold</th>\n",
       "      <td>0.009521</td>\n",
       "      <td>0.006746</td>\n",
       "      <td>1.000000</td>\n",
       "      <td>0.003910</td>\n",
       "      <td>0.012376</td>\n",
       "      <td>0.006687</td>\n",
       "      <td>0.004621</td>\n",
       "    </tr>\n",
       "    <tr>\n",
       "      <th>LotFrontage_99</th>\n",
       "      <td>1.000000</td>\n",
       "      <td>0.184330</td>\n",
       "      <td>0.003910</td>\n",
       "      <td>1.000000</td>\n",
       "      <td>0.244610</td>\n",
       "      <td>0.183851</td>\n",
       "      <td>0.183360</td>\n",
       "    </tr>\n",
       "    <tr>\n",
       "      <th>LotFrontage_minus1</th>\n",
       "      <td>1.000000</td>\n",
       "      <td>0.110742</td>\n",
       "      <td>0.012376</td>\n",
       "      <td>0.244610</td>\n",
       "      <td>1.000000</td>\n",
       "      <td>0.110431</td>\n",
       "      <td>0.110053</td>\n",
       "    </tr>\n",
       "    <tr>\n",
       "      <th>MasVnrArea_999</th>\n",
       "      <td>0.210556</td>\n",
       "      <td>1.000000</td>\n",
       "      <td>0.006687</td>\n",
       "      <td>0.183851</td>\n",
       "      <td>0.110431</td>\n",
       "      <td>1.000000</td>\n",
       "      <td>0.999196</td>\n",
       "    </tr>\n",
       "    <tr>\n",
       "      <th>MasVnrArea_minus1</th>\n",
       "      <td>0.209963</td>\n",
       "      <td>1.000000</td>\n",
       "      <td>0.004621</td>\n",
       "      <td>0.183360</td>\n",
       "      <td>0.110053</td>\n",
       "      <td>0.999196</td>\n",
       "      <td>1.000000</td>\n",
       "    </tr>\n",
       "  </tbody>\n",
       "</table>\n",
       "</div>"
      ],
      "text/plain": [
       "                    LotFrontage  MasVnrArea    MoSold  LotFrontage_99  \\\n",
       "LotFrontage            1.000000    0.211135  0.009521        1.000000   \n",
       "MasVnrArea             0.211135    1.000000  0.006746        0.184330   \n",
       "MoSold                 0.009521    0.006746  1.000000        0.003910   \n",
       "LotFrontage_99         1.000000    0.184330  0.003910        1.000000   \n",
       "LotFrontage_minus1     1.000000    0.110742  0.012376        0.244610   \n",
       "MasVnrArea_999         0.210556    1.000000  0.006687        0.183851   \n",
       "MasVnrArea_minus1      0.209963    1.000000  0.004621        0.183360   \n",
       "\n",
       "                    LotFrontage_minus1  MasVnrArea_999  MasVnrArea_minus1  \n",
       "LotFrontage                   1.000000        0.210556           0.209963  \n",
       "MasVnrArea                    0.110742        1.000000           1.000000  \n",
       "MoSold                        0.012376        0.006687           0.004621  \n",
       "LotFrontage_99                0.244610        0.183851           0.183360  \n",
       "LotFrontage_minus1            1.000000        0.110431           0.110053  \n",
       "MasVnrArea_999                0.110431        1.000000           0.999196  \n",
       "MasVnrArea_minus1             0.110053        0.999196           1.000000  "
      ]
     },
     "execution_count": 13,
     "metadata": {},
     "output_type": "execute_result"
    }
   ],
   "source": [
    "X_train.corr()"
   ]
  },
  {
   "cell_type": "code",
   "execution_count": 14,
   "id": "4ad6eec3",
   "metadata": {},
   "outputs": [
    {
     "data": {
      "text/plain": [
       "<AxesSubplot:>"
      ]
     },
     "execution_count": 14,
     "metadata": {},
     "output_type": "execute_result"
    },
    {
     "data": {
      "image/png": "[encoded data removed]",
      "text/plain": [
       "<Figure size 432x288 with 1 Axes>"
      ]
     },
     "metadata": {
      "needs_background": "light"
     },
     "output_type": "display_data"
    }
   ],
   "source": [
    "X_train[['LotFrontage','LotFrontage_99','LotFrontage_minus1']].boxplot()"
   ]
  },
  {
   "cell_type": "code",
   "execution_count": 15,
   "id": "10c66117",
   "metadata": {},
   "outputs": [
    {
     "data": {
      "text/plain": [
       "<AxesSubplot:>"
      ]
     },
     "execution_count": 15,
     "metadata": {},
     "output_type": "execute_result"
    },
    {
     "data": {
      "image/png": "[encoded data removed]",
      "text/plain": [
       "<Figure size 432x288 with 1 Axes>"
      ]
     },
     "metadata": {
      "needs_background": "light"
     },
     "output_type": "display_data"
    }
   ],
   "source": [
    "X_train[['MasVnrArea','MasVnrArea_999','MasVnrArea_minus1']].boxplot()"
   ]
  },
  {
   "cell_type": "code",
   "execution_count": null,
   "id": "3c3ce31f",
   "metadata": {},
   "outputs": [],
   "source": []
  },
  {
   "cell_type": "markdown",
   "id": "e3d1a304",
   "metadata": {},
   "source": [
    "## Using Sklearn"
   ]
  },
  {
   "cell_type": "code",
   "execution_count": 16,
   "id": "f83e6ff0",
   "metadata": {},
   "outputs": [],
   "source": [
    "X_train,X_test,y_train,y_test = train_test_split(X,y,test_size=0.2,random_state=2)"
   ]
  },
  {
   "cell_type": "code",
   "execution_count": 17,
   "id": "a7ee74a0",
   "metadata": {},
   "outputs": [],
   "source": [
    "imputer1 = SimpleImputer(strategy='constant',fill_value=99)\n",
    "imputer2 = SimpleImputer(strategy='constant',fill_value=999)"
   ]
  },
  {
   "cell_type": "code",
   "execution_count": 18,
   "id": "2eb104c6",
   "metadata": {},
   "outputs": [],
   "source": [
    "trf = ColumnTransformer([\n",
    "    ('imputer1',imputer1,['LotFrontage']),\n",
    "    ('imputer2',imputer2,['MasVnrArea'])\n",
    "],remainder='passthrough')"
   ]
  },
  {
   "cell_type": "code",
   "execution_count": 19,
   "id": "fc9302b2",
   "metadata": {},
   "outputs": [
    {
     "data": {
      "text/plain": [
       "ColumnTransformer(remainder='passthrough',\n",
       "                  transformers=[('imputer1',\n",
       "                                 SimpleImputer(fill_value=99,\n",
       "                                               strategy='constant'),\n",
       "                                 ['LotFrontage']),\n",
       "                                ('imputer2',\n",
       "                                 SimpleImputer(fill_value=999,\n",
       "                                               strategy='constant'),\n",
       "                                 ['MasVnrArea'])])"
      ]
     },
     "execution_count": 19,
     "metadata": {},
     "output_type": "execute_result"
    }
   ],
   "source": [
    "trf.fit(X_train)"
   ]
  },
  {
   "cell_type": "code",
   "execution_count": 20,
   "id": "0f47e4a6",
   "metadata": {},
   "outputs": [
    {
     "data": {
      "text/plain": [
       "array([99.])"
      ]
     },
     "execution_count": 20,
     "metadata": {},
     "output_type": "execute_result"
    }
   ],
   "source": [
    "trf.named_transformers_['imputer1'].statistics_"
   ]
  },
  {
   "cell_type": "code",
   "execution_count": 21,
   "id": "09693a44",
   "metadata": {},
   "outputs": [
    {
     "data": {
      "text/plain": [
       "array([999.])"
      ]
     },
     "execution_count": 21,
     "metadata": {},
     "output_type": "execute_result"
    }
   ],
   "source": [
    "trf.named_transformers_['imputer2'].statistics_"
   ]
  },
  {
   "cell_type": "code",
   "execution_count": 22,
   "id": "4c16576d",
   "metadata": {},
   "outputs": [],
   "source": [
    "X_train = trf.transform(X_train)\n",
    "X_test = trf.transform(X_test)"
   ]
  },
  {
   "cell_type": "code",
   "execution_count": 23,
   "id": "9960ad29",
   "metadata": {},
   "outputs": [
    {
     "data": {
      "text/plain": [
       "array([[ 80., 320.,   9.],\n",
       "       [ 70.,   0.,   7.],\n",
       "       [ 24.,   0.,   6.],\n",
       "       ...,\n",
       "       [ 70.,   0.,   6.],\n",
       "       [ 67., 268.,  11.],\n",
       "       [ 60.,   0.,   7.]])"
      ]
     },
     "execution_count": 23,
     "metadata": {},
     "output_type": "execute_result"
    }
   ],
   "source": [
    "X_train"
   ]
  },
  {
   "cell_type": "markdown",
   "id": "4e6195f8",
   "metadata": {},
   "source": [
    "## Advantage"
   ]
  },
  {
   "cell_type": "markdown",
   "id": "c9a23269",
   "metadata": {},
   "source": [
    "* Easy to use\n",
    "* It is useful when your data is not missing completely at random"
   ]
  },
  {
   "cell_type": "markdown",
   "id": "316ddce5",
   "metadata": {},
   "source": [
    "## Disadvantage"
   ]
  },
  {
   "cell_type": "markdown",
   "id": "52f13b60",
   "metadata": {},
   "source": [
    "* Change or Distortion in the original variance of the Data  (change the distribution of the data)\n",
    "* Arbitrary imputation deosn't preserve relationship between variables such as correlation  (covariance & correlation changes)\n",
    "* Some times it increase the outliers and some times it decreases and some times outliers remains constantm"
   ]
  },
  {
   "cell_type": "code",
   "execution_count": null,
   "id": "745957f3",
   "metadata": {},
   "outputs": [],
   "source": []
  }
 ],
 "metadata": {
  "kernelspec": {
   "display_name": "Python 3",
   "language": "python",
   "name": "python3"
  },
  "language_info": {
   "codemirror_mode": {
    "name": "ipython",
    "version": 3
   },
   "file_extension": ".py",
   "mimetype": "text/x-python",
   "name": "python",
   "nbconvert_exporter": "python",
   "pygments_lexer": "ipython3",
   "version": "3.8.11"
  }
 },
 "nbformat": 4,
 "nbformat_minor": 5
}
