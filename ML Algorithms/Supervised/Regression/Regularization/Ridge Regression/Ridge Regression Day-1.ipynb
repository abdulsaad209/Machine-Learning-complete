{
 "cells": [
  {
   "cell_type": "markdown",
   "id": "e3eee274",
   "metadata": {},
   "source": [
    "## Regularization\n",
    "It is a technique using which you induce some edit information in a machine learning model so that you can reduce overfitting."
   ]
  },
  {
   "cell_type": "markdown",
   "id": "db1ee86f",
   "metadata": {},
   "source": [
    "## Ridge Regression\n",
    "Ridge regression is a model tuning method that is used to analyse any data that suffers from multicollinearity. This method performs L2 regularization. When the issue of multicollinearity occurs, least-squares are unbiased, and variances are large, this results in predicted values to be far away from the actual values."
   ]
  },
  {
   "cell_type": "markdown",
   "id": "68a857a1",
   "metadata": {},
   "source": [
    "**[Sum of(Yi - Yi_pred)^2 + (lambda(m)^2)]**"
   ]
  },
  {
   "cell_type": "markdown",
   "id": "f2494599",
   "metadata": {},
   "source": [
    "<img title=\"Ridge Regression\" src='ridge Regression.png' height=500 width=500 />"
   ]
  },
  {
   "cell_type": "markdown",
   "id": "1c3da862",
   "metadata": {},
   "source": [
    "## Bias\n",
    "* The bias is known as the difference between the prediction of the values by the ML model and the correct value. Being high in biasing gives a large error in training as well as testing data. Its recommended that an algorithm should always be low biased to avoid the problem of underfitting.\n",
    "* The inability of a Machine Learning model to truely capture the relationship in the Training data.It's means that when our model would not perform well on the training data and can't find the hiddent patterns in the train data so it is called as Bias.\n",
    "* High bias means it did not captures the training data well low bias means it captures the training data well.\n",
    "* Generally high bias happens when tha training model is underfitted.\n",
    "\n",
    "\n",
    "## Variance\n",
    "* Variance describes how much a model changes when you train it using different portions of your data set. A model with high variance will have the flexibility to match any data set that's provided to it, potentially resulting in dramatically different models each time.\n",
    "* It is basically an assumption. It learn the Training path of the data proparly but when we give the test data so it not give much accurate resluts so the difference of training accuracy to test accuracy is the variance. Variance is basically Difference of fits on different datasets\n",
    "* when we train the model on a dataset but when we provide another dataset for test so it's performance and accuracy is different. So the difference is called the variance.\n",
    "* When the difference is less among train and test so the variance is low rather than difference is high then variance becomes high.\n",
    "* Generally it happens when the training model is overfitted.\n",
    "\n",
    "***Always try to find the Low Variance and Low Bias***"
   ]
  },
  {
   "cell_type": "markdown",
   "id": "df377623",
   "metadata": {},
   "source": [
    "### There are three methods to handling the Bias and Variance.\n",
    "* Regularization\n",
    "* Bagging\n",
    "* Boosting"
   ]
  },
  {
   "cell_type": "code",
   "execution_count": 1,
   "id": "b3f7c57c",
   "metadata": {},
   "outputs": [],
   "source": [
    "import numpy as np\n",
    "import pandas as pd\n",
    "import matplotlib.pyplot as plt"
   ]
  },
  {
   "cell_type": "code",
   "execution_count": 2,
   "id": "5346de3f",
   "metadata": {},
   "outputs": [],
   "source": [
    "from sklearn.datasets import load_diabetes"
   ]
  },
  {
   "cell_type": "code",
   "execution_count": 3,
   "id": "c78d4d64",
   "metadata": {},
   "outputs": [],
   "source": [
    "data = load_diabetes()"
   ]
  },
  {
   "cell_type": "code",
   "execution_count": 4,
   "id": "ea35eb06",
   "metadata": {},
   "outputs": [
    {
     "name": "stdout",
     "output_type": "stream",
     "text": [
      ".. _diabetes_dataset:\n",
      "\n",
      "Diabetes dataset\n",
      "----------------\n",
      "\n",
      "Ten baseline variables, age, sex, body mass index, average blood\n",
      "pressure, and six blood serum measurements were obtained for each of n =\n",
      "442 diabetes patients, as well as the response of interest, a\n",
      "quantitative measure of disease progression one year after baseline.\n",
      "\n",
      "**Data Set Characteristics:**\n",
      "\n",
      "  :Number of Instances: 442\n",
      "\n",
      "  :Number of Attributes: First 10 columns are numeric predictive values\n",
      "\n",
      "  :Target: Column 11 is a quantitative measure of disease progression one year after baseline\n",
      "\n",
      "  :Attribute Information:\n",
      "      - age     age in years\n",
      "      - sex\n",
      "      - bmi     body mass index\n",
      "      - bp      average blood pressure\n",
      "      - s1      tc, total serum cholesterol\n",
      "      - s2      ldl, low-density lipoproteins\n",
      "      - s3      hdl, high-density lipoproteins\n",
      "      - s4      tch, total cholesterol / HDL\n",
      "      - s5      ltg, possibly log of serum triglycerides level\n",
      "      - s6      glu, blood sugar level\n",
      "\n",
      "Note: Each of these 10 feature variables have been mean centered and scaled by the standard deviation times `n_samples` (i.e. the sum of squares of each column totals 1).\n",
      "\n",
      "Source URL:\n",
      "https://www4.stat.ncsu.edu/~boos/var.select/diabetes.html\n",
      "\n",
      "For more information see:\n",
      "Bradley Efron, Trevor Hastie, Iain Johnstone and Robert Tibshirani (2004) \"Least Angle Regression,\" Annals of Statistics (with discussion), 407-499.\n",
      "(https://web.stanford.edu/~hastie/Papers/LARS/LeastAngle_2002.pdf)\n"
     ]
    }
   ],
   "source": [
    "print(data.DESCR)"
   ]
  },
  {
   "cell_type": "code",
   "execution_count": 5,
   "id": "1d24fa36",
   "metadata": {},
   "outputs": [],
   "source": [
    "X = data.data\n",
    "y = data.target"
   ]
  },
  {
   "cell_type": "code",
   "execution_count": 6,
   "id": "26e5446b",
   "metadata": {},
   "outputs": [],
   "source": [
    "from sklearn.model_selection import train_test_split\n",
    "X_train,X_test,y_train,y_test = train_test_split(X, y, test_size=0.2, random_state=45)"
   ]
  },
  {
   "cell_type": "code",
   "execution_count": 7,
   "id": "a7ae870e",
   "metadata": {},
   "outputs": [],
   "source": [
    "from sklearn.linear_model import LinearRegression\n",
    "lr = LinearRegression()"
   ]
  },
  {
   "cell_type": "code",
   "execution_count": 8,
   "id": "1aa0ad64",
   "metadata": {},
   "outputs": [
    {
     "data": {
      "text/plain": [
       "LinearRegression()"
      ]
     },
     "execution_count": 8,
     "metadata": {},
     "output_type": "execute_result"
    }
   ],
   "source": [
    "lr.fit(X_train, y_train)"
   ]
  },
  {
   "cell_type": "code",
   "execution_count": 9,
   "id": "9fb79418",
   "metadata": {},
   "outputs": [
    {
     "name": "stdout",
     "output_type": "stream",
     "text": [
      "[  23.45388514 -247.43107084  492.10188174  329.36498638 -970.79784704\n",
      "  573.54460121  182.41386124  255.9162021   794.21654496   89.32074078]\n",
      "152.13619339070766\n"
     ]
    }
   ],
   "source": [
    "print(lr.coef_)\n",
    "print(lr.intercept_)"
   ]
  },
  {
   "cell_type": "code",
   "execution_count": 10,
   "id": "a75a7151",
   "metadata": {},
   "outputs": [],
   "source": [
    "y_pred=lr.predict(X_test)"
   ]
  },
  {
   "cell_type": "code",
   "execution_count": 11,
   "id": "6c3626c1",
   "metadata": {},
   "outputs": [
    {
     "name": "stdout",
     "output_type": "stream",
     "text": [
      "R2 score is:  0.5188118914964637\n",
      "RMSE is:  48.72710829141399\n"
     ]
    }
   ],
   "source": [
    "from sklearn.metrics import r2_score,mean_squared_error\n",
    "\n",
    "print(\"R2 score is: \",r2_score(y_test,y_pred))\n",
    "print(\"RMSE is: \",np.sqrt(mean_squared_error(y_test,y_pred)))"
   ]
  },
  {
   "cell_type": "code",
   "execution_count": 12,
   "id": "5ea787cc",
   "metadata": {},
   "outputs": [],
   "source": [
    "from sklearn.linear_model import Ridge\n",
    "R=Ridge(alpha=0.0001)  # alpha is lambda value in the equation"
   ]
  },
  {
   "cell_type": "code",
   "execution_count": 13,
   "id": "dd75421b",
   "metadata": {},
   "outputs": [
    {
     "data": {
      "text/plain": [
       "Ridge(alpha=0.0001)"
      ]
     },
     "execution_count": 13,
     "metadata": {},
     "output_type": "execute_result"
    }
   ],
   "source": [
    "R.fit(X_train,y_train)"
   ]
  },
  {
   "cell_type": "code",
   "execution_count": 14,
   "id": "353ae79d",
   "metadata": {},
   "outputs": [
    {
     "name": "stdout",
     "output_type": "stream",
     "text": [
      "[  23.51686911 -247.32125446  492.275602    329.33800911 -957.4635746\n",
      "  562.90448286  176.70286753  254.46487953  789.10899582   89.41201826]\n",
      "152.13488083249402\n"
     ]
    }
   ],
   "source": [
    "print(R.coef_)\n",
    "print(R.intercept_)"
   ]
  },
  {
   "cell_type": "code",
   "execution_count": 15,
   "id": "1b67a54e",
   "metadata": {},
   "outputs": [],
   "source": [
    "y_pred1=R.predict(X_test)"
   ]
  },
  {
   "cell_type": "code",
   "execution_count": 16,
   "id": "31a2644b",
   "metadata": {},
   "outputs": [
    {
     "name": "stdout",
     "output_type": "stream",
     "text": [
      "R2 score 0.5189738344370788\n",
      "RMSE 48.71890809371286\n"
     ]
    }
   ],
   "source": [
    "print(\"R2 score\",r2_score(y_test,y_pred1))\n",
    "print(\"RMSE\",np.sqrt(mean_squared_error(y_test,y_pred1)))"
   ]
  },
  {
   "cell_type": "code",
   "execution_count": 17,
   "id": "bdc38151",
   "metadata": {},
   "outputs": [
    {
     "data": {
      "image/png": "[encoded data removed]",
      "text/plain": [
       "<Figure size 640x480 with 1 Axes>"
      ]
     },
     "metadata": {},
     "output_type": "display_data"
    }
   ],
   "source": [
    "m = 100\n",
    "x1 = 5 * np.random.rand(m, 1) - 2\n",
    "x2 = 0.7 * x1 ** 2 - 2 * x1 + 3 + np.random.randn(m, 1)\n",
    "\n",
    "plt.scatter(x1, x2)\n",
    "plt.show()"
   ]
  },
  {
   "cell_type": "code",
   "execution_count": 18,
   "id": "dfbb93f9",
   "metadata": {},
   "outputs": [
    {
     "data": {
      "image/png": "[encoded data removed]",
      "text/plain": [
       "<Figure size 1000x600 with 1 Axes>"
      ]
     },
     "metadata": {},
     "output_type": "display_data"
    }
   ],
   "source": [
    "from sklearn.pipeline import Pipeline\n",
    "from sklearn.preprocessing import PolynomialFeatures\n",
    "\n",
    "def get_preds_ridge(x1, x2, alpha):\n",
    "    model = Pipeline([\n",
    "        ('poly_feats', PolynomialFeatures(degree=16)),\n",
    "        ('ridge', Ridge(alpha=alpha))\n",
    "    ])\n",
    "    model.fit(x1, x2)\n",
    "    return model.predict(x1)\n",
    "\n",
    "alphas = [0, 20, 200]\n",
    "cs = ['r', 'g', 'b']\n",
    "\n",
    "plt.figure(figsize=(10, 6))\n",
    "plt.plot(x1, x2, 'b+', label='Datapoints')\n",
    "\n",
    "for alpha, c in zip(alphas, cs):\n",
    "    preds = get_preds_ridge(x1, x2, alpha)\n",
    "    # Plot\n",
    "    plt.plot(sorted(x1[:, 0]), preds[np.argsort(x1[:, 0])], c, label='Alpha: {}'.format(alpha))\n",
    "\n",
    "plt.legend()\n",
    "plt.show()"
   ]
  },
  {
   "cell_type": "code",
   "execution_count": 19,
   "id": "466c374f",
   "metadata": {},
   "outputs": [
    {
     "name": "stdout",
     "output_type": "stream",
     "text": [
      "[1, 2, 3, 4, 5, 6]\n",
      "[1, 2, 3, 4, 5, 6]\n"
     ]
    }
   ],
   "source": [
    "first = [1,2,3,4,5]\n",
    "second = first\n",
    "second.append(6)\n",
    "print(first)\n",
    "print(second)"
   ]
  },
  {
   "cell_type": "code",
   "execution_count": null,
   "id": "5ef057af",
   "metadata": {},
   "outputs": [],
   "source": []
  }
 ],
 "metadata": {
  "kernelspec": {
   "display_name": "Python 3",
   "language": "python",
   "name": "python3"
  },
  "language_info": {
   "codemirror_mode": {
    "name": "ipython",
    "version": 3
   },
   "file_extension": ".py",
   "mimetype": "text/x-python",
   "name": "python",
   "nbconvert_exporter": "python",
   "pygments_lexer": "ipython3",
   "version": "3.8.11"
  }
 },
 "nbformat": 4,
 "nbformat_minor": 5
}
