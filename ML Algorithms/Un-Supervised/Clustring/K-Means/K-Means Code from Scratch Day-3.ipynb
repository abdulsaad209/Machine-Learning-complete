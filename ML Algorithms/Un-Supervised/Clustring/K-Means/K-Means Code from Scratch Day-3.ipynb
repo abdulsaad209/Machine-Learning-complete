{
 "cells": [
  {
   "cell_type": "markdown",
   "id": "277e36f1",
   "metadata": {},
   "source": [
    "## Steps\n",
    "* Decide clusters\n",
    "* Select random centroids\n",
    "* Assign clusters\n",
    "* Move centroids\n",
    "* Check finish"
   ]
  },
  {
   "cell_type": "code",
   "execution_count": 1,
   "id": "6d4c3f16",
   "metadata": {},
   "outputs": [],
   "source": [
    "from sklearn.datasets import make_blobs\n",
    "import matplotlib.pyplot as plt\n",
    "%matplotlib inline\n",
    "#!pip install kmeans\n",
    "from sklearn.cluster import KMeans\n",
    "import numpy as np"
   ]
  },
  {
   "cell_type": "code",
   "execution_count": 2,
   "id": "bb8fed9f",
   "metadata": {},
   "outputs": [],
   "source": [
    "centroids = [(-5,-5),(5,5)]\n",
    "cluster_std = [1,1]"
   ]
  },
  {
   "cell_type": "code",
   "execution_count": 3,
   "id": "49101bb8",
   "metadata": {},
   "outputs": [],
   "source": [
    "X,y = make_blobs(n_samples=100, centers=centroids, cluster_std=cluster_std, n_features=2, random_state=2)"
   ]
  },
  {
   "cell_type": "code",
   "execution_count": 4,
   "id": "86ee3156",
   "metadata": {},
   "outputs": [
    {
     "data": {
      "text/plain": [
       "array([0, 0, 0, 0, 1, 0, 0, 1, 0, 1, 1, 1, 0, 1, 1, 1, 1, 0, 0, 0, 0, 0,\n",
       "       1, 0, 1, 0, 1, 0, 0, 1, 1, 1, 0, 0, 0, 0, 1, 1, 1, 1, 0, 0, 1, 1,\n",
       "       0, 1, 1, 0, 1, 1, 0, 0, 1, 1, 1, 0, 1, 0, 1, 0, 1, 0, 0, 1, 1, 0,\n",
       "       1, 1, 1, 0, 1, 0, 0, 0, 1, 0, 0, 1, 1, 0, 1, 1, 1, 0, 1, 0, 0, 1,\n",
       "       0, 0, 1, 0, 0, 1, 1, 0, 1, 0, 0, 1], dtype=int32)"
      ]
     },
     "execution_count": 4,
     "metadata": {},
     "output_type": "execute_result"
    }
   ],
   "source": [
    "km = KMeans(n_clusters=2, max_iter=100)\n",
    "km.fit_predict(X)"
   ]
  },
  {
   "cell_type": "code",
   "execution_count": 5,
   "id": "3e660c3f",
   "metadata": {
    "scrolled": true
   },
   "outputs": [
    {
     "data": {
      "text/plain": [
       "array([[-5.3135082 , -4.22898826],\n",
       "       [-5.65325027, -4.15754372],\n",
       "       [-4.49711858, -6.24528809],\n",
       "       [-4.30488039, -7.03346655],\n",
       "       [ 5.36505352,  5.77408203],\n",
       "       [-5.26905696, -2.76863321],\n",
       "       [-7.1361961 , -3.35972919],\n",
       "       [ 5.79918   ,  6.26261366],\n",
       "       [-7.04032305, -4.95374448],\n",
       "       [ 5.39652016,  4.68538256],\n",
       "       [ 6.11788673,  4.72575791],\n",
       "       [ 9.10869262,  5.82112088],\n",
       "       [-4.49814279, -5.8442137 ],\n",
       "       [ 5.61014409,  5.4234969 ],\n",
       "       [ 3.54663565,  4.66198222],\n",
       "       [ 6.53176032,  3.01415423],\n",
       "       [ 4.67495037,  4.43976549],\n",
       "       [-4.17529699, -3.75178708],\n",
       "       [-5.46200535, -4.64911151],\n",
       "       [-5.67767558, -6.43943903],\n",
       "       [-3.63276458, -3.78211437],\n",
       "       [-4.61813377, -4.43372456],\n",
       "       [ 4.77175244,  2.93038774],\n",
       "       [-4.44854596, -2.70779199],\n",
       "       [ 5.96078194,  5.75837035],\n",
       "       [-5.0191305 , -3.82499878],\n",
       "       [ 4.53165374,  3.74527969],\n",
       "       [-6.42121723, -5.1534952 ],\n",
       "       [-5.38151648, -4.93351099],\n",
       "       [ 5.49794015,  5.12650418],\n",
       "       [ 5.35913333,  5.62222041],\n",
       "       [ 4.28074616,  4.41658541],\n",
       "       [-6.05795222, -5.90900761],\n",
       "       [-5.03957024, -4.67399657],\n",
       "       [-5.33882197, -5.23618403],\n",
       "       [-4.99999024, -4.45764743],\n",
       "       [ 4.40624442,  6.14950057],\n",
       "       [ 7.55043824,  3.52682675],\n",
       "       [ 6.33556617,  5.30262934],\n",
       "       [ 5.69619798,  5.69741627],\n",
       "       [-6.79343559, -5.84174737],\n",
       "       [-3.99963411, -5.38109252],\n",
       "       [ 3.97858527,  5.4323957 ],\n",
       "       [ 4.8855787 ,  4.50182581],\n",
       "       [-7.65944946, -5.09145262],\n",
       "       [ 4.69591356,  7.58529487],\n",
       "       [ 6.03302907,  4.67099757],\n",
       "       [-5.82913529, -4.91228978],\n",
       "       [ 4.63552091,  4.12402052],\n",
       "       [ 4.54577215,  5.51437072],\n",
       "       [-4.46094168, -5.5961597 ],\n",
       "       [-4.61952803, -5.21713527],\n",
       "       [ 4.67641993,  5.42382471],\n",
       "       [ 6.83533272,  5.44068987],\n",
       "       [ 3.93920096,  5.59166652],\n",
       "       [-5.40389227, -6.38451867],\n",
       "       [ 4.30141005,  4.07110808],\n",
       "       [-4.79579202, -3.59330376],\n",
       "       [ 6.16152149,  5.38607805],\n",
       "       [-5.74787095, -4.99097475],\n",
       "       [ 6.10914328,  3.23508227],\n",
       "       [-7.43476758, -4.8872735 ],\n",
       "       [-5.63467931, -4.49160376],\n",
       "       [ 5.75196485,  4.00623902],\n",
       "       [ 5.60151581,  5.00365949],\n",
       "       [-4.38865922, -4.95202941],\n",
       "       [ 4.81674343,  6.01985473],\n",
       "       [ 3.86686673,  5.43309255],\n",
       "       [ 3.45332539,  2.91734806],\n",
       "       [-5.37566942, -5.07447076],\n",
       "       [ 8.2797454 ,  5.97086132],\n",
       "       [-5.41675785, -5.05626683],\n",
       "       [-3.53232199, -5.33567734],\n",
       "       [-4.47570357, -4.26472042],\n",
       "       [ 4.09775393,  4.40902772],\n",
       "       [-6.7379595 , -3.95917605],\n",
       "       [-4.78388399, -6.85861239],\n",
       "       [ 4.72382051,  4.48311611],\n",
       "       [ 3.58118945,  4.74822588],\n",
       "       [-6.09873895, -3.41551294],\n",
       "       [ 5.82945843,  5.63062197],\n",
       "       [ 3.74457278,  5.93816367],\n",
       "       [ 3.86568152,  4.29257911],\n",
       "       [-4.95846061, -6.11792545],\n",
       "       [ 5.12482365,  5.75650214],\n",
       "       [-5.41931648, -5.1323289 ],\n",
       "       [-5.63765501, -6.18761229],\n",
       "       [ 3.51753452,  5.84631189],\n",
       "       [-3.8264685 , -7.34360319],\n",
       "       [-5.87810789, -5.15643417],\n",
       "       [ 6.74181219,  4.55249912],\n",
       "       [-5.18946926, -5.07721867],\n",
       "       [-4.62955546, -3.64036614],\n",
       "       [ 6.79259285,  4.57098668],\n",
       "       [ 5.24143963,  5.49742565],\n",
       "       [-4.56650367, -3.72162077],\n",
       "       [ 3.77857083,  6.80447664],\n",
       "       [-6.86809065, -3.26881533],\n",
       "       [-4.74342955, -5.98877905],\n",
       "       [ 5.18040981,  5.55316427]])"
      ]
     },
     "execution_count": 5,
     "metadata": {},
     "output_type": "execute_result"
    }
   ],
   "source": [
    "X"
   ]
  },
  {
   "cell_type": "code",
   "execution_count": 6,
   "id": "c46e03d5",
   "metadata": {},
   "outputs": [
    {
     "data": {
      "text/plain": [
       "<matplotlib.collections.PathCollection at 0x7f9c5c22a790>"
      ]
     },
     "execution_count": 6,
     "metadata": {},
     "output_type": "execute_result"
    },
    {
     "data": {
      "image/png": "[encoded data removed]",
      "text/plain": [
       "<Figure size 432x288 with 1 Axes>"
      ]
     },
     "metadata": {
      "needs_background": "light"
     },
     "output_type": "display_data"
    }
   ],
   "source": [
    "plt.scatter(X[:,0], X[:,1])"
   ]
  },
  {
   "cell_type": "code",
   "execution_count": 7,
   "id": "dfff4c0a",
   "metadata": {},
   "outputs": [],
   "source": [
    "import random\n",
    "class KMeans:\n",
    "    def __init__(self, n_clusters=2, max_iter=100):\n",
    "        self.n_clusters = n_clusters\n",
    "        self.max_iter = max_iter\n",
    "        self.centroids = None\n",
    "        \n",
    "    def fit_predict(self, X):\n",
    "        random_index = random.sample(range(0, X.shape[0]),self.n_clusters)\n",
    "        self.centroids = X[random_index] # select random centroids\n",
    "        \n",
    "        for i in range(self.max_iter):\n",
    "            # assign clusters\n",
    "            cluster_group = self.assign_clusters(X)\n",
    "    \n",
    "            old_centroids = self.centroids\n",
    "            \n",
    "            # move centroids\n",
    "            self.centroids = self.move_centroids(X, cluster_group)\n",
    "            \n",
    "            \n",
    "            # check finish\n",
    "            if (old_centroids == self.centroids).all():\n",
    "                break\n",
    "        return cluster_group\n",
    "            \n",
    "    def assign_clusters(self, X):\n",
    "        cluster_group = []\n",
    "        distances = []\n",
    "            \n",
    "        for row in X:\n",
    "            for centroid in self.centroids:\n",
    "                # now i calculate the distance between current row and current centroid\n",
    "                distances.append(np.sqrt(np.dot(row-centroid, row-centroid)))  # Eucledian Distance\n",
    "            min_distance = min(distances)\n",
    "            index_position = distances.index(min_distance)\n",
    "            cluster_group.append(index_position)\n",
    "            \n",
    "            distances.clear()\n",
    "                    \n",
    "        return np.array(cluster_group)\n",
    "        \n",
    "    def move_centroids(self, X, cluster_group):\n",
    "        new_centroids = []\n",
    "        \n",
    "        cluster_type = np.unique(cluster_group)\n",
    "        \n",
    "        for type in cluster_type:\n",
    "            new_centroids.append(X[cluster_group == type].mean(axis=0))\n",
    "        \n",
    "        return np.array(new_centroids)"
   ]
  },
  {
   "cell_type": "code",
   "execution_count": 11,
   "id": "de6ad173",
   "metadata": {},
   "outputs": [],
   "source": [
    "centroids = [(-5,-5),(5,5),(-2.5,2.5),(2.5,-2.5)]\n",
    "cluster_std = [1,1,1,1]"
   ]
  },
  {
   "cell_type": "code",
   "execution_count": 12,
   "id": "954f2973",
   "metadata": {},
   "outputs": [],
   "source": [
    "X,y = make_blobs(n_samples=100, centers=centroids, cluster_std=cluster_std, n_features=2, random_state=2)"
   ]
  },
  {
   "cell_type": "code",
   "execution_count": 13,
   "id": "6ae27d7c",
   "metadata": {
    "scrolled": true
   },
   "outputs": [
    {
     "data": {
      "text/plain": [
       "<matplotlib.collections.PathCollection at 0x7f9c5c0561c0>"
      ]
     },
     "execution_count": 13,
     "metadata": {},
     "output_type": "execute_result"
    },
    {
     "data": {
      "image/png": "[encoded data removed]",
      "text/plain": [
       "<Figure size 432x288 with 1 Axes>"
      ]
     },
     "metadata": {
      "needs_background": "light"
     },
     "output_type": "display_data"
    }
   ],
   "source": [
    "km = KMeans(n_clusters=4, max_iter=100)\n",
    "y_pred = km.fit_predict(X)\n",
    "\n",
    "plt.scatter(X[y_pred == 0,0],X[y_pred == 0,1], color='red')\n",
    "plt.scatter(X[y_pred == 1,0],X[y_pred == 1,1], color='blue')\n",
    "plt.scatter(X[y_pred == 2,0],X[y_pred == 2,1], color='green')\n",
    "plt.scatter(X[y_pred == 3,0],X[y_pred == 3,1], color='yellow')"
   ]
  },
  {
   "cell_type": "code",
   "execution_count": 14,
   "id": "bc782e30",
   "metadata": {},
   "outputs": [
    {
     "data": {
      "text/plain": [
       "<matplotlib.collections.PathCollection at 0x7f9c5c04a3d0>"
      ]
     },
     "execution_count": 14,
     "metadata": {},
     "output_type": "execute_result"
    },
    {
     "data": {
      "image/png": "[encoded data removed]",
      "text/plain": [
       "<Figure size 432x288 with 1 Axes>"
      ]
     },
     "metadata": {
      "needs_background": "light"
     },
     "output_type": "display_data"
    }
   ],
   "source": [
    "# When max iteration value is not suitable provided\n",
    "km = KMeans(n_clusters=4, max_iter=1)\n",
    "y_pred = km.fit_predict(X)\n",
    "\n",
    "plt.scatter(X[y_pred == 0,0],X[y_pred == 0,1], color='red')\n",
    "plt.scatter(X[y_pred == 1,0],X[y_pred == 1,1], color='blue')\n",
    "plt.scatter(X[y_pred == 2,0],X[y_pred == 2,1], color='green')\n",
    "plt.scatter(X[y_pred == 3,0],X[y_pred == 3,1], color='yellow')"
   ]
  },
  {
   "cell_type": "code",
   "execution_count": 15,
   "id": "77bd01f0",
   "metadata": {},
   "outputs": [
    {
     "data": {
      "application/javascript": [
       "\n",
       "        if (window._pyforest_update_imports_cell) { window._pyforest_update_imports_cell('import pandas as pd'); }\n",
       "    "
      ],
      "text/plain": [
       "<IPython.core.display.Javascript object>"
      ]
     },
     "metadata": {},
     "output_type": "display_data"
    }
   ],
   "source": [
    "# on the different dataset\n",
    "df = pd.read_csv('images/student_clustring.csv')"
   ]
  },
  {
   "cell_type": "code",
   "execution_count": 16,
   "id": "ecf8fdeb",
   "metadata": {},
   "outputs": [
    {
     "data": {
      "text/html": [
       "<div>\n",
       "<style scoped>\n",
       "    .dataframe tbody tr th:only-of-type {\n",
       "        vertical-align: middle;\n",
       "    }\n",
       "\n",
       "    .dataframe tbody tr th {\n",
       "        vertical-align: top;\n",
       "    }\n",
       "\n",
       "    .dataframe thead th {\n",
       "        text-align: right;\n",
       "    }\n",
       "</style>\n",
       "<table border=\"1\" class=\"dataframe\">\n",
       "  <thead>\n",
       "    <tr style=\"text-align: right;\">\n",
       "      <th></th>\n",
       "      <th>cgpa</th>\n",
       "      <th>iq</th>\n",
       "    </tr>\n",
       "  </thead>\n",
       "  <tbody>\n",
       "    <tr>\n",
       "      <th>0</th>\n",
       "      <td>5.13</td>\n",
       "      <td>88</td>\n",
       "    </tr>\n",
       "    <tr>\n",
       "      <th>1</th>\n",
       "      <td>5.90</td>\n",
       "      <td>113</td>\n",
       "    </tr>\n",
       "    <tr>\n",
       "      <th>2</th>\n",
       "      <td>8.36</td>\n",
       "      <td>93</td>\n",
       "    </tr>\n",
       "    <tr>\n",
       "      <th>3</th>\n",
       "      <td>8.27</td>\n",
       "      <td>97</td>\n",
       "    </tr>\n",
       "    <tr>\n",
       "      <th>4</th>\n",
       "      <td>5.45</td>\n",
       "      <td>110</td>\n",
       "    </tr>\n",
       "  </tbody>\n",
       "</table>\n",
       "</div>"
      ],
      "text/plain": [
       "   cgpa   iq\n",
       "0  5.13   88\n",
       "1  5.90  113\n",
       "2  8.36   93\n",
       "3  8.27   97\n",
       "4  5.45  110"
      ]
     },
     "execution_count": 16,
     "metadata": {},
     "output_type": "execute_result"
    }
   ],
   "source": [
    "df.head()"
   ]
  },
  {
   "cell_type": "code",
   "execution_count": 17,
   "id": "38d506c4",
   "metadata": {},
   "outputs": [],
   "source": [
    "X = df.iloc[:,:].values"
   ]
  },
  {
   "cell_type": "code",
   "execution_count": 18,
   "id": "db33682e",
   "metadata": {},
   "outputs": [
    {
     "data": {
      "text/plain": [
       "<matplotlib.collections.PathCollection at 0x7f9c4fa89160>"
      ]
     },
     "execution_count": 18,
     "metadata": {},
     "output_type": "execute_result"
    },
    {
     "data": {
      "image/png": "[encoded data removed]",
      "text/plain": [
       "<Figure size 432x288 with 1 Axes>"
      ]
     },
     "metadata": {
      "needs_background": "light"
     },
     "output_type": "display_data"
    }
   ],
   "source": [
    "# When max iteration value is not suitable provided\n",
    "km = KMeans(n_clusters=4, max_iter=100)\n",
    "y_pred = km.fit_predict(X)\n",
    "\n",
    "plt.scatter(X[y_pred == 0,0],X[y_pred == 0,1], color='red')\n",
    "plt.scatter(X[y_pred == 1,0],X[y_pred == 1,1], color='blue')\n",
    "plt.scatter(X[y_pred == 2,0],X[y_pred == 2,1], color='green')\n",
    "plt.scatter(X[y_pred == 3,0],X[y_pred == 3,1], color='yellow')"
   ]
  },
  {
   "cell_type": "code",
   "execution_count": null,
   "id": "680ee096",
   "metadata": {},
   "outputs": [],
   "source": []
  }
 ],
 "metadata": {
  "kernelspec": {
   "display_name": "Python 3",
   "language": "python",
   "name": "python3"
  },
  "language_info": {
   "codemirror_mode": {
    "name": "ipython",
    "version": 3
   },
   "file_extension": ".py",
   "mimetype": "text/x-python",
   "name": "python",
   "nbconvert_exporter": "python",
   "pygments_lexer": "ipython3",
   "version": "3.8.11"
  }
 },
 "nbformat": 4,
 "nbformat_minor": 5
}
