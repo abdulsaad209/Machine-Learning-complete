{
 "cells": [
  {
   "cell_type": "markdown",
   "id": "a8b62712",
   "metadata": {},
   "source": [
    "# K-Means Clustring:\n",
    "K-means clustering uses “centroids”, K different randomly-initiated points in the data, and assigns every data point to the nearest centroid. After every point has been assigned, the centroid is moved to the average of all of the points assigned to it."
   ]
  },
  {
   "cell_type": "markdown",
   "id": "8a42fe42",
   "metadata": {},
   "source": [
    "## Steps:\n",
    "* Decide n clusters\n",
    "* Initiallized centroids\n",
    "* Assign cluster\n",
    "* Move centroids\n",
    "* Finish"
   ]
  },
  {
   "cell_type": "markdown",
   "id": "a3f49c9b",
   "metadata": {},
   "source": [
    "<img src='images/k means.jpg' width=600 />"
   ]
  },
  {
   "cell_type": "markdown",
   "id": "f81f2a22",
   "metadata": {},
   "source": [
    "## Within-Cluster Sum of Square\n",
    "For each value of K, we are calculating WCSS ( Within-Cluster Sum of Square ). WCSS is the sum of squared distance between each point and the centroid in a cluster. ... The K value corresponding to this point is the optimal K value or an optimal number of clusters."
   ]
  },
  {
   "cell_type": "markdown",
   "id": "8c8a4cc3",
   "metadata": {},
   "source": [
    "<img src='images/wcss-k-means.png' width=800 />"
   ]
  },
  {
   "cell_type": "markdown",
   "id": "46c90d61",
   "metadata": {},
   "source": [
    "## The Elbow Method\n",
    "\n",
    "Calculate the Within-Cluster-Sum of Squared Errors (WCSS) for different values of k, and choose the k for which WSS becomes first starts to diminish. In the plot of WCSS-versus-k, this is visible as an elbow."
   ]
  },
  {
   "cell_type": "markdown",
   "id": "3081f8f5",
   "metadata": {},
   "source": [
    "<img src='images/elbow curve.png' width=400 />"
   ]
  },
  {
   "cell_type": "code",
   "execution_count": null,
   "id": "ebff398f",
   "metadata": {},
   "outputs": [],
   "source": []
  }
 ],
 "metadata": {
  "kernelspec": {
   "display_name": "Python 3",
   "language": "python",
   "name": "python3"
  },
  "language_info": {
   "codemirror_mode": {
    "name": "ipython",
    "version": 3
   },
   "file_extension": ".py",
   "mimetype": "text/x-python",
   "name": "python",
   "nbconvert_exporter": "python",
   "pygments_lexer": "ipython3",
   "version": "3.8.11"
  }
 },
 "nbformat": 4,
 "nbformat_minor": 5
}
