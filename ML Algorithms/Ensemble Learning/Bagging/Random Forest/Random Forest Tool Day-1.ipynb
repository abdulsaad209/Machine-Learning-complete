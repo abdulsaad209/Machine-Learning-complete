{
 "cells": [
  {
   "cell_type": "markdown",
   "id": "6aa9bf7a",
   "metadata": {},
   "source": [
    "# Random Forest:\n",
    "Random forest is a **Bagging Base technique**.In this model the **Bagging base models** should be **Decision trees**. "
   ]
  },
  {
   "cell_type": "code",
   "execution_count": 1,
   "id": "f8a35584",
   "metadata": {},
   "outputs": [],
   "source": [
    "import numpy as np\n",
    "import pandas as pd\n",
    "from sklearn.datasets import make_classification\n",
    "%matplotlib inline"
   ]
  },
  {
   "cell_type": "code",
   "execution_count": 2,
   "id": "8714938a",
   "metadata": {},
   "outputs": [],
   "source": [
    "X,y = make_classification(n_features=5, n_redundant=0, n_informative=5,n_clusters_per_class=1)"
   ]
  },
  {
   "cell_type": "code",
   "execution_count": 3,
   "id": "43b223bb",
   "metadata": {},
   "outputs": [
    {
     "name": "stdout",
     "output_type": "stream",
     "text": [
      "(100, 6)\n"
     ]
    },
    {
     "data": {
      "text/html": [
       "<div>\n",
       "<style scoped>\n",
       "    .dataframe tbody tr th:only-of-type {\n",
       "        vertical-align: middle;\n",
       "    }\n",
       "\n",
       "    .dataframe tbody tr th {\n",
       "        vertical-align: top;\n",
       "    }\n",
       "\n",
       "    .dataframe thead th {\n",
       "        text-align: right;\n",
       "    }\n",
       "</style>\n",
       "<table border=\"1\" class=\"dataframe\">\n",
       "  <thead>\n",
       "    <tr style=\"text-align: right;\">\n",
       "      <th></th>\n",
       "      <th>col1</th>\n",
       "      <th>col2</th>\n",
       "      <th>col3</th>\n",
       "      <th>col4</th>\n",
       "      <th>col5</th>\n",
       "      <th>target</th>\n",
       "    </tr>\n",
       "  </thead>\n",
       "  <tbody>\n",
       "    <tr>\n",
       "      <th>0</th>\n",
       "      <td>1.215280</td>\n",
       "      <td>-0.407020</td>\n",
       "      <td>1.870433</td>\n",
       "      <td>-0.070000</td>\n",
       "      <td>-0.510674</td>\n",
       "      <td>1</td>\n",
       "    </tr>\n",
       "    <tr>\n",
       "      <th>1</th>\n",
       "      <td>0.725610</td>\n",
       "      <td>1.344599</td>\n",
       "      <td>2.085594</td>\n",
       "      <td>-0.153207</td>\n",
       "      <td>-0.301816</td>\n",
       "      <td>1</td>\n",
       "    </tr>\n",
       "    <tr>\n",
       "      <th>2</th>\n",
       "      <td>-1.762695</td>\n",
       "      <td>1.305453</td>\n",
       "      <td>-2.117962</td>\n",
       "      <td>0.219183</td>\n",
       "      <td>0.616225</td>\n",
       "      <td>0</td>\n",
       "    </tr>\n",
       "    <tr>\n",
       "      <th>3</th>\n",
       "      <td>-2.809079</td>\n",
       "      <td>-1.843391</td>\n",
       "      <td>2.547777</td>\n",
       "      <td>-2.131289</td>\n",
       "      <td>-0.800155</td>\n",
       "      <td>1</td>\n",
       "    </tr>\n",
       "    <tr>\n",
       "      <th>4</th>\n",
       "      <td>1.132881</td>\n",
       "      <td>0.785269</td>\n",
       "      <td>0.915802</td>\n",
       "      <td>3.024972</td>\n",
       "      <td>1.197640</td>\n",
       "      <td>1</td>\n",
       "    </tr>\n",
       "  </tbody>\n",
       "</table>\n",
       "</div>"
      ],
      "text/plain": [
       "       col1      col2      col3      col4      col5  target\n",
       "0  1.215280 -0.407020  1.870433 -0.070000 -0.510674       1\n",
       "1  0.725610  1.344599  2.085594 -0.153207 -0.301816       1\n",
       "2 -1.762695  1.305453 -2.117962  0.219183  0.616225       0\n",
       "3 -2.809079 -1.843391  2.547777 -2.131289 -0.800155       1\n",
       "4  1.132881  0.785269  0.915802  3.024972  1.197640       1"
      ]
     },
     "execution_count": 3,
     "metadata": {},
     "output_type": "execute_result"
    }
   ],
   "source": [
    "df = pd.DataFrame(X,columns=['col1','col2','col3','col4','col5'])\n",
    "df['target'] = y\n",
    "print(df.shape)\n",
    "df.head()"
   ]
  },
  {
   "cell_type": "code",
   "execution_count": 4,
   "id": "500952bb",
   "metadata": {},
   "outputs": [],
   "source": [
    "# function for row sampling\n",
    "import random\n",
    "def sample_rows(df,percent):\n",
    "    return df.sample(int(percent*df.shape[0]),replace=True)"
   ]
  },
  {
   "cell_type": "code",
   "execution_count": 5,
   "id": "919d8783",
   "metadata": {},
   "outputs": [],
   "source": [
    "# function for feature sampling\n",
    "def sample_features(df,percent):\n",
    "    cols = random.sample(df.columns.tolist()[:-1],int(percent*(df.shape[1]-1)))\n",
    "    new_df = df[cols]\n",
    "    new_df['target'] = df['target']\n",
    "    return new_df"
   ]
  },
  {
   "cell_type": "code",
   "execution_count": 6,
   "id": "da439910",
   "metadata": {},
   "outputs": [],
   "source": [
    "# function for combined sampling\n",
    "\n",
    "def combined_sampling(df,row_percent,col_percent):\n",
    "    new_df = sample_rows(df,row_percent)\n",
    "    return sample_features(new_df,col_percent)"
   ]
  },
  {
   "cell_type": "code",
   "execution_count": 7,
   "id": "32b370fc",
   "metadata": {},
   "outputs": [
    {
     "name": "stderr",
     "output_type": "stream",
     "text": [
      "<ipython-input-5-208d2966d7f2>:5: SettingWithCopyWarning: \n",
      "A value is trying to be set on a copy of a slice from a DataFrame.\n",
      "Try using .loc[row_indexer,col_indexer] = value instead\n",
      "\n",
      "See the caveats in the documentation: https://pandas.pydata.org/pandas-docs/stable/user_guide/indexing.html#returning-a-view-versus-a-copy\n",
      "  new_df['target'] = df['target']\n"
     ]
    }
   ],
   "source": [
    "df1 = combined_sampling(df,0.5,0.5)"
   ]
  },
  {
   "cell_type": "code",
   "execution_count": 8,
   "id": "7d92d9f0",
   "metadata": {},
   "outputs": [
    {
     "name": "stderr",
     "output_type": "stream",
     "text": [
      "<ipython-input-5-208d2966d7f2>:5: SettingWithCopyWarning: \n",
      "A value is trying to be set on a copy of a slice from a DataFrame.\n",
      "Try using .loc[row_indexer,col_indexer] = value instead\n",
      "\n",
      "See the caveats in the documentation: https://pandas.pydata.org/pandas-docs/stable/user_guide/indexing.html#returning-a-view-versus-a-copy\n",
      "  new_df['target'] = df['target']\n"
     ]
    }
   ],
   "source": [
    "df2 = combined_sampling(df,0.5,0.5)"
   ]
  },
  {
   "cell_type": "code",
   "execution_count": 9,
   "id": "0be9d53c",
   "metadata": {},
   "outputs": [
    {
     "name": "stderr",
     "output_type": "stream",
     "text": [
      "<ipython-input-5-208d2966d7f2>:5: SettingWithCopyWarning: \n",
      "A value is trying to be set on a copy of a slice from a DataFrame.\n",
      "Try using .loc[row_indexer,col_indexer] = value instead\n",
      "\n",
      "See the caveats in the documentation: https://pandas.pydata.org/pandas-docs/stable/user_guide/indexing.html#returning-a-view-versus-a-copy\n",
      "  new_df['target'] = df['target']\n"
     ]
    }
   ],
   "source": [
    "df3 = combined_sampling(df,0.5,0.5)"
   ]
  },
  {
   "cell_type": "code",
   "execution_count": 10,
   "id": "04c85f8d",
   "metadata": {},
   "outputs": [
    {
     "name": "stdout",
     "output_type": "stream",
     "text": [
      "Index(['col2', 'col4', 'target'], dtype='object')\n",
      "Index(['col1', 'col3', 'target'], dtype='object')\n",
      "Index(['col2', 'col5', 'target'], dtype='object')\n"
     ]
    }
   ],
   "source": [
    "print(df1.columns)\n",
    "print(df2.columns)\n",
    "print(df3.columns)"
   ]
  },
  {
   "cell_type": "code",
   "execution_count": 11,
   "id": "aef72e3f",
   "metadata": {},
   "outputs": [
    {
     "data": {
      "text/html": [
       "<div>\n",
       "<style scoped>\n",
       "    .dataframe tbody tr th:only-of-type {\n",
       "        vertical-align: middle;\n",
       "    }\n",
       "\n",
       "    .dataframe tbody tr th {\n",
       "        vertical-align: top;\n",
       "    }\n",
       "\n",
       "    .dataframe thead th {\n",
       "        text-align: right;\n",
       "    }\n",
       "</style>\n",
       "<table border=\"1\" class=\"dataframe\">\n",
       "  <thead>\n",
       "    <tr style=\"text-align: right;\">\n",
       "      <th></th>\n",
       "      <th>col2</th>\n",
       "      <th>col5</th>\n",
       "      <th>target</th>\n",
       "    </tr>\n",
       "  </thead>\n",
       "  <tbody>\n",
       "    <tr>\n",
       "      <th>2</th>\n",
       "      <td>1.305453</td>\n",
       "      <td>0.616225</td>\n",
       "      <td>0</td>\n",
       "    </tr>\n",
       "    <tr>\n",
       "      <th>28</th>\n",
       "      <td>1.534333</td>\n",
       "      <td>2.568398</td>\n",
       "      <td>0</td>\n",
       "    </tr>\n",
       "    <tr>\n",
       "      <th>94</th>\n",
       "      <td>1.158902</td>\n",
       "      <td>2.728472</td>\n",
       "      <td>1</td>\n",
       "    </tr>\n",
       "    <tr>\n",
       "      <th>75</th>\n",
       "      <td>0.627224</td>\n",
       "      <td>-0.138710</td>\n",
       "      <td>0</td>\n",
       "    </tr>\n",
       "    <tr>\n",
       "      <th>10</th>\n",
       "      <td>1.409688</td>\n",
       "      <td>1.324920</td>\n",
       "      <td>0</td>\n",
       "    </tr>\n",
       "    <tr>\n",
       "      <th>89</th>\n",
       "      <td>-1.288089</td>\n",
       "      <td>-3.976544</td>\n",
       "      <td>1</td>\n",
       "    </tr>\n",
       "    <tr>\n",
       "      <th>32</th>\n",
       "      <td>-3.093513</td>\n",
       "      <td>-0.632135</td>\n",
       "      <td>1</td>\n",
       "    </tr>\n",
       "    <tr>\n",
       "      <th>27</th>\n",
       "      <td>-1.246423</td>\n",
       "      <td>-5.458304</td>\n",
       "      <td>1</td>\n",
       "    </tr>\n",
       "    <tr>\n",
       "      <th>72</th>\n",
       "      <td>-0.233126</td>\n",
       "      <td>1.878248</td>\n",
       "      <td>0</td>\n",
       "    </tr>\n",
       "    <tr>\n",
       "      <th>39</th>\n",
       "      <td>1.087357</td>\n",
       "      <td>2.417621</td>\n",
       "      <td>0</td>\n",
       "    </tr>\n",
       "    <tr>\n",
       "      <th>22</th>\n",
       "      <td>-2.505424</td>\n",
       "      <td>-1.374079</td>\n",
       "      <td>1</td>\n",
       "    </tr>\n",
       "    <tr>\n",
       "      <th>46</th>\n",
       "      <td>3.222789</td>\n",
       "      <td>1.353834</td>\n",
       "      <td>0</td>\n",
       "    </tr>\n",
       "    <tr>\n",
       "      <th>88</th>\n",
       "      <td>4.466187</td>\n",
       "      <td>2.051373</td>\n",
       "      <td>0</td>\n",
       "    </tr>\n",
       "    <tr>\n",
       "      <th>61</th>\n",
       "      <td>-2.960250</td>\n",
       "      <td>1.798092</td>\n",
       "      <td>1</td>\n",
       "    </tr>\n",
       "    <tr>\n",
       "      <th>86</th>\n",
       "      <td>-0.965779</td>\n",
       "      <td>0.346069</td>\n",
       "      <td>1</td>\n",
       "    </tr>\n",
       "    <tr>\n",
       "      <th>69</th>\n",
       "      <td>0.602070</td>\n",
       "      <td>-0.185932</td>\n",
       "      <td>0</td>\n",
       "    </tr>\n",
       "    <tr>\n",
       "      <th>31</th>\n",
       "      <td>0.971939</td>\n",
       "      <td>1.241360</td>\n",
       "      <td>0</td>\n",
       "    </tr>\n",
       "    <tr>\n",
       "      <th>56</th>\n",
       "      <td>-0.243383</td>\n",
       "      <td>-1.519825</td>\n",
       "      <td>1</td>\n",
       "    </tr>\n",
       "    <tr>\n",
       "      <th>9</th>\n",
       "      <td>2.440187</td>\n",
       "      <td>1.955404</td>\n",
       "      <td>0</td>\n",
       "    </tr>\n",
       "    <tr>\n",
       "      <th>38</th>\n",
       "      <td>1.305236</td>\n",
       "      <td>1.782971</td>\n",
       "      <td>0</td>\n",
       "    </tr>\n",
       "    <tr>\n",
       "      <th>33</th>\n",
       "      <td>-1.830596</td>\n",
       "      <td>-3.182708</td>\n",
       "      <td>1</td>\n",
       "    </tr>\n",
       "    <tr>\n",
       "      <th>3</th>\n",
       "      <td>-1.843391</td>\n",
       "      <td>-0.800155</td>\n",
       "      <td>1</td>\n",
       "    </tr>\n",
       "    <tr>\n",
       "      <th>50</th>\n",
       "      <td>-1.614763</td>\n",
       "      <td>0.436422</td>\n",
       "      <td>1</td>\n",
       "    </tr>\n",
       "    <tr>\n",
       "      <th>66</th>\n",
       "      <td>1.111204</td>\n",
       "      <td>2.174545</td>\n",
       "      <td>1</td>\n",
       "    </tr>\n",
       "    <tr>\n",
       "      <th>11</th>\n",
       "      <td>-0.194885</td>\n",
       "      <td>2.149664</td>\n",
       "      <td>0</td>\n",
       "    </tr>\n",
       "    <tr>\n",
       "      <th>41</th>\n",
       "      <td>-1.844444</td>\n",
       "      <td>-1.018538</td>\n",
       "      <td>0</td>\n",
       "    </tr>\n",
       "    <tr>\n",
       "      <th>92</th>\n",
       "      <td>2.270163</td>\n",
       "      <td>1.470270</td>\n",
       "      <td>0</td>\n",
       "    </tr>\n",
       "    <tr>\n",
       "      <th>65</th>\n",
       "      <td>0.385772</td>\n",
       "      <td>-2.257763</td>\n",
       "      <td>0</td>\n",
       "    </tr>\n",
       "    <tr>\n",
       "      <th>26</th>\n",
       "      <td>1.063587</td>\n",
       "      <td>1.465323</td>\n",
       "      <td>0</td>\n",
       "    </tr>\n",
       "    <tr>\n",
       "      <th>22</th>\n",
       "      <td>-2.505424</td>\n",
       "      <td>-1.374079</td>\n",
       "      <td>1</td>\n",
       "    </tr>\n",
       "    <tr>\n",
       "      <th>53</th>\n",
       "      <td>-2.071086</td>\n",
       "      <td>-2.957575</td>\n",
       "      <td>1</td>\n",
       "    </tr>\n",
       "    <tr>\n",
       "      <th>19</th>\n",
       "      <td>-0.254083</td>\n",
       "      <td>-1.933302</td>\n",
       "      <td>1</td>\n",
       "    </tr>\n",
       "    <tr>\n",
       "      <th>33</th>\n",
       "      <td>-1.830596</td>\n",
       "      <td>-3.182708</td>\n",
       "      <td>1</td>\n",
       "    </tr>\n",
       "    <tr>\n",
       "      <th>62</th>\n",
       "      <td>0.351684</td>\n",
       "      <td>0.433996</td>\n",
       "      <td>0</td>\n",
       "    </tr>\n",
       "    <tr>\n",
       "      <th>62</th>\n",
       "      <td>0.351684</td>\n",
       "      <td>0.433996</td>\n",
       "      <td>0</td>\n",
       "    </tr>\n",
       "    <tr>\n",
       "      <th>3</th>\n",
       "      <td>-1.843391</td>\n",
       "      <td>-0.800155</td>\n",
       "      <td>1</td>\n",
       "    </tr>\n",
       "    <tr>\n",
       "      <th>58</th>\n",
       "      <td>1.504207</td>\n",
       "      <td>2.435916</td>\n",
       "      <td>0</td>\n",
       "    </tr>\n",
       "    <tr>\n",
       "      <th>96</th>\n",
       "      <td>-1.269750</td>\n",
       "      <td>-1.346783</td>\n",
       "      <td>1</td>\n",
       "    </tr>\n",
       "    <tr>\n",
       "      <th>0</th>\n",
       "      <td>-0.407020</td>\n",
       "      <td>-0.510674</td>\n",
       "      <td>1</td>\n",
       "    </tr>\n",
       "    <tr>\n",
       "      <th>21</th>\n",
       "      <td>0.998607</td>\n",
       "      <td>-0.449285</td>\n",
       "      <td>0</td>\n",
       "    </tr>\n",
       "    <tr>\n",
       "      <th>37</th>\n",
       "      <td>1.010706</td>\n",
       "      <td>-1.227491</td>\n",
       "      <td>0</td>\n",
       "    </tr>\n",
       "    <tr>\n",
       "      <th>29</th>\n",
       "      <td>1.968320</td>\n",
       "      <td>0.414999</td>\n",
       "      <td>0</td>\n",
       "    </tr>\n",
       "    <tr>\n",
       "      <th>29</th>\n",
       "      <td>1.968320</td>\n",
       "      <td>0.414999</td>\n",
       "      <td>0</td>\n",
       "    </tr>\n",
       "    <tr>\n",
       "      <th>59</th>\n",
       "      <td>2.461363</td>\n",
       "      <td>2.366125</td>\n",
       "      <td>0</td>\n",
       "    </tr>\n",
       "    <tr>\n",
       "      <th>77</th>\n",
       "      <td>2.349901</td>\n",
       "      <td>-0.804008</td>\n",
       "      <td>1</td>\n",
       "    </tr>\n",
       "    <tr>\n",
       "      <th>40</th>\n",
       "      <td>-0.381920</td>\n",
       "      <td>1.173545</td>\n",
       "      <td>1</td>\n",
       "    </tr>\n",
       "    <tr>\n",
       "      <th>42</th>\n",
       "      <td>-1.077979</td>\n",
       "      <td>0.081498</td>\n",
       "      <td>1</td>\n",
       "    </tr>\n",
       "    <tr>\n",
       "      <th>35</th>\n",
       "      <td>0.153873</td>\n",
       "      <td>0.467912</td>\n",
       "      <td>1</td>\n",
       "    </tr>\n",
       "    <tr>\n",
       "      <th>25</th>\n",
       "      <td>-1.233350</td>\n",
       "      <td>-3.567384</td>\n",
       "      <td>0</td>\n",
       "    </tr>\n",
       "    <tr>\n",
       "      <th>53</th>\n",
       "      <td>-2.071086</td>\n",
       "      <td>-2.957575</td>\n",
       "      <td>1</td>\n",
       "    </tr>\n",
       "  </tbody>\n",
       "</table>\n",
       "</div>"
      ],
      "text/plain": [
       "        col2      col5  target\n",
       "2   1.305453  0.616225       0\n",
       "28  1.534333  2.568398       0\n",
       "94  1.158902  2.728472       1\n",
       "75  0.627224 -0.138710       0\n",
       "10  1.409688  1.324920       0\n",
       "89 -1.288089 -3.976544       1\n",
       "32 -3.093513 -0.632135       1\n",
       "27 -1.246423 -5.458304       1\n",
       "72 -0.233126  1.878248       0\n",
       "39  1.087357  2.417621       0\n",
       "22 -2.505424 -1.374079       1\n",
       "46  3.222789  1.353834       0\n",
       "88  4.466187  2.051373       0\n",
       "61 -2.960250  1.798092       1\n",
       "86 -0.965779  0.346069       1\n",
       "69  0.602070 -0.185932       0\n",
       "31  0.971939  1.241360       0\n",
       "56 -0.243383 -1.519825       1\n",
       "9   2.440187  1.955404       0\n",
       "38  1.305236  1.782971       0\n",
       "33 -1.830596 -3.182708       1\n",
       "3  -1.843391 -0.800155       1\n",
       "50 -1.614763  0.436422       1\n",
       "66  1.111204  2.174545       1\n",
       "11 -0.194885  2.149664       0\n",
       "41 -1.844444 -1.018538       0\n",
       "92  2.270163  1.470270       0\n",
       "65  0.385772 -2.257763       0\n",
       "26  1.063587  1.465323       0\n",
       "22 -2.505424 -1.374079       1\n",
       "53 -2.071086 -2.957575       1\n",
       "19 -0.254083 -1.933302       1\n",
       "33 -1.830596 -3.182708       1\n",
       "62  0.351684  0.433996       0\n",
       "62  0.351684  0.433996       0\n",
       "3  -1.843391 -0.800155       1\n",
       "58  1.504207  2.435916       0\n",
       "96 -1.269750 -1.346783       1\n",
       "0  -0.407020 -0.510674       1\n",
       "21  0.998607 -0.449285       0\n",
       "37  1.010706 -1.227491       0\n",
       "29  1.968320  0.414999       0\n",
       "29  1.968320  0.414999       0\n",
       "59  2.461363  2.366125       0\n",
       "77  2.349901 -0.804008       1\n",
       "40 -0.381920  1.173545       1\n",
       "42 -1.077979  0.081498       1\n",
       "35  0.153873  0.467912       1\n",
       "25 -1.233350 -3.567384       0\n",
       "53 -2.071086 -2.957575       1"
      ]
     },
     "execution_count": 11,
     "metadata": {},
     "output_type": "execute_result"
    }
   ],
   "source": [
    "df3"
   ]
  },
  {
   "cell_type": "code",
   "execution_count": 12,
   "id": "7b17c3a6",
   "metadata": {},
   "outputs": [],
   "source": [
    "from sklearn.tree import DecisionTreeClassifier\n",
    "clf1 = DecisionTreeClassifier()\n",
    "clf2 = DecisionTreeClassifier()\n",
    "clf3 = DecisionTreeClassifier()"
   ]
  },
  {
   "cell_type": "code",
   "execution_count": 13,
   "id": "822beb59",
   "metadata": {},
   "outputs": [
    {
     "data": {
      "text/plain": [
       "DecisionTreeClassifier()"
      ]
     },
     "execution_count": 13,
     "metadata": {},
     "output_type": "execute_result"
    }
   ],
   "source": [
    "clf1.fit(df1.iloc[:,0:2],df1.iloc[:,-1])\n",
    "clf2.fit(df2.iloc[:,0:2],df2.iloc[:,-1])\n",
    "clf3.fit(df3.iloc[:,0:2],df3.iloc[:,-1])"
   ]
  },
  {
   "cell_type": "code",
   "execution_count": 14,
   "id": "fe738b14",
   "metadata": {},
   "outputs": [],
   "source": [
    "from sklearn.tree import plot_tree"
   ]
  },
  {
   "cell_type": "code",
   "execution_count": 15,
   "id": "3b3a3943",
   "metadata": {},
   "outputs": [
    {
     "data": {
      "text/plain": [
       "[Text(167.4, 199.32, 'X[0] <= 0.054\\ngini = 0.5\\nsamples = 50\\nvalue = [25, 25]'),\n",
       " Text(111.6, 163.07999999999998, 'X[1] <= 1.45\\ngini = 0.302\\nsamples = 27\\nvalue = [5, 22]'),\n",
       " Text(66.96000000000001, 126.83999999999999, 'X[1] <= -2.014\\ngini = 0.087\\nsamples = 22\\nvalue = [1, 21]'),\n",
       " Text(44.64, 90.6, 'X[1] <= -2.304\\ngini = 0.375\\nsamples = 4\\nvalue = [1, 3]'),\n",
       " Text(22.32, 54.359999999999985, 'gini = 0.0\\nsamples = 3\\nvalue = [0, 3]'),\n",
       " Text(66.96000000000001, 54.359999999999985, 'gini = 0.0\\nsamples = 1\\nvalue = [1, 0]'),\n",
       " Text(89.28, 90.6, 'gini = 0.0\\nsamples = 18\\nvalue = [0, 18]'),\n",
       " Text(156.24, 126.83999999999999, 'X[0] <= -0.705\\ngini = 0.32\\nsamples = 5\\nvalue = [4, 1]'),\n",
       " Text(133.92000000000002, 90.6, 'gini = 0.0\\nsamples = 4\\nvalue = [4, 0]'),\n",
       " Text(178.56, 90.6, 'gini = 0.0\\nsamples = 1\\nvalue = [0, 1]'),\n",
       " Text(223.2, 163.07999999999998, 'X[1] <= -0.179\\ngini = 0.227\\nsamples = 23\\nvalue = [20, 3]'),\n",
       " Text(200.88, 126.83999999999999, 'gini = 0.0\\nsamples = 8\\nvalue = [8, 0]'),\n",
       " Text(245.52, 126.83999999999999, 'X[1] <= -0.016\\ngini = 0.32\\nsamples = 15\\nvalue = [12, 3]'),\n",
       " Text(223.2, 90.6, 'gini = 0.0\\nsamples = 2\\nvalue = [0, 2]'),\n",
       " Text(267.84000000000003, 90.6, 'X[1] <= 1.427\\ngini = 0.142\\nsamples = 13\\nvalue = [12, 1]'),\n",
       " Text(245.52, 54.359999999999985, 'gini = 0.0\\nsamples = 9\\nvalue = [9, 0]'),\n",
       " Text(290.16, 54.359999999999985, 'X[1] <= 1.787\\ngini = 0.375\\nsamples = 4\\nvalue = [3, 1]'),\n",
       " Text(267.84000000000003, 18.119999999999976, 'gini = 0.0\\nsamples = 1\\nvalue = [0, 1]'),\n",
       " Text(312.48, 18.119999999999976, 'gini = 0.0\\nsamples = 3\\nvalue = [3, 0]')]"
      ]
     },
     "execution_count": 15,
     "metadata": {},
     "output_type": "execute_result"
    },
    {
     "data": {
      "image/png": "[encoded data removed]",
      "text/plain": [
       "<Figure size 432x288 with 1 Axes>"
      ]
     },
     "metadata": {
      "needs_background": "light"
     },
     "output_type": "display_data"
    }
   ],
   "source": [
    "plot_tree(clf1)"
   ]
  },
  {
   "cell_type": "code",
   "execution_count": 16,
   "id": "43333d51",
   "metadata": {},
   "outputs": [
    {
     "data": {
      "text/plain": [
       "[Text(167.4, 203.85, 'X[1] <= 0.235\\ngini = 0.493\\nsamples = 50\\nvalue = [28, 22]'),\n",
       " Text(55.800000000000004, 176.67000000000002, 'X[1] <= -1.745\\ngini = 0.271\\nsamples = 31\\nvalue = [26, 5]'),\n",
       " Text(27.900000000000002, 149.49, 'gini = 0.0\\nsamples = 12\\nvalue = [12, 0]'),\n",
       " Text(83.7, 149.49, 'X[1] <= -1.676\\ngini = 0.388\\nsamples = 19\\nvalue = [14, 5]'),\n",
       " Text(55.800000000000004, 122.31, 'gini = 0.0\\nsamples = 1\\nvalue = [0, 1]'),\n",
       " Text(111.60000000000001, 122.31, 'X[0] <= -1.422\\ngini = 0.346\\nsamples = 18\\nvalue = [14, 4]'),\n",
       " Text(83.7, 95.13, 'gini = 0.0\\nsamples = 7\\nvalue = [7, 0]'),\n",
       " Text(139.5, 95.13, 'X[0] <= -1.123\\ngini = 0.463\\nsamples = 11\\nvalue = [7, 4]'),\n",
       " Text(111.60000000000001, 67.94999999999999, 'gini = 0.0\\nsamples = 3\\nvalue = [0, 3]'),\n",
       " Text(167.4, 67.94999999999999, 'X[1] <= -0.306\\ngini = 0.219\\nsamples = 8\\nvalue = [7, 1]'),\n",
       " Text(139.5, 40.77000000000001, 'gini = 0.0\\nsamples = 6\\nvalue = [6, 0]'),\n",
       " Text(195.3, 40.77000000000001, 'X[1] <= -0.11\\ngini = 0.5\\nsamples = 2\\nvalue = [1, 1]'),\n",
       " Text(167.4, 13.590000000000003, 'gini = 0.0\\nsamples = 1\\nvalue = [0, 1]'),\n",
       " Text(223.20000000000002, 13.590000000000003, 'gini = 0.0\\nsamples = 1\\nvalue = [1, 0]'),\n",
       " Text(279.0, 176.67000000000002, 'X[0] <= 0.977\\ngini = 0.188\\nsamples = 19\\nvalue = [2, 17]'),\n",
       " Text(251.10000000000002, 149.49, 'X[1] <= 0.752\\ngini = 0.105\\nsamples = 18\\nvalue = [1, 17]'),\n",
       " Text(223.20000000000002, 122.31, 'X[0] <= -0.438\\ngini = 0.375\\nsamples = 4\\nvalue = [1, 3]'),\n",
       " Text(195.3, 95.13, 'gini = 0.0\\nsamples = 3\\nvalue = [0, 3]'),\n",
       " Text(251.10000000000002, 95.13, 'gini = 0.0\\nsamples = 1\\nvalue = [1, 0]'),\n",
       " Text(279.0, 122.31, 'gini = 0.0\\nsamples = 14\\nvalue = [0, 14]'),\n",
       " Text(306.90000000000003, 149.49, 'gini = 0.0\\nsamples = 1\\nvalue = [1, 0]')]"
      ]
     },
     "execution_count": 16,
     "metadata": {},
     "output_type": "execute_result"
    },
    {
     "data": {
      "image/png": "[encoded data removed]",
      "text/plain": [
       "<Figure size 432x288 with 1 Axes>"
      ]
     },
     "metadata": {
      "needs_background": "light"
     },
     "output_type": "display_data"
    }
   ],
   "source": [
    "plot_tree(clf2)"
   ]
  },
  {
   "cell_type": "code",
   "execution_count": 17,
   "id": "5df0010e",
   "metadata": {},
   "outputs": [
    {
     "data": {
      "text/plain": [
       "[Text(145.37368421052633, 201.90857142857143, 'X[0] <= -0.238\\ngini = 0.499\\nsamples = 50\\nvalue = [26, 24]'),\n",
       " Text(70.48421052631579, 170.84571428571428, 'X[1] <= -3.375\\ngini = 0.165\\nsamples = 22\\nvalue = [2, 20]'),\n",
       " Text(35.242105263157896, 139.78285714285715, 'X[0] <= -1.24\\ngini = 0.444\\nsamples = 3\\nvalue = [1, 2]'),\n",
       " Text(17.621052631578948, 108.72, 'gini = 0.0\\nsamples = 2\\nvalue = [0, 2]'),\n",
       " Text(52.863157894736844, 108.72, 'gini = 0.0\\nsamples = 1\\nvalue = [1, 0]'),\n",
       " Text(105.72631578947369, 139.78285714285715, 'X[0] <= -1.844\\ngini = 0.1\\nsamples = 19\\nvalue = [1, 18]'),\n",
       " Text(88.10526315789474, 108.72, 'X[0] <= -1.958\\ngini = 0.245\\nsamples = 7\\nvalue = [1, 6]'),\n",
       " Text(70.48421052631579, 77.65714285714284, 'gini = 0.0\\nsamples = 6\\nvalue = [0, 6]'),\n",
       " Text(105.72631578947369, 77.65714285714284, 'gini = 0.0\\nsamples = 1\\nvalue = [1, 0]'),\n",
       " Text(123.34736842105264, 108.72, 'gini = 0.0\\nsamples = 12\\nvalue = [0, 12]'),\n",
       " Text(220.26315789473685, 170.84571428571428, 'X[1] <= 2.648\\ngini = 0.245\\nsamples = 28\\nvalue = [24, 4]'),\n",
       " Text(202.6421052631579, 139.78285714285715, 'X[0] <= 0.253\\ngini = 0.198\\nsamples = 27\\nvalue = [24, 3]'),\n",
       " Text(158.58947368421053, 108.72, 'X[1] <= 1.173\\ngini = 0.444\\nsamples = 3\\nvalue = [2, 1]'),\n",
       " Text(140.96842105263158, 77.65714285714284, 'gini = 0.0\\nsamples = 1\\nvalue = [0, 1]'),\n",
       " Text(176.21052631578948, 77.65714285714284, 'gini = 0.0\\nsamples = 2\\nvalue = [2, 0]'),\n",
       " Text(246.69473684210527, 108.72, 'X[1] <= -0.627\\ngini = 0.153\\nsamples = 24\\nvalue = [22, 2]'),\n",
       " Text(211.45263157894738, 77.65714285714284, 'X[1] <= -1.016\\ngini = 0.444\\nsamples = 3\\nvalue = [2, 1]'),\n",
       " Text(193.83157894736843, 46.59428571428572, 'gini = 0.0\\nsamples = 2\\nvalue = [2, 0]'),\n",
       " Text(229.07368421052632, 46.59428571428572, 'gini = 0.0\\nsamples = 1\\nvalue = [0, 1]'),\n",
       " Text(281.93684210526317, 77.65714285714284, 'X[1] <= 2.113\\ngini = 0.091\\nsamples = 21\\nvalue = [20, 1]'),\n",
       " Text(264.3157894736842, 46.59428571428572, 'gini = 0.0\\nsamples = 16\\nvalue = [16, 0]'),\n",
       " Text(299.5578947368421, 46.59428571428572, 'X[1] <= 2.27\\ngini = 0.32\\nsamples = 5\\nvalue = [4, 1]'),\n",
       " Text(281.93684210526317, 15.531428571428563, 'gini = 0.0\\nsamples = 1\\nvalue = [0, 1]'),\n",
       " Text(317.17894736842106, 15.531428571428563, 'gini = 0.0\\nsamples = 4\\nvalue = [4, 0]'),\n",
       " Text(237.8842105263158, 139.78285714285715, 'gini = 0.0\\nsamples = 1\\nvalue = [0, 1]')]"
      ]
     },
     "execution_count": 17,
     "metadata": {},
     "output_type": "execute_result"
    },
    {
     "data": {
      "image/png": "[encoded data removed]",
      "text/plain": [
       "<Figure size 432x288 with 1 Axes>"
      ]
     },
     "metadata": {
      "needs_background": "light"
     },
     "output_type": "display_data"
    }
   ],
   "source": [
    "plot_tree(clf3)"
   ]
  },
  {
   "cell_type": "code",
   "execution_count": 18,
   "id": "0124f682",
   "metadata": {},
   "outputs": [
    {
     "data": {
      "text/plain": [
       "array([1])"
      ]
     },
     "execution_count": 18,
     "metadata": {},
     "output_type": "execute_result"
    }
   ],
   "source": [
    "clf1.predict(np.array([-1.042498,\t-0.064323]).reshape(1,2))"
   ]
  },
  {
   "cell_type": "code",
   "execution_count": 19,
   "id": "85c1c301",
   "metadata": {},
   "outputs": [
    {
     "data": {
      "text/plain": [
       "array([0])"
      ]
     },
     "execution_count": 19,
     "metadata": {},
     "output_type": "execute_result"
    }
   ],
   "source": [
    "clf2.predict(np.array([-1.042498,\t-0.064323]).reshape(1,2))"
   ]
  },
  {
   "cell_type": "code",
   "execution_count": 20,
   "id": "4a7ff37b",
   "metadata": {},
   "outputs": [
    {
     "data": {
      "text/plain": [
       "array([1])"
      ]
     },
     "execution_count": 20,
     "metadata": {},
     "output_type": "execute_result"
    }
   ],
   "source": [
    "clf3.predict(np.array([-1.042498,\t-0.064323]).reshape(1,2))"
   ]
  },
  {
   "cell_type": "code",
   "execution_count": 21,
   "id": "16cd5bf9",
   "metadata": {},
   "outputs": [
    {
     "data": {
      "text/html": [
       "<div>\n",
       "<style scoped>\n",
       "    .dataframe tbody tr th:only-of-type {\n",
       "        vertical-align: middle;\n",
       "    }\n",
       "\n",
       "    .dataframe tbody tr th {\n",
       "        vertical-align: top;\n",
       "    }\n",
       "\n",
       "    .dataframe thead th {\n",
       "        text-align: right;\n",
       "    }\n",
       "</style>\n",
       "<table border=\"1\" class=\"dataframe\">\n",
       "  <thead>\n",
       "    <tr style=\"text-align: right;\">\n",
       "      <th></th>\n",
       "      <th>col1</th>\n",
       "      <th>col2</th>\n",
       "      <th>col3</th>\n",
       "      <th>col4</th>\n",
       "      <th>col5</th>\n",
       "      <th>target</th>\n",
       "    </tr>\n",
       "  </thead>\n",
       "  <tbody>\n",
       "    <tr>\n",
       "      <th>88</th>\n",
       "      <td>-1.126248</td>\n",
       "      <td>4.466187</td>\n",
       "      <td>-2.741983</td>\n",
       "      <td>-2.318377</td>\n",
       "      <td>2.051373</td>\n",
       "      <td>0</td>\n",
       "    </tr>\n",
       "    <tr>\n",
       "      <th>9</th>\n",
       "      <td>0.035550</td>\n",
       "      <td>2.440187</td>\n",
       "      <td>-0.801289</td>\n",
       "      <td>-0.357250</td>\n",
       "      <td>1.955404</td>\n",
       "      <td>0</td>\n",
       "    </tr>\n",
       "    <tr>\n",
       "      <th>35</th>\n",
       "      <td>-1.296389</td>\n",
       "      <td>0.153873</td>\n",
       "      <td>3.709583</td>\n",
       "      <td>-0.280212</td>\n",
       "      <td>0.467912</td>\n",
       "      <td>1</td>\n",
       "    </tr>\n",
       "    <tr>\n",
       "      <th>15</th>\n",
       "      <td>-0.591650</td>\n",
       "      <td>1.467321</td>\n",
       "      <td>-1.455041</td>\n",
       "      <td>1.061586</td>\n",
       "      <td>1.370480</td>\n",
       "      <td>0</td>\n",
       "    </tr>\n",
       "    <tr>\n",
       "      <th>87</th>\n",
       "      <td>0.836176</td>\n",
       "      <td>-1.970986</td>\n",
       "      <td>1.206404</td>\n",
       "      <td>4.132375</td>\n",
       "      <td>0.703067</td>\n",
       "      <td>0</td>\n",
       "    </tr>\n",
       "    <tr>\n",
       "      <th>96</th>\n",
       "      <td>0.592028</td>\n",
       "      <td>-1.269750</td>\n",
       "      <td>0.145033</td>\n",
       "      <td>0.837596</td>\n",
       "      <td>-1.346783</td>\n",
       "      <td>1</td>\n",
       "    </tr>\n",
       "    <tr>\n",
       "      <th>47</th>\n",
       "      <td>-0.803906</td>\n",
       "      <td>1.672469</td>\n",
       "      <td>-1.571166</td>\n",
       "      <td>-0.301996</td>\n",
       "      <td>0.154129</td>\n",
       "      <td>0</td>\n",
       "    </tr>\n",
       "    <tr>\n",
       "      <th>56</th>\n",
       "      <td>0.082322</td>\n",
       "      <td>-0.243383</td>\n",
       "      <td>2.390642</td>\n",
       "      <td>-0.344250</td>\n",
       "      <td>-1.519825</td>\n",
       "      <td>1</td>\n",
       "    </tr>\n",
       "    <tr>\n",
       "      <th>10</th>\n",
       "      <td>-2.467137</td>\n",
       "      <td>1.409688</td>\n",
       "      <td>-1.231768</td>\n",
       "      <td>1.376733</td>\n",
       "      <td>1.324920</td>\n",
       "      <td>0</td>\n",
       "    </tr>\n",
       "    <tr>\n",
       "      <th>14</th>\n",
       "      <td>-2.045057</td>\n",
       "      <td>-1.493095</td>\n",
       "      <td>0.863532</td>\n",
       "      <td>-1.471117</td>\n",
       "      <td>-0.889211</td>\n",
       "      <td>1</td>\n",
       "    </tr>\n",
       "    <tr>\n",
       "      <th>73</th>\n",
       "      <td>-0.142034</td>\n",
       "      <td>1.131757</td>\n",
       "      <td>-2.227173</td>\n",
       "      <td>0.528489</td>\n",
       "      <td>0.953434</td>\n",
       "      <td>0</td>\n",
       "    </tr>\n",
       "    <tr>\n",
       "      <th>81</th>\n",
       "      <td>-2.066965</td>\n",
       "      <td>1.578112</td>\n",
       "      <td>-1.908196</td>\n",
       "      <td>-0.205234</td>\n",
       "      <td>0.355455</td>\n",
       "      <td>0</td>\n",
       "    </tr>\n",
       "    <tr>\n",
       "      <th>90</th>\n",
       "      <td>-1.356331</td>\n",
       "      <td>1.412459</td>\n",
       "      <td>-1.252238</td>\n",
       "      <td>0.952865</td>\n",
       "      <td>1.086450</td>\n",
       "      <td>0</td>\n",
       "    </tr>\n",
       "    <tr>\n",
       "      <th>60</th>\n",
       "      <td>-0.909254</td>\n",
       "      <td>-1.286489</td>\n",
       "      <td>0.874067</td>\n",
       "      <td>-1.866388</td>\n",
       "      <td>-1.261734</td>\n",
       "      <td>1</td>\n",
       "    </tr>\n",
       "  </tbody>\n",
       "</table>\n",
       "</div>"
      ],
      "text/plain": [
       "        col1      col2      col3      col4      col5  target\n",
       "88 -1.126248  4.466187 -2.741983 -2.318377  2.051373       0\n",
       "9   0.035550  2.440187 -0.801289 -0.357250  1.955404       0\n",
       "35 -1.296389  0.153873  3.709583 -0.280212  0.467912       1\n",
       "15 -0.591650  1.467321 -1.455041  1.061586  1.370480       0\n",
       "87  0.836176 -1.970986  1.206404  4.132375  0.703067       0\n",
       "96  0.592028 -1.269750  0.145033  0.837596 -1.346783       1\n",
       "47 -0.803906  1.672469 -1.571166 -0.301996  0.154129       0\n",
       "56  0.082322 -0.243383  2.390642 -0.344250 -1.519825       1\n",
       "10 -2.467137  1.409688 -1.231768  1.376733  1.324920       0\n",
       "14 -2.045057 -1.493095  0.863532 -1.471117 -0.889211       1\n",
       "73 -0.142034  1.131757 -2.227173  0.528489  0.953434       0\n",
       "81 -2.066965  1.578112 -1.908196 -0.205234  0.355455       0\n",
       "90 -1.356331  1.412459 -1.252238  0.952865  1.086450       0\n",
       "60 -0.909254 -1.286489  0.874067 -1.866388 -1.261734       1"
      ]
     },
     "execution_count": 21,
     "metadata": {},
     "output_type": "execute_result"
    }
   ],
   "source": [
    "df.sample(14,replace=True)"
   ]
  },
  {
   "cell_type": "code",
   "execution_count": null,
   "id": "632716bf",
   "metadata": {},
   "outputs": [],
   "source": []
  }
 ],
 "metadata": {
  "kernelspec": {
   "display_name": "Python 3",
   "language": "python",
   "name": "python3"
  },
  "language_info": {
   "codemirror_mode": {
    "name": "ipython",
    "version": 3
   },
   "file_extension": ".py",
   "mimetype": "text/x-python",
   "name": "python",
   "nbconvert_exporter": "python",
   "pygments_lexer": "ipython3",
   "version": "3.8.11"
  }
 },
 "nbformat": 4,
 "nbformat_minor": 5
}
