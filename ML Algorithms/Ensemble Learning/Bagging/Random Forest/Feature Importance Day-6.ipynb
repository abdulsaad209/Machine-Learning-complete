{
 "cells": [
  {
   "cell_type": "markdown",
   "id": "8f2842a3",
   "metadata": {},
   "source": [
    "## Feature Importance using Random-Forest and Decision-Trees"
   ]
  },
  {
   "cell_type": "code",
   "execution_count": 10,
   "id": "bde746e2",
   "metadata": {},
   "outputs": [],
   "source": [
    "import numpy as np\n",
    "import pandas as pd\n",
    "import matplotlib.pyplot as plt\n",
    "import seaborn as sns\n",
    "%matplotlib inline"
   ]
  },
  {
   "cell_type": "code",
   "execution_count": 6,
   "id": "6b06a56e",
   "metadata": {},
   "outputs": [
    {
     "data": {
      "text/html": [
       "<div>\n",
       "<style scoped>\n",
       "    .dataframe tbody tr th:only-of-type {\n",
       "        vertical-align: middle;\n",
       "    }\n",
       "\n",
       "    .dataframe tbody tr th {\n",
       "        vertical-align: top;\n",
       "    }\n",
       "\n",
       "    .dataframe thead th {\n",
       "        text-align: right;\n",
       "    }\n",
       "</style>\n",
       "<table border=\"1\" class=\"dataframe\">\n",
       "  <thead>\n",
       "    <tr style=\"text-align: right;\">\n",
       "      <th></th>\n",
       "      <th>label</th>\n",
       "      <th>pixel0</th>\n",
       "      <th>pixel1</th>\n",
       "      <th>pixel2</th>\n",
       "      <th>pixel3</th>\n",
       "      <th>pixel4</th>\n",
       "      <th>pixel5</th>\n",
       "      <th>pixel6</th>\n",
       "      <th>pixel7</th>\n",
       "      <th>pixel8</th>\n",
       "      <th>...</th>\n",
       "      <th>pixel774</th>\n",
       "      <th>pixel775</th>\n",
       "      <th>pixel776</th>\n",
       "      <th>pixel777</th>\n",
       "      <th>pixel778</th>\n",
       "      <th>pixel779</th>\n",
       "      <th>pixel780</th>\n",
       "      <th>pixel781</th>\n",
       "      <th>pixel782</th>\n",
       "      <th>pixel783</th>\n",
       "    </tr>\n",
       "  </thead>\n",
       "  <tbody>\n",
       "    <tr>\n",
       "      <th>0</th>\n",
       "      <td>1</td>\n",
       "      <td>0</td>\n",
       "      <td>0</td>\n",
       "      <td>0</td>\n",
       "      <td>0</td>\n",
       "      <td>0</td>\n",
       "      <td>0</td>\n",
       "      <td>0</td>\n",
       "      <td>0</td>\n",
       "      <td>0</td>\n",
       "      <td>...</td>\n",
       "      <td>0</td>\n",
       "      <td>0</td>\n",
       "      <td>0</td>\n",
       "      <td>0</td>\n",
       "      <td>0</td>\n",
       "      <td>0</td>\n",
       "      <td>0</td>\n",
       "      <td>0</td>\n",
       "      <td>0</td>\n",
       "      <td>0</td>\n",
       "    </tr>\n",
       "    <tr>\n",
       "      <th>1</th>\n",
       "      <td>0</td>\n",
       "      <td>0</td>\n",
       "      <td>0</td>\n",
       "      <td>0</td>\n",
       "      <td>0</td>\n",
       "      <td>0</td>\n",
       "      <td>0</td>\n",
       "      <td>0</td>\n",
       "      <td>0</td>\n",
       "      <td>0</td>\n",
       "      <td>...</td>\n",
       "      <td>0</td>\n",
       "      <td>0</td>\n",
       "      <td>0</td>\n",
       "      <td>0</td>\n",
       "      <td>0</td>\n",
       "      <td>0</td>\n",
       "      <td>0</td>\n",
       "      <td>0</td>\n",
       "      <td>0</td>\n",
       "      <td>0</td>\n",
       "    </tr>\n",
       "    <tr>\n",
       "      <th>2</th>\n",
       "      <td>1</td>\n",
       "      <td>0</td>\n",
       "      <td>0</td>\n",
       "      <td>0</td>\n",
       "      <td>0</td>\n",
       "      <td>0</td>\n",
       "      <td>0</td>\n",
       "      <td>0</td>\n",
       "      <td>0</td>\n",
       "      <td>0</td>\n",
       "      <td>...</td>\n",
       "      <td>0</td>\n",
       "      <td>0</td>\n",
       "      <td>0</td>\n",
       "      <td>0</td>\n",
       "      <td>0</td>\n",
       "      <td>0</td>\n",
       "      <td>0</td>\n",
       "      <td>0</td>\n",
       "      <td>0</td>\n",
       "      <td>0</td>\n",
       "    </tr>\n",
       "    <tr>\n",
       "      <th>3</th>\n",
       "      <td>4</td>\n",
       "      <td>0</td>\n",
       "      <td>0</td>\n",
       "      <td>0</td>\n",
       "      <td>0</td>\n",
       "      <td>0</td>\n",
       "      <td>0</td>\n",
       "      <td>0</td>\n",
       "      <td>0</td>\n",
       "      <td>0</td>\n",
       "      <td>...</td>\n",
       "      <td>0</td>\n",
       "      <td>0</td>\n",
       "      <td>0</td>\n",
       "      <td>0</td>\n",
       "      <td>0</td>\n",
       "      <td>0</td>\n",
       "      <td>0</td>\n",
       "      <td>0</td>\n",
       "      <td>0</td>\n",
       "      <td>0</td>\n",
       "    </tr>\n",
       "    <tr>\n",
       "      <th>4</th>\n",
       "      <td>0</td>\n",
       "      <td>0</td>\n",
       "      <td>0</td>\n",
       "      <td>0</td>\n",
       "      <td>0</td>\n",
       "      <td>0</td>\n",
       "      <td>0</td>\n",
       "      <td>0</td>\n",
       "      <td>0</td>\n",
       "      <td>0</td>\n",
       "      <td>...</td>\n",
       "      <td>0</td>\n",
       "      <td>0</td>\n",
       "      <td>0</td>\n",
       "      <td>0</td>\n",
       "      <td>0</td>\n",
       "      <td>0</td>\n",
       "      <td>0</td>\n",
       "      <td>0</td>\n",
       "      <td>0</td>\n",
       "      <td>0</td>\n",
       "    </tr>\n",
       "  </tbody>\n",
       "</table>\n",
       "<p>5 rows × 785 columns</p>\n",
       "</div>"
      ],
      "text/plain": [
       "   label  pixel0  pixel1  pixel2  pixel3  pixel4  pixel5  pixel6  pixel7  \\\n",
       "0      1       0       0       0       0       0       0       0       0   \n",
       "1      0       0       0       0       0       0       0       0       0   \n",
       "2      1       0       0       0       0       0       0       0       0   \n",
       "3      4       0       0       0       0       0       0       0       0   \n",
       "4      0       0       0       0       0       0       0       0       0   \n",
       "\n",
       "   pixel8  ...  pixel774  pixel775  pixel776  pixel777  pixel778  pixel779  \\\n",
       "0       0  ...         0         0         0         0         0         0   \n",
       "1       0  ...         0         0         0         0         0         0   \n",
       "2       0  ...         0         0         0         0         0         0   \n",
       "3       0  ...         0         0         0         0         0         0   \n",
       "4       0  ...         0         0         0         0         0         0   \n",
       "\n",
       "   pixel780  pixel781  pixel782  pixel783  \n",
       "0         0         0         0         0  \n",
       "1         0         0         0         0  \n",
       "2         0         0         0         0  \n",
       "3         0         0         0         0  \n",
       "4         0         0         0         0  \n",
       "\n",
       "[5 rows x 785 columns]"
      ]
     },
     "execution_count": 6,
     "metadata": {},
     "output_type": "execute_result"
    }
   ],
   "source": [
    "df = pd.read_csv('images/MNIST Digit Recognizer.csv')\n",
    "df.head()"
   ]
  },
  {
   "cell_type": "code",
   "execution_count": 17,
   "id": "cca20811",
   "metadata": {},
   "outputs": [
    {
     "data": {
      "text/plain": [
       "(42000, 785)"
      ]
     },
     "execution_count": 17,
     "metadata": {},
     "output_type": "execute_result"
    }
   ],
   "source": [
    "df.shape"
   ]
  },
  {
   "cell_type": "code",
   "execution_count": 7,
   "id": "20d6f377",
   "metadata": {},
   "outputs": [],
   "source": [
    "X = df.iloc[:, 1:]\n",
    "y = df.iloc[:, 0]"
   ]
  },
  {
   "cell_type": "code",
   "execution_count": 16,
   "id": "a9613cd6",
   "metadata": {},
   "outputs": [
    {
     "data": {
      "text/plain": [
       "<AxesSubplot:>"
      ]
     },
     "execution_count": 16,
     "metadata": {},
     "output_type": "execute_result"
    },
    {
     "data": {
      "image/png": "[encoded data removed]",
      "text/plain": [
       "<Figure size 432x288 with 2 Axes>"
      ]
     },
     "metadata": {
      "needs_background": "light"
     },
     "output_type": "display_data"
    }
   ],
   "source": [
    "sns.heatmap(X.iloc[5].values.reshape(28,28))"
   ]
  },
  {
   "cell_type": "code",
   "execution_count": 18,
   "id": "ff3a1cb0",
   "metadata": {},
   "outputs": [
    {
     "data": {
      "text/plain": [
       "RandomForestClassifier()"
      ]
     },
     "execution_count": 18,
     "metadata": {},
     "output_type": "execute_result"
    }
   ],
   "source": [
    "from sklearn.ensemble import RandomForestClassifier\n",
    "\n",
    "rf = RandomForestClassifier()\n",
    "\n",
    "rf.fit(X,y)"
   ]
  },
  {
   "cell_type": "code",
   "execution_count": 19,
   "id": "7effd67f",
   "metadata": {},
   "outputs": [
    {
     "data": {
      "text/plain": [
       "array([0.00000000e+00, 0.00000000e+00, 0.00000000e+00, 0.00000000e+00,\n",
       "       0.00000000e+00, 0.00000000e+00, 0.00000000e+00, 0.00000000e+00,\n",
       "       0.00000000e+00, 0.00000000e+00, 0.00000000e+00, 0.00000000e+00,\n",
       "       0.00000000e+00, 0.00000000e+00, 5.16948414e-07, 0.00000000e+00,\n",
       "       0.00000000e+00, 0.00000000e+00, 0.00000000e+00, 0.00000000e+00,\n",
       "       0.00000000e+00, 0.00000000e+00, 0.00000000e+00, 0.00000000e+00,\n",
       "       0.00000000e+00, 0.00000000e+00, 0.00000000e+00, 0.00000000e+00,\n",
       "       0.00000000e+00, 0.00000000e+00, 0.00000000e+00, 0.00000000e+00,\n",
       "       0.00000000e+00, 0.00000000e+00, 0.00000000e+00, 5.76316794e-07,\n",
       "       4.46416233e-06, 4.18683485e-06, 3.88185254e-06, 2.37171477e-06,\n",
       "       4.25182058e-06, 2.31465019e-06, 4.50405140e-06, 1.50182221e-06,\n",
       "       1.95418317e-06, 3.43574416e-06, 0.00000000e+00, 1.87164056e-06,\n",
       "       1.51398881e-06, 1.02390021e-06, 1.85008558e-06, 0.00000000e+00,\n",
       "       0.00000000e+00, 0.00000000e+00, 0.00000000e+00, 0.00000000e+00,\n",
       "       0.00000000e+00, 0.00000000e+00, 0.00000000e+00, 0.00000000e+00,\n",
       "       0.00000000e+00, 5.09212591e-07, 2.97371297e-06, 2.20814640e-06,\n",
       "       8.58112680e-06, 1.47188082e-05, 5.75658825e-05, 1.47764258e-04,\n",
       "       1.68203998e-04, 1.13959063e-04, 2.38154720e-04, 2.30822993e-04,\n",
       "       2.30495603e-04, 5.52760617e-05, 8.53928389e-05, 7.20748350e-05,\n",
       "       2.64311121e-05, 1.64979155e-05, 4.66844636e-06, 4.52161159e-06,\n",
       "       5.01414365e-07, 0.00000000e+00, 0.00000000e+00, 0.00000000e+00,\n",
       "       0.00000000e+00, 0.00000000e+00, 0.00000000e+00, 0.00000000e+00,\n",
       "       1.51649312e-06, 1.65938730e-06, 1.08110314e-05, 3.68520215e-05,\n",
       "       5.70413613e-05, 1.49983891e-04, 3.43916850e-04, 3.40817171e-04,\n",
       "       8.03699484e-04, 1.05996621e-03, 9.98368907e-04, 2.91164113e-03,\n",
       "       1.66903345e-03, 1.95044198e-03, 1.16505787e-03, 7.62215667e-04,\n",
       "       3.37935450e-04, 1.80689452e-04, 5.35745416e-05, 3.18108465e-05,\n",
       "       1.21913988e-05, 2.97727034e-06, 0.00000000e+00, 0.00000000e+00,\n",
       "       0.00000000e+00, 0.00000000e+00, 0.00000000e+00, 0.00000000e+00,\n",
       "       2.39327608e-06, 1.57789998e-05, 2.41890307e-05, 7.03458855e-05,\n",
       "       2.12310426e-04, 4.06512488e-04, 5.61024953e-04, 1.15925051e-03,\n",
       "       1.52995993e-03, 1.81354797e-03, 3.23463460e-03, 1.50567694e-03,\n",
       "       1.46256279e-03, 1.24902820e-03, 9.73891680e-04, 4.51718243e-04,\n",
       "       4.25295403e-04, 1.98411011e-04, 1.63461036e-04, 5.52913482e-05,\n",
       "       4.78595683e-05, 8.97075550e-06, 9.60345011e-07, 0.00000000e+00,\n",
       "       0.00000000e+00, 0.00000000e+00, 5.18181336e-07, 1.36021919e-06,\n",
       "       1.76597128e-05, 4.89297484e-05, 1.26331528e-04, 2.38795829e-04,\n",
       "       5.66541594e-04, 1.48347461e-03, 1.79909255e-03, 2.72788098e-03,\n",
       "       3.80819908e-03, 3.92921680e-03, 7.23885262e-03, 5.85340150e-03,\n",
       "       5.06836053e-03, 3.08890432e-03, 2.35486993e-03, 1.56663358e-03,\n",
       "       9.59267039e-04, 6.61973517e-04, 5.37757684e-04, 3.07273111e-04,\n",
       "       1.13384367e-04, 3.40234770e-05, 3.16187824e-06, 0.00000000e+00,\n",
       "       0.00000000e+00, 0.00000000e+00, 2.64619671e-07, 4.94386180e-06,\n",
       "       3.98530188e-05, 1.04227129e-04, 2.31623462e-04, 4.61865748e-04,\n",
       "       1.40099659e-03, 1.60620393e-03, 2.46793302e-03, 2.67833680e-03,\n",
       "       2.84194872e-03, 3.36096119e-03, 4.01527042e-03, 4.34661383e-03,\n",
       "       3.48270248e-03, 2.29580359e-03, 1.77005428e-03, 1.69698379e-03,\n",
       "       1.37267038e-03, 1.21657662e-03, 1.37419725e-03, 8.95344428e-04,\n",
       "       2.49714656e-04, 4.37343147e-05, 2.67229773e-06, 0.00000000e+00,\n",
       "       0.00000000e+00, 0.00000000e+00, 2.47634342e-06, 1.68452177e-05,\n",
       "       6.60942188e-05, 2.12720453e-04, 2.71457347e-04, 7.57099462e-04,\n",
       "       1.45760981e-03, 1.33391648e-03, 2.71562446e-03, 2.30431235e-03,\n",
       "       2.38199565e-03, 3.74850160e-03, 6.07109763e-03, 6.30737625e-03,\n",
       "       4.61594293e-03, 3.44915088e-03, 2.05356305e-03, 2.37673353e-03,\n",
       "       1.49698272e-03, 1.52651144e-03, 1.24863665e-03, 1.49659604e-03,\n",
       "       9.42104051e-04, 9.92554046e-05, 9.90836600e-06, 7.83802820e-07,\n",
       "       5.17852447e-07, 1.00585107e-06, 2.15980651e-06, 3.17954951e-05,\n",
       "       8.54678583e-05, 1.99166696e-04, 5.30640401e-04, 7.12496591e-04,\n",
       "       1.19550433e-03, 2.22511097e-03, 3.25802853e-03, 3.77718931e-03,\n",
       "       2.73259762e-03, 4.39139343e-03, 4.38999176e-03, 4.64559378e-03,\n",
       "       4.25631084e-03, 3.19993598e-03, 2.85926886e-03, 2.82815010e-03,\n",
       "       2.08602934e-03, 1.49490075e-03, 1.11952271e-03, 9.20121550e-04,\n",
       "       8.16726752e-04, 1.27822114e-04, 1.39749931e-05, 2.88431552e-06,\n",
       "       0.00000000e+00, 8.99279993e-07, 6.61414478e-06, 2.24311378e-05,\n",
       "       9.26188182e-05, 2.44588611e-04, 4.84606845e-04, 7.61191216e-04,\n",
       "       1.39745947e-03, 2.58460468e-03, 3.84507511e-03, 4.53579200e-03,\n",
       "       3.36573460e-03, 3.18436574e-03, 3.91595122e-03, 4.45586254e-03,\n",
       "       3.21199561e-03, 3.53564120e-03, 4.21855011e-03, 3.48906927e-03,\n",
       "       3.14600889e-03, 1.61503931e-03, 9.56919429e-04, 5.93809119e-04,\n",
       "       4.46759047e-04, 1.23684211e-04, 9.87920562e-06, 1.84844077e-06,\n",
       "       0.00000000e+00, 0.00000000e+00, 8.76418041e-06, 3.16121288e-05,\n",
       "       1.11765431e-04, 2.14421392e-04, 3.99562380e-04, 9.58746034e-04,\n",
       "       1.47901070e-03, 3.39754924e-03, 5.95221219e-03, 4.79301263e-03,\n",
       "       3.38823394e-03, 2.97782979e-03, 3.33759798e-03, 4.11390599e-03,\n",
       "       3.78384236e-03, 3.90344471e-03, 4.57101663e-03, 4.42274699e-03,\n",
       "       2.94344164e-03, 1.67888559e-03, 1.13683806e-03, 5.64629493e-04,\n",
       "       1.87624909e-04, 6.09934047e-05, 1.54267207e-05, 2.59702441e-06,\n",
       "       0.00000000e+00, 0.00000000e+00, 6.24729807e-06, 3.58699346e-05,\n",
       "       1.95532432e-04, 2.33152497e-04, 7.06024642e-04, 1.33043175e-03,\n",
       "       2.39857934e-03, 3.73051731e-03, 5.47510012e-03, 4.45425399e-03,\n",
       "       3.25395240e-03, 3.28925994e-03, 4.25252396e-03, 4.17412236e-03,\n",
       "       3.29908785e-03, 3.61415948e-03, 3.44762810e-03, 3.09283604e-03,\n",
       "       2.15800804e-03, 1.57625767e-03, 9.33596404e-04, 5.81656253e-04,\n",
       "       1.92108764e-04, 3.29785010e-05, 7.67084912e-06, 8.90153420e-07,\n",
       "       0.00000000e+00, 0.00000000e+00, 1.89364502e-06, 2.09417987e-05,\n",
       "       9.07297783e-05, 2.62233880e-04, 7.26234635e-04, 1.79562324e-03,\n",
       "       2.48664621e-03, 6.11209286e-03, 5.56643780e-03, 7.93799870e-03,\n",
       "       4.39224180e-03, 4.66403040e-03, 8.76538824e-03, 4.90504528e-03,\n",
       "       3.28964781e-03, 4.20822071e-03, 4.43882567e-03, 2.57825283e-03,\n",
       "       1.49964691e-03, 2.70238628e-03, 1.66511208e-03, 5.36825760e-04,\n",
       "       1.07744515e-04, 2.37494000e-05, 8.59800730e-06, 8.12852804e-07,\n",
       "       0.00000000e+00, 9.50346623e-07, 0.00000000e+00, 1.88410581e-05,\n",
       "       7.83564848e-05, 4.07776209e-04, 9.65586381e-04, 1.85890925e-03,\n",
       "       2.16517498e-03, 5.82147926e-03, 4.68420296e-03, 4.89025725e-03,\n",
       "       5.16984410e-03, 8.39329356e-03, 9.18708965e-03, 5.78127331e-03,\n",
       "       4.27459218e-03, 5.51041872e-03, 3.48373323e-03, 1.61879410e-03,\n",
       "       1.45623510e-03, 2.07260970e-03, 1.78922382e-03, 5.84039011e-04,\n",
       "       1.56081892e-04, 2.16792691e-05, 4.96398276e-06, 0.00000000e+00,\n",
       "       0.00000000e+00, 0.00000000e+00, 0.00000000e+00, 1.48476736e-05,\n",
       "       6.46881938e-05, 4.10400786e-04, 1.47781499e-03, 2.60252348e-03,\n",
       "       4.17498339e-03, 5.64624725e-03, 4.45208036e-03, 3.97809115e-03,\n",
       "       4.32509191e-03, 6.15909816e-03, 9.06016652e-03, 4.95379920e-03,\n",
       "       5.00963819e-03, 7.62289979e-03, 3.99572307e-03, 1.43951533e-03,\n",
       "       1.28095573e-03, 1.82486593e-03, 1.72582669e-03, 6.74810595e-04,\n",
       "       1.38133669e-04, 4.39291587e-05, 8.19988568e-06, 0.00000000e+00,\n",
       "       0.00000000e+00, 0.00000000e+00, 2.32700901e-06, 2.12925060e-05,\n",
       "       8.99206865e-05, 4.79926990e-04, 1.14548633e-03, 2.86839937e-03,\n",
       "       3.85676847e-03, 4.11410679e-03, 4.93084298e-03, 4.01525576e-03,\n",
       "       5.14625677e-03, 6.07966204e-03, 5.34460339e-03, 3.98116255e-03,\n",
       "       4.35771861e-03, 4.11974473e-03, 2.79956214e-03, 2.11236156e-03,\n",
       "       1.48059099e-03, 1.39492899e-03, 8.19600804e-04, 7.64199179e-04,\n",
       "       1.85629700e-04, 3.66867851e-05, 9.73256407e-06, 3.08606048e-06,\n",
       "       0.00000000e+00, 0.00000000e+00, 2.81983044e-06, 1.78816845e-05,\n",
       "       1.15041053e-04, 5.33398462e-04, 1.37469429e-03, 2.59855432e-03,\n",
       "       3.35588596e-03, 5.50712117e-03, 5.82436804e-03, 4.63289570e-03,\n",
       "       6.51908784e-03, 6.23385310e-03, 6.93475257e-03, 2.52567100e-03,\n",
       "       3.39621330e-03, 3.67887111e-03, 2.30980072e-03, 1.51281389e-03,\n",
       "       1.43482501e-03, 1.39217384e-03, 8.38168493e-04, 5.16393892e-04,\n",
       "       1.71769978e-04, 3.47449641e-05, 1.85179157e-05, 3.21689318e-06,\n",
       "       0.00000000e+00, 0.00000000e+00, 4.57014091e-06, 3.25814189e-05,\n",
       "       1.43424715e-04, 6.24133777e-04, 1.84322677e-03, 2.18575564e-03,\n",
       "       3.22117563e-03, 4.08057481e-03, 4.77117986e-03, 6.84038693e-03,\n",
       "       4.91681121e-03, 7.55228834e-03, 4.44711092e-03, 3.07402623e-03,\n",
       "       2.25012170e-03, 2.14725623e-03, 1.64605785e-03, 1.57419393e-03,\n",
       "       1.29472837e-03, 9.55751732e-04, 6.47010781e-04, 3.96829173e-04,\n",
       "       1.59795210e-04, 7.42220977e-05, 1.15193129e-05, 5.08180025e-06,\n",
       "       5.11872613e-07, 1.46141668e-06, 7.82609230e-06, 6.10389692e-05,\n",
       "       1.24519346e-04, 5.49195691e-04, 1.58187719e-03, 2.66672644e-03,\n",
       "       2.90099340e-03, 3.45830603e-03, 5.67879645e-03, 5.17693450e-03,\n",
       "       4.24381923e-03, 4.21324315e-03, 2.45269484e-03, 1.97717559e-03,\n",
       "       1.32598969e-03, 2.37194307e-03, 2.61463673e-03, 2.64596430e-03,\n",
       "       1.67590092e-03, 8.01889105e-04, 6.20454476e-04, 3.84859090e-04,\n",
       "       1.73571454e-04, 6.49208744e-05, 1.04803787e-05, 0.00000000e+00,\n",
       "       0.00000000e+00, 2.64639912e-07, 6.28001971e-06, 6.89776513e-05,\n",
       "       2.89304512e-04, 6.67429903e-04, 1.55272528e-03, 2.95629705e-03,\n",
       "       3.79820187e-03, 4.83492520e-03, 5.48894190e-03, 5.44527271e-03,\n",
       "       3.73701292e-03, 2.33308788e-03, 1.79179852e-03, 1.51624002e-03,\n",
       "       1.30565925e-03, 2.15354340e-03, 3.64469101e-03, 3.09827629e-03,\n",
       "       1.68837567e-03, 1.19328847e-03, 5.94473893e-04, 4.16640554e-04,\n",
       "       2.57656694e-04, 2.59520391e-05, 2.99598328e-06, 0.00000000e+00,\n",
       "       0.00000000e+00, 0.00000000e+00, 8.65553189e-06, 8.34192162e-05,\n",
       "       2.33527503e-04, 6.86007695e-04, 1.13809156e-03, 4.59651607e-03,\n",
       "       5.39791193e-03, 5.73418682e-03, 3.91787567e-03, 3.51832183e-03,\n",
       "       3.12865930e-03, 2.31271905e-03, 1.86759324e-03, 1.45947474e-03,\n",
       "       1.46668900e-03, 2.00584699e-03, 2.11923584e-03, 1.89274584e-03,\n",
       "       1.25463674e-03, 7.62482391e-04, 5.13352007e-04, 5.02697541e-04,\n",
       "       9.17933231e-05, 1.12289045e-05, 4.85175472e-07, 0.00000000e+00,\n",
       "       0.00000000e+00, 0.00000000e+00, 2.23170283e-06, 6.40404105e-05,\n",
       "       1.88168941e-04, 5.21601148e-04, 1.23792682e-03, 3.28267429e-03,\n",
       "       4.37971976e-03, 3.62419810e-03, 2.89443179e-03, 1.88888840e-03,\n",
       "       1.47340383e-03, 1.33447941e-03, 1.33586152e-03, 1.16023361e-03,\n",
       "       1.34206393e-03, 1.05657600e-03, 1.46274810e-03, 1.00827832e-03,\n",
       "       1.07161185e-03, 4.10090490e-04, 2.38214390e-04, 1.44557204e-04,\n",
       "       5.05315870e-05, 5.32295762e-06, 2.01314188e-06, 0.00000000e+00,\n",
       "       0.00000000e+00, 0.00000000e+00, 2.40408028e-06, 2.15524294e-05,\n",
       "       1.20151175e-04, 3.11044601e-04, 7.87297568e-04, 1.44136831e-03,\n",
       "       2.38689683e-03, 3.08715288e-03, 2.86791995e-03, 2.84199280e-03,\n",
       "       1.94920635e-03, 1.54762921e-03, 1.83590680e-03, 1.39265964e-03,\n",
       "       1.29650306e-03, 1.04332965e-03, 8.27525289e-04, 7.10093259e-04,\n",
       "       4.38651449e-04, 2.98169254e-04, 1.54543373e-04, 6.13374395e-05,\n",
       "       2.69259804e-05, 5.23226370e-06, 2.29782392e-06, 0.00000000e+00,\n",
       "       0.00000000e+00, 0.00000000e+00, 5.13032562e-07, 1.60923344e-05,\n",
       "       6.28416943e-05, 1.36587997e-04, 3.38909335e-04, 1.04350519e-03,\n",
       "       1.21299078e-03, 1.66617632e-03, 3.05414644e-03, 4.33327589e-03,\n",
       "       4.74489170e-03, 3.65583700e-03, 4.42851570e-03, 2.86560060e-03,\n",
       "       1.58971895e-03, 1.35163645e-03, 7.42186644e-04, 3.42610259e-04,\n",
       "       2.33157637e-04, 1.41281600e-04, 6.19905080e-05, 2.85682012e-05,\n",
       "       1.14313697e-05, 7.12111002e-06, 0.00000000e+00, 0.00000000e+00,\n",
       "       0.00000000e+00, 0.00000000e+00, 1.41976625e-06, 1.56020907e-05,\n",
       "       6.03638183e-05, 1.00649024e-04, 2.31515300e-04, 4.12916831e-04,\n",
       "       5.93726318e-04, 9.67659034e-04, 1.38622880e-03, 1.75345389e-03,\n",
       "       1.37033447e-03, 1.34837311e-03, 9.84530384e-04, 6.48252669e-04,\n",
       "       6.07921575e-04, 4.57461179e-04, 3.36420315e-04, 2.30267344e-04,\n",
       "       1.59669636e-04, 8.18418577e-05, 3.96437618e-05, 3.47337715e-05,\n",
       "       6.31984810e-06, 1.87009082e-06, 0.00000000e+00, 0.00000000e+00,\n",
       "       0.00000000e+00, 0.00000000e+00, 4.70429073e-07, 1.04042633e-06,\n",
       "       1.51617923e-05, 5.56962841e-05, 1.02020393e-04, 2.67892895e-04,\n",
       "       3.90374380e-04, 5.59881400e-04, 6.40586797e-04, 1.18177664e-03,\n",
       "       1.21122806e-03, 1.09950652e-03, 6.44992580e-04, 3.62114039e-04,\n",
       "       4.60964030e-04, 5.78540602e-04, 3.85117931e-04, 1.69113733e-04,\n",
       "       9.37990620e-05, 2.76447085e-05, 2.25405671e-05, 4.18930815e-06,\n",
       "       2.41274017e-06, 9.22656781e-07, 5.19029360e-07, 0.00000000e+00,\n",
       "       0.00000000e+00, 0.00000000e+00, 0.00000000e+00, 0.00000000e+00,\n",
       "       7.36827181e-06, 7.39704756e-06, 1.74687541e-05, 4.42543396e-05,\n",
       "       3.95573124e-05, 6.41006546e-05, 1.19681621e-04, 1.09517277e-04,\n",
       "       1.41193001e-04, 1.26511401e-04, 2.01823800e-04, 1.44522072e-04,\n",
       "       1.19859306e-04, 2.09403148e-04, 5.19966749e-05, 3.72789735e-05,\n",
       "       7.64567453e-06, 7.53260892e-06, 1.79368413e-06, 4.69886395e-06,\n",
       "       1.39965371e-06, 0.00000000e+00, 0.00000000e+00, 0.00000000e+00,\n",
       "       0.00000000e+00, 0.00000000e+00, 0.00000000e+00, 0.00000000e+00,\n",
       "       0.00000000e+00, 0.00000000e+00, 0.00000000e+00, 0.00000000e+00,\n",
       "       0.00000000e+00, 4.13874306e-06, 3.85962077e-06, 4.59729443e-06,\n",
       "       2.75087849e-06, 4.99699495e-06, 3.30834361e-06, 1.33270996e-06,\n",
       "       3.16387471e-06, 6.35310715e-06, 4.56887947e-06, 5.12524557e-06,\n",
       "       1.28581865e-06, 5.12920936e-06, 2.01726347e-06, 0.00000000e+00,\n",
       "       0.00000000e+00, 0.00000000e+00, 0.00000000e+00, 0.00000000e+00])"
      ]
     },
     "execution_count": 19,
     "metadata": {},
     "output_type": "execute_result"
    }
   ],
   "source": [
    "rf.feature_importances_  # show me the importance of every feature"
   ]
  },
  {
   "cell_type": "code",
   "execution_count": 20,
   "id": "f6fba703",
   "metadata": {},
   "outputs": [
    {
     "data": {
      "text/plain": [
       "(784,)"
      ]
     },
     "execution_count": 20,
     "metadata": {},
     "output_type": "execute_result"
    }
   ],
   "source": [
    "rf.feature_importances_.shape"
   ]
  },
  {
   "cell_type": "code",
   "execution_count": 21,
   "id": "3f525563",
   "metadata": {},
   "outputs": [
    {
     "data": {
      "text/plain": [
       "<AxesSubplot:>"
      ]
     },
     "execution_count": 21,
     "metadata": {},
     "output_type": "execute_result"
    },
    {
     "data": {
      "image/png": "[encoded data removed]",
      "text/plain": [
       "<Figure size 432x288 with 2 Axes>"
      ]
     },
     "metadata": {
      "needs_background": "light"
     },
     "output_type": "display_data"
    }
   ],
   "source": [
    "sns.heatmap(rf.feature_importances_.reshape(28,28))"
   ]
  },
  {
   "cell_type": "code",
   "execution_count": null,
   "id": "9471359a",
   "metadata": {},
   "outputs": [],
   "source": []
  }
 ],
 "metadata": {
  "kernelspec": {
   "display_name": "Python 3",
   "language": "python",
   "name": "python3"
  },
  "language_info": {
   "codemirror_mode": {
    "name": "ipython",
    "version": 3
   },
   "file_extension": ".py",
   "mimetype": "text/x-python",
   "name": "python",
   "nbconvert_exporter": "python",
   "pygments_lexer": "ipython3",
   "version": "3.8.11"
  }
 },
 "nbformat": 4,
 "nbformat_minor": 5
}
